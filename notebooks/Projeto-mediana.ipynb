{
 "cells": [
  {
   "cell_type": "markdown",
   "id": "d035824f",
   "metadata": {},
   "source": [
    "# Redes sociais - P1\n",
    "Fernando Fincatti, Gabriela Moreno, Gabriella Cukier e Manuel Castanares\n",
    "\n",
    "---"
   ]
  },
  {
   "cell_type": "markdown",
   "id": "275c48d1",
   "metadata": {},
   "source": [
    "### Importando bibliotecas\n",
    "---"
   ]
  },
  {
   "cell_type": "code",
   "execution_count": 1,
   "id": "7f0bc593",
   "metadata": {},
   "outputs": [
    {
     "data": {
      "text/html": [
       "\n",
       "    <script src=\"/files/netpixi.min.js\"></script>\n"
      ],
      "text/plain": [
       "<IPython.core.display.HTML object>"
      ]
     },
     "metadata": {},
     "output_type": "display_data"
    }
   ],
   "source": [
    "import netpixi\n",
    "from netpixi.data.gt import *\n",
    "import cpnet\n",
    "from graph_tool import spectral\n",
    "import pandas as pd\n",
    "import statsmodels.formula.api as smf\n",
    "import numpy as np\n",
    "import matplotlib.pyplot as plt\n",
    "import seaborn as sns\n",
    "from math import sqrt\n",
    "sns.set()\n",
    "from matplotlib import rcParams\n",
    "import statsmodels.formula.api as smf\n",
    "import csv\n",
    "import pandas as pd\n",
    "from graph_tool import util\n",
    "from graph_tool import Graph\n",
    "from utils import *\n",
    "from graph_tool import clustering\n",
    "\n",
    "import seaborn as sns\n",
    "sns.set()"
   ]
  },
  {
   "cell_type": "markdown",
   "id": "443208c1",
   "metadata": {},
   "source": [
    "### Carrega dados\n",
    "---"
   ]
  },
  {
   "cell_type": "code",
   "execution_count": 2,
   "id": "acbea309",
   "metadata": {
    "scrolled": true
   },
   "outputs": [],
   "source": [
    "#carrega dados\n",
    "df = pd.read_csv('athlete_events.csv')\n",
    "df_noc = pd.read_csv('noc_regions.csv')\n",
    "df_gdp = pd.read_csv('countries of the world.csv')"
   ]
  },
  {
   "cell_type": "code",
   "execution_count": 3,
   "id": "8455ebd9",
   "metadata": {
    "scrolled": true
   },
   "outputs": [
    {
     "data": {
      "text/html": [
       "<div>\n",
       "<style scoped>\n",
       "    .dataframe tbody tr th:only-of-type {\n",
       "        vertical-align: middle;\n",
       "    }\n",
       "\n",
       "    .dataframe tbody tr th {\n",
       "        vertical-align: top;\n",
       "    }\n",
       "\n",
       "    .dataframe thead th {\n",
       "        text-align: right;\n",
       "    }\n",
       "</style>\n",
       "<table border=\"1\" class=\"dataframe\">\n",
       "  <thead>\n",
       "    <tr style=\"text-align: right;\">\n",
       "      <th></th>\n",
       "      <th>ID</th>\n",
       "      <th>Name</th>\n",
       "      <th>Sex</th>\n",
       "      <th>Age</th>\n",
       "      <th>Height</th>\n",
       "      <th>Weight</th>\n",
       "      <th>Team</th>\n",
       "      <th>NOC</th>\n",
       "      <th>Games</th>\n",
       "      <th>Year</th>\n",
       "      <th>Season</th>\n",
       "      <th>City</th>\n",
       "      <th>Sport</th>\n",
       "      <th>Event</th>\n",
       "      <th>Medal</th>\n",
       "    </tr>\n",
       "  </thead>\n",
       "  <tbody>\n",
       "    <tr>\n",
       "      <th>0</th>\n",
       "      <td>1</td>\n",
       "      <td>A Dijiang</td>\n",
       "      <td>M</td>\n",
       "      <td>24.0</td>\n",
       "      <td>180.0</td>\n",
       "      <td>80.0</td>\n",
       "      <td>China</td>\n",
       "      <td>CHN</td>\n",
       "      <td>1992 Summer</td>\n",
       "      <td>1992</td>\n",
       "      <td>Summer</td>\n",
       "      <td>Barcelona</td>\n",
       "      <td>Basketball</td>\n",
       "      <td>Basketball Men's Basketball</td>\n",
       "      <td>NaN</td>\n",
       "    </tr>\n",
       "    <tr>\n",
       "      <th>1</th>\n",
       "      <td>2</td>\n",
       "      <td>A Lamusi</td>\n",
       "      <td>M</td>\n",
       "      <td>23.0</td>\n",
       "      <td>170.0</td>\n",
       "      <td>60.0</td>\n",
       "      <td>China</td>\n",
       "      <td>CHN</td>\n",
       "      <td>2012 Summer</td>\n",
       "      <td>2012</td>\n",
       "      <td>Summer</td>\n",
       "      <td>London</td>\n",
       "      <td>Judo</td>\n",
       "      <td>Judo Men's Extra-Lightweight</td>\n",
       "      <td>NaN</td>\n",
       "    </tr>\n",
       "  </tbody>\n",
       "</table>\n",
       "</div>"
      ],
      "text/plain": [
       "   ID       Name Sex   Age  Height  Weight   Team  NOC        Games  Year  \\\n",
       "0   1  A Dijiang   M  24.0   180.0    80.0  China  CHN  1992 Summer  1992   \n",
       "1   2   A Lamusi   M  23.0   170.0    60.0  China  CHN  2012 Summer  2012   \n",
       "\n",
       "   Season       City       Sport                         Event Medal  \n",
       "0  Summer  Barcelona  Basketball   Basketball Men's Basketball   NaN  \n",
       "1  Summer     London        Judo  Judo Men's Extra-Lightweight   NaN  "
      ]
     },
     "execution_count": 3,
     "metadata": {},
     "output_type": "execute_result"
    }
   ],
   "source": [
    "df.head(2)"
   ]
  },
  {
   "cell_type": "code",
   "execution_count": 4,
   "id": "ebc48c0a",
   "metadata": {},
   "outputs": [
    {
     "data": {
      "text/html": [
       "<div>\n",
       "<style scoped>\n",
       "    .dataframe tbody tr th:only-of-type {\n",
       "        vertical-align: middle;\n",
       "    }\n",
       "\n",
       "    .dataframe tbody tr th {\n",
       "        vertical-align: top;\n",
       "    }\n",
       "\n",
       "    .dataframe thead th {\n",
       "        text-align: right;\n",
       "    }\n",
       "</style>\n",
       "<table border=\"1\" class=\"dataframe\">\n",
       "  <thead>\n",
       "    <tr style=\"text-align: right;\">\n",
       "      <th></th>\n",
       "      <th>NOC</th>\n",
       "      <th>region</th>\n",
       "      <th>notes</th>\n",
       "    </tr>\n",
       "  </thead>\n",
       "  <tbody>\n",
       "    <tr>\n",
       "      <th>0</th>\n",
       "      <td>AFG</td>\n",
       "      <td>Afghanistan</td>\n",
       "      <td>NaN</td>\n",
       "    </tr>\n",
       "    <tr>\n",
       "      <th>1</th>\n",
       "      <td>AHO</td>\n",
       "      <td>Curacao</td>\n",
       "      <td>Netherlands Antilles</td>\n",
       "    </tr>\n",
       "  </tbody>\n",
       "</table>\n",
       "</div>"
      ],
      "text/plain": [
       "   NOC       region                 notes\n",
       "0  AFG  Afghanistan                   NaN\n",
       "1  AHO      Curacao  Netherlands Antilles"
      ]
     },
     "execution_count": 4,
     "metadata": {},
     "output_type": "execute_result"
    }
   ],
   "source": [
    "df_noc.head(2)"
   ]
  },
  {
   "cell_type": "code",
   "execution_count": 5,
   "id": "ed1edb83",
   "metadata": {
    "scrolled": true
   },
   "outputs": [
    {
     "data": {
      "text/html": [
       "<div>\n",
       "<style scoped>\n",
       "    .dataframe tbody tr th:only-of-type {\n",
       "        vertical-align: middle;\n",
       "    }\n",
       "\n",
       "    .dataframe tbody tr th {\n",
       "        vertical-align: top;\n",
       "    }\n",
       "\n",
       "    .dataframe thead th {\n",
       "        text-align: right;\n",
       "    }\n",
       "</style>\n",
       "<table border=\"1\" class=\"dataframe\">\n",
       "  <thead>\n",
       "    <tr style=\"text-align: right;\">\n",
       "      <th></th>\n",
       "      <th>Country</th>\n",
       "      <th>Region</th>\n",
       "      <th>Population</th>\n",
       "      <th>Area (sq. mi.)</th>\n",
       "      <th>Pop. Density (per sq. mi.)</th>\n",
       "      <th>Coastline (coast/area ratio)</th>\n",
       "      <th>Net migration</th>\n",
       "      <th>Infant mortality (per 1000 births)</th>\n",
       "      <th>GDP ($ per capita)</th>\n",
       "      <th>Literacy (%)</th>\n",
       "      <th>Phones (per 1000)</th>\n",
       "      <th>Arable (%)</th>\n",
       "      <th>Crops (%)</th>\n",
       "      <th>Other (%)</th>\n",
       "      <th>Climate</th>\n",
       "      <th>Birthrate</th>\n",
       "      <th>Deathrate</th>\n",
       "      <th>Agriculture</th>\n",
       "      <th>Industry</th>\n",
       "      <th>Service</th>\n",
       "    </tr>\n",
       "  </thead>\n",
       "  <tbody>\n",
       "    <tr>\n",
       "      <th>0</th>\n",
       "      <td>Afghanistan</td>\n",
       "      <td>ASIA (EX. NEAR EAST)</td>\n",
       "      <td>31056997</td>\n",
       "      <td>647500</td>\n",
       "      <td>48,0</td>\n",
       "      <td>0,00</td>\n",
       "      <td>23,06</td>\n",
       "      <td>163,07</td>\n",
       "      <td>700.0</td>\n",
       "      <td>36,0</td>\n",
       "      <td>3,2</td>\n",
       "      <td>12,13</td>\n",
       "      <td>0,22</td>\n",
       "      <td>87,65</td>\n",
       "      <td>1</td>\n",
       "      <td>46,6</td>\n",
       "      <td>20,34</td>\n",
       "      <td>0,38</td>\n",
       "      <td>0,24</td>\n",
       "      <td>0,38</td>\n",
       "    </tr>\n",
       "    <tr>\n",
       "      <th>1</th>\n",
       "      <td>Albania</td>\n",
       "      <td>EASTERN EUROPE</td>\n",
       "      <td>3581655</td>\n",
       "      <td>28748</td>\n",
       "      <td>124,6</td>\n",
       "      <td>1,26</td>\n",
       "      <td>-4,93</td>\n",
       "      <td>21,52</td>\n",
       "      <td>4500.0</td>\n",
       "      <td>86,5</td>\n",
       "      <td>71,2</td>\n",
       "      <td>21,09</td>\n",
       "      <td>4,42</td>\n",
       "      <td>74,49</td>\n",
       "      <td>3</td>\n",
       "      <td>15,11</td>\n",
       "      <td>5,22</td>\n",
       "      <td>0,232</td>\n",
       "      <td>0,188</td>\n",
       "      <td>0,579</td>\n",
       "    </tr>\n",
       "  </tbody>\n",
       "</table>\n",
       "</div>"
      ],
      "text/plain": [
       "        Country                               Region  Population  \\\n",
       "0  Afghanistan         ASIA (EX. NEAR EAST)             31056997   \n",
       "1      Albania   EASTERN EUROPE                          3581655   \n",
       "\n",
       "   Area (sq. mi.) Pop. Density (per sq. mi.) Coastline (coast/area ratio)  \\\n",
       "0          647500                       48,0                         0,00   \n",
       "1           28748                      124,6                         1,26   \n",
       "\n",
       "  Net migration Infant mortality (per 1000 births)  GDP ($ per capita)  \\\n",
       "0         23,06                             163,07               700.0   \n",
       "1         -4,93                              21,52              4500.0   \n",
       "\n",
       "  Literacy (%) Phones (per 1000) Arable (%) Crops (%) Other (%) Climate  \\\n",
       "0         36,0               3,2      12,13      0,22     87,65       1   \n",
       "1         86,5              71,2      21,09      4,42     74,49       3   \n",
       "\n",
       "  Birthrate Deathrate Agriculture Industry Service  \n",
       "0      46,6     20,34        0,38     0,24    0,38  \n",
       "1     15,11      5,22       0,232    0,188   0,579  "
      ]
     },
     "execution_count": 5,
     "metadata": {},
     "output_type": "execute_result"
    }
   ],
   "source": [
    "df_gdp.head(2)"
   ]
  },
  {
   "cell_type": "code",
   "execution_count": 6,
   "id": "905663ae",
   "metadata": {},
   "outputs": [],
   "source": [
    "#junta ambas as tabelas\n",
    "df_merge=df.merge(df_noc,how=\"left\",on=\"NOC\")\n",
    "\n",
    "#dropa linhas sem a região\n",
    "df_merge=df_merge.dropna(subset=['region'])"
   ]
  },
  {
   "cell_type": "code",
   "execution_count": 7,
   "id": "9e517527",
   "metadata": {},
   "outputs": [
    {
     "data": {
      "text/html": [
       "<div>\n",
       "<style scoped>\n",
       "    .dataframe tbody tr th:only-of-type {\n",
       "        vertical-align: middle;\n",
       "    }\n",
       "\n",
       "    .dataframe tbody tr th {\n",
       "        vertical-align: top;\n",
       "    }\n",
       "\n",
       "    .dataframe thead th {\n",
       "        text-align: right;\n",
       "    }\n",
       "</style>\n",
       "<table border=\"1\" class=\"dataframe\">\n",
       "  <thead>\n",
       "    <tr style=\"text-align: right;\">\n",
       "      <th></th>\n",
       "      <th>ID</th>\n",
       "      <th>Name</th>\n",
       "      <th>Sex</th>\n",
       "      <th>Age</th>\n",
       "      <th>Height</th>\n",
       "      <th>Weight</th>\n",
       "      <th>Team</th>\n",
       "      <th>NOC</th>\n",
       "      <th>Games</th>\n",
       "      <th>Year</th>\n",
       "      <th>Season</th>\n",
       "      <th>City</th>\n",
       "      <th>Sport</th>\n",
       "      <th>Event</th>\n",
       "      <th>Medal</th>\n",
       "      <th>region</th>\n",
       "      <th>notes</th>\n",
       "    </tr>\n",
       "  </thead>\n",
       "  <tbody>\n",
       "    <tr>\n",
       "      <th>0</th>\n",
       "      <td>1</td>\n",
       "      <td>A Dijiang</td>\n",
       "      <td>M</td>\n",
       "      <td>24.0</td>\n",
       "      <td>180.0</td>\n",
       "      <td>80.0</td>\n",
       "      <td>China</td>\n",
       "      <td>CHN</td>\n",
       "      <td>1992 Summer</td>\n",
       "      <td>1992</td>\n",
       "      <td>Summer</td>\n",
       "      <td>Barcelona</td>\n",
       "      <td>Basketball</td>\n",
       "      <td>Basketball Men's Basketball</td>\n",
       "      <td>NaN</td>\n",
       "      <td>China</td>\n",
       "      <td>NaN</td>\n",
       "    </tr>\n",
       "    <tr>\n",
       "      <th>1</th>\n",
       "      <td>2</td>\n",
       "      <td>A Lamusi</td>\n",
       "      <td>M</td>\n",
       "      <td>23.0</td>\n",
       "      <td>170.0</td>\n",
       "      <td>60.0</td>\n",
       "      <td>China</td>\n",
       "      <td>CHN</td>\n",
       "      <td>2012 Summer</td>\n",
       "      <td>2012</td>\n",
       "      <td>Summer</td>\n",
       "      <td>London</td>\n",
       "      <td>Judo</td>\n",
       "      <td>Judo Men's Extra-Lightweight</td>\n",
       "      <td>NaN</td>\n",
       "      <td>China</td>\n",
       "      <td>NaN</td>\n",
       "    </tr>\n",
       "  </tbody>\n",
       "</table>\n",
       "</div>"
      ],
      "text/plain": [
       "   ID       Name Sex   Age  Height  Weight   Team  NOC        Games  Year  \\\n",
       "0   1  A Dijiang   M  24.0   180.0    80.0  China  CHN  1992 Summer  1992   \n",
       "1   2   A Lamusi   M  23.0   170.0    60.0  China  CHN  2012 Summer  2012   \n",
       "\n",
       "   Season       City       Sport                         Event Medal region  \\\n",
       "0  Summer  Barcelona  Basketball   Basketball Men's Basketball   NaN  China   \n",
       "1  Summer     London        Judo  Judo Men's Extra-Lightweight   NaN  China   \n",
       "\n",
       "  notes  \n",
       "0   NaN  \n",
       "1   NaN  "
      ]
     },
     "execution_count": 7,
     "metadata": {},
     "output_type": "execute_result"
    }
   ],
   "source": [
    "df_merge.head(2)"
   ]
  },
  {
   "cell_type": "markdown",
   "id": "45201f7e",
   "metadata": {},
   "source": [
    "### Amostragem\n",
    "---"
   ]
  },
  {
   "cell_type": "code",
   "execution_count": 8,
   "id": "634aec52",
   "metadata": {},
   "outputs": [],
   "source": [
    "#filtra somente datas posteriores a 1970\n",
    "df_merge=df_merge[df_merge[\"Year\"] > 1970]"
   ]
  },
  {
   "cell_type": "markdown",
   "id": "68017fa3",
   "metadata": {},
   "source": [
    "### Análise\n",
    "---"
   ]
  },
  {
   "cell_type": "code",
   "execution_count": 9,
   "id": "9c51860c",
   "metadata": {},
   "outputs": [],
   "source": [
    "#cria grafo não-dirigido\n",
    "g = Graph(directed=False)\n",
    "c = Graph(directed=False) "
   ]
  },
  {
   "cell_type": "code",
   "execution_count": 10,
   "id": "e8790e93",
   "metadata": {},
   "outputs": [],
   "source": [
    "df_merge['desempenho'] = df_merge['Medal'].apply(lambda x: desempenho(x))"
   ]
  },
  {
   "cell_type": "code",
   "execution_count": 11,
   "id": "f67a1562",
   "metadata": {},
   "outputs": [],
   "source": [
    "#dropa valores duplicados\n",
    "df_desempenho = df_merge.drop_duplicates(subset=[\"Year\",\"Sport\",\"region\"])\n",
    "\n",
    "#remove paises com desempenho 0\n",
    "df_desempenho = df_desempenho.loc[df_desempenho.desempenho>0]"
   ]
  },
  {
   "cell_type": "code",
   "execution_count": 12,
   "id": "ae7ab03e",
   "metadata": {},
   "outputs": [],
   "source": [
    "#pega o desempenho por país por esporte\n",
    "df_desempenho_pais = df_desempenho[[\"Sport\", \"region\", \"desempenho\"]].groupby([\"Sport\", \"region\"], as_index=False).sum()\n",
    "\n",
    "#calcula o desemepnho médio por esporte\n",
    "df_desempenho_media = df_desempenho_pais.groupby([\"Sport\"]).mean()\n",
    "\n",
    "#calcula a mediana do desemepnho por esporte\n",
    "df_desempenho_mediana = df_desempenho_pais.groupby([\"Sport\"]).median()"
   ]
  },
  {
   "cell_type": "code",
   "execution_count": 13,
   "id": "c9e8f2c3",
   "metadata": {},
   "outputs": [],
   "source": [
    "#adiciona o desempenho médio por esporte na tabela\n",
    "df_desempenho_pais[\"media\"] = df_desempenho_pais[\"Sport\"].apply(lambda x: \n",
    "              media(x, df_desempenho_media))\n",
    "\n",
    "#adiciona o desempenho médio por esporte na tabela\n",
    "df_desempenho_pais[\"mediana\"] = df_desempenho_pais[\"Sport\"].apply(lambda x: \n",
    "              media(x, df_desempenho_mediana))"
   ]
  },
  {
   "cell_type": "code",
   "execution_count": 14,
   "id": "20334e75",
   "metadata": {},
   "outputs": [],
   "source": [
    "#ajusta nome dos países na tabela\n",
    "df_gdp['Country'] = df_gdp['Country'].apply(lambda x: elimina_ultimo_caracter(x))"
   ]
  },
  {
   "cell_type": "code",
   "execution_count": 15,
   "id": "77eaaa79",
   "metadata": {},
   "outputs": [],
   "source": [
    "#dicionário com os nomes corretos\n",
    "dic_paises_nome = {\n",
    "    'South Korea': 'Korea, South',\n",
    "    'USA': 'United States',\n",
    "    'UK': 'United Kingdom',\n",
    "    'North Korea': 'Korea, North',\n",
    "    'Ivory Coast': \"Cote d'Ivoire\"\n",
    "}"
   ]
  },
  {
   "cell_type": "code",
   "execution_count": 16,
   "id": "f25863de",
   "metadata": {},
   "outputs": [],
   "source": [
    "#acerta o nome dos países\n",
    "df_desempenho_pais['region'] = df_desempenho_pais['region'].apply(lambda x: acerta_nome_paises(x, dic_paises_nome)) "
   ]
  },
  {
   "cell_type": "code",
   "execution_count": 17,
   "id": "dd0acc19",
   "metadata": {},
   "outputs": [],
   "source": [
    "#pega informações sobre cada país\n",
    "df_desempenho_pais = df_desempenho_pais.merge(df_gdp[[\"Country\",\"GDP ($ per capita)\"]],\n",
    "                                              how='left',\n",
    "                                              left_on=\"region\",\n",
    "                                              right_on=\"Country\",)"
   ]
  },
  {
   "cell_type": "code",
   "execution_count": 18,
   "id": "145fb977",
   "metadata": {},
   "outputs": [],
   "source": [
    "#remove alguns países irrelevantes\n",
    "df_desempenho_pais = df_desempenho_pais.dropna(subset=['GDP ($ per capita)'])"
   ]
  },
  {
   "cell_type": "code",
   "execution_count": 19,
   "id": "e439e34a",
   "metadata": {},
   "outputs": [
    {
     "data": {
      "text/html": [
       "<div>\n",
       "<style scoped>\n",
       "    .dataframe tbody tr th:only-of-type {\n",
       "        vertical-align: middle;\n",
       "    }\n",
       "\n",
       "    .dataframe tbody tr th {\n",
       "        vertical-align: top;\n",
       "    }\n",
       "\n",
       "    .dataframe thead th {\n",
       "        text-align: right;\n",
       "    }\n",
       "</style>\n",
       "<table border=\"1\" class=\"dataframe\">\n",
       "  <thead>\n",
       "    <tr style=\"text-align: right;\">\n",
       "      <th></th>\n",
       "      <th>Sport</th>\n",
       "      <th>region</th>\n",
       "      <th>desempenho</th>\n",
       "      <th>media</th>\n",
       "      <th>mediana</th>\n",
       "      <th>Country</th>\n",
       "      <th>GDP ($ per capita)</th>\n",
       "    </tr>\n",
       "  </thead>\n",
       "  <tbody>\n",
       "    <tr>\n",
       "      <th>0</th>\n",
       "      <td>Alpine Skiing</td>\n",
       "      <td>Australia</td>\n",
       "      <td>1</td>\n",
       "      <td>1.857143</td>\n",
       "      <td>2.0</td>\n",
       "      <td>Australia</td>\n",
       "      <td>29000.0</td>\n",
       "    </tr>\n",
       "    <tr>\n",
       "      <th>1</th>\n",
       "      <td>Alpine Skiing</td>\n",
       "      <td>Austria</td>\n",
       "      <td>3</td>\n",
       "      <td>1.857143</td>\n",
       "      <td>2.0</td>\n",
       "      <td>Austria</td>\n",
       "      <td>30000.0</td>\n",
       "    </tr>\n",
       "    <tr>\n",
       "      <th>2</th>\n",
       "      <td>Alpine Skiing</td>\n",
       "      <td>Czech Republic</td>\n",
       "      <td>1</td>\n",
       "      <td>1.857143</td>\n",
       "      <td>2.0</td>\n",
       "      <td>Czech Republic</td>\n",
       "      <td>15700.0</td>\n",
       "    </tr>\n",
       "    <tr>\n",
       "      <th>3</th>\n",
       "      <td>Alpine Skiing</td>\n",
       "      <td>France</td>\n",
       "      <td>2</td>\n",
       "      <td>1.857143</td>\n",
       "      <td>2.0</td>\n",
       "      <td>France</td>\n",
       "      <td>27600.0</td>\n",
       "    </tr>\n",
       "    <tr>\n",
       "      <th>4</th>\n",
       "      <td>Alpine Skiing</td>\n",
       "      <td>New Zealand</td>\n",
       "      <td>2</td>\n",
       "      <td>1.857143</td>\n",
       "      <td>2.0</td>\n",
       "      <td>New Zealand</td>\n",
       "      <td>21600.0</td>\n",
       "    </tr>\n",
       "  </tbody>\n",
       "</table>\n",
       "</div>"
      ],
      "text/plain": [
       "           Sport          region  desempenho     media  mediana  \\\n",
       "0  Alpine Skiing       Australia           1  1.857143      2.0   \n",
       "1  Alpine Skiing         Austria           3  1.857143      2.0   \n",
       "2  Alpine Skiing  Czech Republic           1  1.857143      2.0   \n",
       "3  Alpine Skiing          France           2  1.857143      2.0   \n",
       "4  Alpine Skiing     New Zealand           2  1.857143      2.0   \n",
       "\n",
       "          Country  GDP ($ per capita)  \n",
       "0       Australia             29000.0  \n",
       "1         Austria             30000.0  \n",
       "2  Czech Republic             15700.0  \n",
       "3          France             27600.0  \n",
       "4     New Zealand             21600.0  "
      ]
     },
     "execution_count": 19,
     "metadata": {},
     "output_type": "execute_result"
    }
   ],
   "source": [
    "df_desempenho_pais.head()"
   ]
  },
  {
   "cell_type": "code",
   "execution_count": 20,
   "id": "8deba9da",
   "metadata": {},
   "outputs": [],
   "source": [
    "#pega todos os times\n",
    "lista_teams = df_desempenho_pais.region.unique().tolist()\n",
    "\n",
    "#pega todos os eventos\n",
    "lista_eventos = df_desempenho_pais.Sport.unique().tolist()"
   ]
  },
  {
   "cell_type": "code",
   "execution_count": 21,
   "id": "8c625043",
   "metadata": {},
   "outputs": [],
   "source": [
    "g.vp['tipo'] = g.new_vp('object')\n",
    "g.vp['nome'] = g.new_vp('object')\n",
    "g.vp['color'] = g.new_vp('object')"
   ]
  },
  {
   "cell_type": "code",
   "execution_count": 22,
   "id": "10358158",
   "metadata": {},
   "outputs": [],
   "source": [
    "lista_vertices = lista_teams+lista_eventos"
   ]
  },
  {
   "cell_type": "code",
   "execution_count": 23,
   "id": "79266887",
   "metadata": {},
   "outputs": [
    {
     "name": "stdout",
     "output_type": "stream",
     "text": [
      "número de vértices de g: 148\n"
     ]
    }
   ],
   "source": [
    "#cria os times como vértices\n",
    "cria_vertices(g, lista_vertices, len(lista_teams))\n",
    "print('número de vértices de g:', g.num_vertices())"
   ]
  },
  {
   "cell_type": "code",
   "execution_count": 24,
   "id": "a9455e4e",
   "metadata": {},
   "outputs": [],
   "source": [
    "lista_arestas = list()\n",
    "\n",
    "#preenche a lista e o dicionario de acordo com as partidas e ocorrencias\n",
    "df_fake = df_desempenho_pais.apply(lambda x: \n",
    "              arestas(x.region, x.Sport, x.desempenho, x.mediana, lista_arestas),\n",
    "              axis=1)"
   ]
  },
  {
   "cell_type": "code",
   "execution_count": 25,
   "id": "f2f90c9e",
   "metadata": {},
   "outputs": [],
   "source": [
    "create_edgs_links(lista_arestas, g)"
   ]
  },
  {
   "cell_type": "markdown",
   "id": "1bd72581",
   "metadata": {},
   "source": [
    "### Análise 2\n",
    "---"
   ]
  },
  {
   "cell_type": "code",
   "execution_count": 26,
   "id": "f1a7d350",
   "metadata": {},
   "outputs": [],
   "source": [
    "c.vp['nome'] = c.new_vp('object') #adiciona propriedade aos vértices\n",
    "c.ep['peso'] = c.new_ep('object') #adiciona propriedade as arestas"
   ]
  },
  {
   "cell_type": "code",
   "execution_count": 27,
   "id": "cb76c008",
   "metadata": {},
   "outputs": [],
   "source": [
    "cria_nome_times(g, c) #cria vertíces"
   ]
  },
  {
   "cell_type": "code",
   "execution_count": 28,
   "id": "ae81a49d",
   "metadata": {},
   "outputs": [],
   "source": [
    "dicionario_one_mode, lista_one_mode = lista_esporte_por_time(g)"
   ]
  },
  {
   "cell_type": "code",
   "execution_count": 29,
   "id": "168d0a69",
   "metadata": {},
   "outputs": [],
   "source": [
    "dist = cria_arestas(c, dicionario_one_mode, lista_one_mode)"
   ]
  },
  {
   "cell_type": "markdown",
   "id": "52262d4a",
   "metadata": {},
   "source": [
    "### Visualizando grafo C\n",
    "---"
   ]
  },
  {
   "cell_type": "code",
   "execution_count": 30,
   "id": "2837a61f",
   "metadata": {},
   "outputs": [],
   "source": [
    "m = draw_gt.sfdp_layout(c)\n",
    "move_gt(c, m)"
   ]
  },
  {
   "cell_type": "code",
   "execution_count": 31,
   "id": "4710a075",
   "metadata": {},
   "outputs": [],
   "source": [
    "save_gt(c, 'exemplo_c.net.gz')"
   ]
  },
  {
   "cell_type": "code",
   "execution_count": 32,
   "id": "2219885c",
   "metadata": {},
   "outputs": [
    {
     "data": {
      "text/html": [
       "\n",
       "        <div id=\"CCwjuVpAGRKaE5VPtW7NDh\"></div>\n",
       "        <script>netpixi.render('CCwjuVpAGRKaE5VPtW7NDh', './exemplo_c.net.gz', 1.7777777777777777, true, true, false);</script>\n",
       "    "
      ],
      "text/plain": [
       "<IPython.core.display.HTML object>"
      ]
     },
     "metadata": {},
     "output_type": "display_data"
    }
   ],
   "source": [
    "r = netpixi.render('./exemplo_c.net.gz', infinite=True)"
   ]
  },
  {
   "cell_type": "code",
   "execution_count": 33,
   "id": "4226106c",
   "metadata": {},
   "outputs": [
    {
     "data": {
      "text/html": [
       "\n",
       "        <div id=\"SYJW5hHe8tsRJjkzRvHz7y\"></div>\n",
       "        <script>netpixi.call('SYJW5hHe8tsRJjkzRvHz7y', 'CCwjuVpAGRKaE5VPtW7NDh', 'changeGraph', 'eyJ0eXBlIjogInNldHRpbmdzIiwgInByb3BzIjogeyJncmFwaCI6IHsiY29sb3IiOiAxNjc3NzIxNX19fQo=');</script>\n",
       "    "
      ],
      "text/plain": [
       "<IPython.core.display.HTML object>"
      ]
     },
     "metadata": {},
     "output_type": "display_data"
    },
    {
     "data": {
      "text/html": [
       "\n",
       "        <div id=\"AW36SaPdwfwyNS9wDQiroB\"></div>\n",
       "        <script>netpixi.call('AW36SaPdwfwyNS9wDQiroB', 'CCwjuVpAGRKaE5VPtW7NDh', 'changeGraph', 'eyJ0eXBlIjogInNldHRpbmdzIiwgInByb3BzIjogeyJ2ZXJ0ZXgiOiB7ImNvbG9yIjogMzQ1MTgyLCAic2l6ZSI6IDE1fX19Cg==');</script>\n",
       "    "
      ],
      "text/plain": [
       "<IPython.core.display.HTML object>"
      ]
     },
     "metadata": {},
     "output_type": "display_data"
    },
    {
     "data": {
      "text/html": [
       "\n",
       "        <div id=\"RxjksL4Xn8FvRUCtedVLXT\"></div>\n",
       "        <script>netpixi.call('RxjksL4Xn8FvRUCtedVLXT', 'CCwjuVpAGRKaE5VPtW7NDh', 'changeGraph', 'eyJ0eXBlIjogInNldHRpbmdzIiwgInByb3BzIjogeyJlZGdlIjogeyJjb2xvciI6IDExNjU0MzY4LCAid2lkdGgiOiAxLCAiY3VydmUxIjogMCwgImN1cnZlMiI6IDB9fX0K');</script>\n",
       "    "
      ],
      "text/plain": [
       "<IPython.core.display.HTML object>"
      ]
     },
     "metadata": {},
     "output_type": "display_data"
    },
    {
     "data": {
      "text/html": [
       "\n",
       "        <div id=\"N7aU9uoEhqYaRRyTmXqc5g\"></div>\n",
       "        <script>netpixi.call('N7aU9uoEhqYaRRyTmXqc5g', 'CCwjuVpAGRKaE5VPtW7NDh', 'changeGraph', 'eyJ0eXBlIjogInNldHRpbmdzIiwgInByb3BzIjogeyJncmFwaCI6IHsiY29sb3IiOiAwfX19Cg==');</script>\n",
       "    "
      ],
      "text/plain": [
       "<IPython.core.display.HTML object>"
      ]
     },
     "metadata": {},
     "output_type": "display_data"
    },
    {
     "data": {
      "text/html": [
       "\n",
       "        <div id=\"6KAaEJBZ9ZbWjCG6Rz4rWt\"></div>\n",
       "        <script>netpixi.call('6KAaEJBZ9ZbWjCG6Rz4rWt', 'CCwjuVpAGRKaE5VPtW7NDh', 'changeGraph', 'eyJ0eXBlIjogInNldHRpbmdzIiwgInByb3BzIjogeyJ2ZXJ0ZXgiOiB7ImNvbG9yIjogMzQ1MTgyLCAic2l6ZSI6IDE1fX19Cg==');</script>\n",
       "    "
      ],
      "text/plain": [
       "<IPython.core.display.HTML object>"
      ]
     },
     "metadata": {},
     "output_type": "display_data"
    },
    {
     "data": {
      "text/html": [
       "\n",
       "        <div id=\"7ZsKuHUboyBhN87UAK7wJr\"></div>\n",
       "        <script>netpixi.call('7ZsKuHUboyBhN87UAK7wJr', 'CCwjuVpAGRKaE5VPtW7NDh', 'changeGraph', 'eyJ0eXBlIjogInNldHRpbmdzIiwgInByb3BzIjogeyJlZGdlIjogeyJjb2xvciI6IDExNjU0MzY4LCAid2lkdGgiOiAxLCAiY3VydmUxIjogMCwgImN1cnZlMiI6IDB9fX0K');</script>\n",
       "    "
      ],
      "text/plain": [
       "<IPython.core.display.HTML object>"
      ]
     },
     "metadata": {},
     "output_type": "display_data"
    },
    {
     "data": {
      "text/html": [
       "\n",
       "        <div id=\"QGdugNU3Gm9LqDecWVb7cH\"></div>\n",
       "        <script>netpixi.call('QGdugNU3Gm9LqDecWVb7cH', 'CCwjuVpAGRKaE5VPtW7NDh', 'changeGraph', 'eyJ0eXBlIjogInNldHRpbmdzIiwgInByb3BzIjogeyJncmFwaCI6IHsia3NjYWxlIjogNX19fQo=');</script>\n",
       "    "
      ],
      "text/plain": [
       "<IPython.core.display.HTML object>"
      ]
     },
     "metadata": {},
     "output_type": "display_data"
    },
    {
     "data": {
      "text/html": [
       "\n",
       "        <div id=\"WkciqgCGYnpFBvmuDAAptV\"></div>\n",
       "        <script>netpixi.call('WkciqgCGYnpFBvmuDAAptV', 'CCwjuVpAGRKaE5VPtW7NDh', 'changeGraph', 'eyJ0eXBlIjogInNldHRpbmdzIiwgInByb3BzIjogeyJ2ZXJ0ZXgiOiB7InNpemUiOiA2fX19Cg==');</script>\n",
       "    "
      ],
      "text/plain": [
       "<IPython.core.display.HTML object>"
      ]
     },
     "metadata": {},
     "output_type": "display_data"
    },
    {
     "data": {
      "text/html": [
       "\n",
       "        <div id=\"jQ9zbYLZNAh2SiBQj8dkTw\"></div>\n",
       "        <script>netpixi.call('jQ9zbYLZNAh2SiBQj8dkTw', 'CCwjuVpAGRKaE5VPtW7NDh', 'setGraph', 'eyJ0eXBlIjogInZlcnRleCIsICJwcm9wcyI6IHsic3JjIjogIm5vbWUiLCAiZHN0IjogIl9rZXkifX0K');</script>\n",
       "    "
      ],
      "text/plain": [
       "<IPython.core.display.HTML object>"
      ]
     },
     "metadata": {},
     "output_type": "display_data"
    },
    {
     "data": {
      "text/html": [
       "\n",
       "        <div id=\"J86o92gh8FbBFGpUGswCGg\"></div>\n",
       "        <script>netpixi.call('J86o92gh8FbBFGpUGswCGg', 'CCwjuVpAGRKaE5VPtW7NDh', 'normalizeGraph', 'eyJ0eXBlIjogImVkZ2UiLCAicHJvcHMiOiB7InNyYyI6ICJwZXNvIiwgIm1pbiI6IDEsICJtYXgiOiAzfX0K');</script>\n",
       "    "
      ],
      "text/plain": [
       "<IPython.core.display.HTML object>"
      ]
     },
     "metadata": {},
     "output_type": "display_data"
    }
   ],
   "source": [
    "# mudar a cor de fundo do grafo\n",
    "r.graph(color=0xffffff)\n",
    "\n",
    "# mudar a cor e o tamanho dos vértices\n",
    "r.vertex_default(color=0x05445E, size=15)\n",
    "\n",
    "# mudar a cor, a espessura e a curvatura das arestas\n",
    "r.edge_default(color=0xB1D4E0, width=1, curve1=0, curve2=0)\n",
    "\n",
    "\n",
    "# mudar a cor de fundo do grafo\n",
    "r.graph(color=0x0)\n",
    "\n",
    "# mudar a cor e o tamanho dos vértices\n",
    "r.vertex_default(color=0x05445E, size=15)\n",
    "\n",
    "# mudar a cor, a espessura e a curvatura das arestas\n",
    "r.edge_default(color=0xB1D4E0, width=1, curve1=0, curve2=0)\n",
    "\n",
    "\n",
    "r.graph(kscale=5) # Isto aumenta o tamanho dos nomes.\n",
    "r.vertex_default(size=6)\n",
    "r.vertex_set_key('nome')\n",
    "r.edge_scale('peso', 1, 3)"
   ]
  },
  {
   "cell_type": "markdown",
   "id": "69a05202",
   "metadata": {},
   "source": [
    "### Cluster coefficient\n",
    "---"
   ]
  },
  {
   "cell_type": "code",
   "execution_count": 34,
   "id": "c403a704",
   "metadata": {},
   "outputs": [],
   "source": [
    "cluster = clustering.local_clustering(c)"
   ]
  },
  {
   "cell_type": "code",
   "execution_count": 35,
   "id": "ee0dacac",
   "metadata": {},
   "outputs": [],
   "source": [
    "c.vp['clustering coefficient'] = cluster"
   ]
  },
  {
   "cell_type": "code",
   "execution_count": 36,
   "id": "c17af1db",
   "metadata": {},
   "outputs": [],
   "source": [
    "dft = pd.DataFrame({k: list(v) for k, v in c.vp.items()})"
   ]
  },
  {
   "cell_type": "code",
   "execution_count": 37,
   "id": "200d9629",
   "metadata": {},
   "outputs": [],
   "source": [
    "dft = dft.loc[dft['clustering coefficient'] != 0]"
   ]
  },
  {
   "cell_type": "markdown",
   "id": "fe6b6fac",
   "metadata": {},
   "source": [
    "### Salvando grafo e visualizando\n",
    "---"
   ]
  },
  {
   "cell_type": "code",
   "execution_count": 38,
   "id": "5aa30bdb",
   "metadata": {},
   "outputs": [],
   "source": [
    "top = []\n",
    "for v in g.vertices():\n",
    "    if g.vp['tipo'][v] == 'time':\n",
    "        top.append(v)"
   ]
  },
  {
   "cell_type": "code",
   "execution_count": 39,
   "id": "dd5f4192",
   "metadata": {},
   "outputs": [],
   "source": [
    "m = draw_gt.bipartite_layout(g, top)\n",
    "move_gt(g, m)"
   ]
  },
  {
   "cell_type": "code",
   "execution_count": 40,
   "id": "e3933347",
   "metadata": {},
   "outputs": [],
   "source": [
    "save_gt(g, 'exemplo.net.gz')"
   ]
  },
  {
   "cell_type": "code",
   "execution_count": 41,
   "id": "929a587d",
   "metadata": {
    "scrolled": true
   },
   "outputs": [
    {
     "data": {
      "text/html": [
       "\n",
       "        <div id=\"gRCK7wqr4nji2KACYLnL35\"></div>\n",
       "        <script>netpixi.render('gRCK7wqr4nji2KACYLnL35', './exemplo.net.gz', 1.7777777777777777, true, false, false);</script>\n",
       "    "
      ],
      "text/plain": [
       "<IPython.core.display.HTML object>"
      ]
     },
     "metadata": {},
     "output_type": "display_data"
    }
   ],
   "source": [
    "r = netpixi.render('./exemplo.net.gz')"
   ]
  },
  {
   "cell_type": "code",
   "execution_count": 42,
   "id": "071c82e3",
   "metadata": {},
   "outputs": [
    {
     "data": {
      "text/html": [
       "\n",
       "        <div id=\"ZQviX6dx7vksAi5AhLM2C5\"></div>\n",
       "        <script>netpixi.call('ZQviX6dx7vksAi5AhLM2C5', 'gRCK7wqr4nji2KACYLnL35', 'changeGraph', 'eyJ0eXBlIjogInNldHRpbmdzIiwgInByb3BzIjogeyJncmFwaCI6IHsiY29sb3IiOiAxNjc3NzIxNX19fQo=');</script>\n",
       "    "
      ],
      "text/plain": [
       "<IPython.core.display.HTML object>"
      ]
     },
     "metadata": {},
     "output_type": "display_data"
    },
    {
     "data": {
      "text/html": [
       "\n",
       "        <div id=\"oEUae3xJW6uE4PxjG2qnCc\"></div>\n",
       "        <script>netpixi.call('oEUae3xJW6uE4PxjG2qnCc', 'gRCK7wqr4nji2KACYLnL35', 'changeGraph', 'eyJ0eXBlIjogInNldHRpbmdzIiwgInByb3BzIjogeyJ2ZXJ0ZXgiOiB7ImNvbG9yIjogMCwgInNpemUiOiAxMH19fQo=');</script>\n",
       "    "
      ],
      "text/plain": [
       "<IPython.core.display.HTML object>"
      ]
     },
     "metadata": {},
     "output_type": "display_data"
    },
    {
     "data": {
      "text/html": [
       "\n",
       "        <div id=\"c5uwiDxWRn5PmUuMUwmxZD\"></div>\n",
       "        <script>netpixi.call('c5uwiDxWRn5PmUuMUwmxZD', 'gRCK7wqr4nji2KACYLnL35', 'changeGraph', 'eyJ0eXBlIjogInNldHRpbmdzIiwgInByb3BzIjogeyJlZGdlIjogeyJjb2xvciI6IDAsICJ3aWR0aCI6IDEsICJjdXJ2ZTEiOiAwLCAiY3VydmUyIjogMH19fQo=');</script>\n",
       "    "
      ],
      "text/plain": [
       "<IPython.core.display.HTML object>"
      ]
     },
     "metadata": {},
     "output_type": "display_data"
    },
    {
     "data": {
      "text/html": [
       "\n",
       "        <div id=\"BbwRcPepaowzvgrp8UY8jy\"></div>\n",
       "        <script>netpixi.call('BbwRcPepaowzvgrp8UY8jy', 'gRCK7wqr4nji2KACYLnL35', 'changeGraph', 'eyJzb3VyY2UiOiAwLCAidGFyZ2V0IjogMSwgInR5cGUiOiAiZWRnZSIsICJwcm9wcyI6IHsiY29sb3IiOiAyNTUsICJ3aWR0aCI6IDJ9fQo=');</script>\n",
       "    "
      ],
      "text/plain": [
       "<IPython.core.display.HTML object>"
      ]
     },
     "metadata": {},
     "output_type": "display_data"
    }
   ],
   "source": [
    "# mudar a cor de fundo do grafo\n",
    "r.graph(color=0xffffff)\n",
    "\n",
    "# mudar a cor e o tamanho dos vértices\n",
    "r.vertex_default(color=0x000000, size=10)\n",
    "\n",
    "# mudar a cor, a espessura e a curvatura das arestas\n",
    "r.edge_default(color=0x000000, width=1, curve1=0, curve2=0)\n",
    "\n",
    "# mudar uma aresta específica a partir dos ids de sua origem e destino\n",
    "r.edge(0, 1, color=0x0000ff, width=2)"
   ]
  },
  {
   "cell_type": "markdown",
   "id": "85e60fca",
   "metadata": {},
   "source": [
    "### Regressão\n",
    "---"
   ]
  },
  {
   "cell_type": "code",
   "execution_count": 43,
   "id": "324bd9d0",
   "metadata": {},
   "outputs": [
    {
     "data": {
      "text/html": [
       "<div>\n",
       "<style scoped>\n",
       "    .dataframe tbody tr th:only-of-type {\n",
       "        vertical-align: middle;\n",
       "    }\n",
       "\n",
       "    .dataframe tbody tr th {\n",
       "        vertical-align: top;\n",
       "    }\n",
       "\n",
       "    .dataframe thead th {\n",
       "        text-align: right;\n",
       "    }\n",
       "</style>\n",
       "<table border=\"1\" class=\"dataframe\">\n",
       "  <thead>\n",
       "    <tr style=\"text-align: right;\">\n",
       "      <th></th>\n",
       "      <th>ID</th>\n",
       "      <th>Name</th>\n",
       "      <th>Sex</th>\n",
       "      <th>Age</th>\n",
       "      <th>Height</th>\n",
       "      <th>Weight</th>\n",
       "      <th>Team</th>\n",
       "      <th>NOC</th>\n",
       "      <th>Games</th>\n",
       "      <th>Year</th>\n",
       "      <th>Season</th>\n",
       "      <th>City</th>\n",
       "      <th>Sport</th>\n",
       "      <th>Event</th>\n",
       "      <th>Medal</th>\n",
       "      <th>region</th>\n",
       "      <th>notes</th>\n",
       "      <th>desempenho</th>\n",
       "    </tr>\n",
       "  </thead>\n",
       "  <tbody>\n",
       "    <tr>\n",
       "      <th>40</th>\n",
       "      <td>16</td>\n",
       "      <td>Juhamatti Tapio Aaltonen</td>\n",
       "      <td>M</td>\n",
       "      <td>28.0</td>\n",
       "      <td>184.0</td>\n",
       "      <td>85.0</td>\n",
       "      <td>Finland</td>\n",
       "      <td>FIN</td>\n",
       "      <td>2014 Winter</td>\n",
       "      <td>2014</td>\n",
       "      <td>Winter</td>\n",
       "      <td>Sochi</td>\n",
       "      <td>Ice Hockey</td>\n",
       "      <td>Ice Hockey Men's Ice Hockey</td>\n",
       "      <td>Bronze</td>\n",
       "      <td>Finland</td>\n",
       "      <td>NaN</td>\n",
       "      <td>1</td>\n",
       "    </tr>\n",
       "    <tr>\n",
       "      <th>63</th>\n",
       "      <td>20</td>\n",
       "      <td>Kjetil Andr Aamodt</td>\n",
       "      <td>M</td>\n",
       "      <td>22.0</td>\n",
       "      <td>176.0</td>\n",
       "      <td>85.0</td>\n",
       "      <td>Norway</td>\n",
       "      <td>NOR</td>\n",
       "      <td>1994 Winter</td>\n",
       "      <td>1994</td>\n",
       "      <td>Winter</td>\n",
       "      <td>Lillehammer</td>\n",
       "      <td>Alpine Skiing</td>\n",
       "      <td>Alpine Skiing Men's Downhill</td>\n",
       "      <td>Silver</td>\n",
       "      <td>Norway</td>\n",
       "      <td>NaN</td>\n",
       "      <td>2</td>\n",
       "    </tr>\n",
       "    <tr>\n",
       "      <th>79</th>\n",
       "      <td>21</td>\n",
       "      <td>Ragnhild Margrethe Aamodt</td>\n",
       "      <td>F</td>\n",
       "      <td>27.0</td>\n",
       "      <td>163.0</td>\n",
       "      <td>NaN</td>\n",
       "      <td>Norway</td>\n",
       "      <td>NOR</td>\n",
       "      <td>2008 Summer</td>\n",
       "      <td>2008</td>\n",
       "      <td>Summer</td>\n",
       "      <td>Beijing</td>\n",
       "      <td>Handball</td>\n",
       "      <td>Handball Women's Handball</td>\n",
       "      <td>Gold</td>\n",
       "      <td>Norway</td>\n",
       "      <td>NaN</td>\n",
       "      <td>3</td>\n",
       "    </tr>\n",
       "    <tr>\n",
       "      <th>91</th>\n",
       "      <td>29</td>\n",
       "      <td>Willemien Aardenburg</td>\n",
       "      <td>F</td>\n",
       "      <td>22.0</td>\n",
       "      <td>NaN</td>\n",
       "      <td>NaN</td>\n",
       "      <td>Netherlands</td>\n",
       "      <td>NED</td>\n",
       "      <td>1988 Summer</td>\n",
       "      <td>1988</td>\n",
       "      <td>Summer</td>\n",
       "      <td>Seoul</td>\n",
       "      <td>Hockey</td>\n",
       "      <td>Hockey Women's Hockey</td>\n",
       "      <td>Bronze</td>\n",
       "      <td>Netherlands</td>\n",
       "      <td>NaN</td>\n",
       "      <td>1</td>\n",
       "    </tr>\n",
       "    <tr>\n",
       "      <th>92</th>\n",
       "      <td>30</td>\n",
       "      <td>Pepijn Aardewijn</td>\n",
       "      <td>M</td>\n",
       "      <td>26.0</td>\n",
       "      <td>189.0</td>\n",
       "      <td>72.0</td>\n",
       "      <td>Netherlands</td>\n",
       "      <td>NED</td>\n",
       "      <td>1996 Summer</td>\n",
       "      <td>1996</td>\n",
       "      <td>Summer</td>\n",
       "      <td>Atlanta</td>\n",
       "      <td>Rowing</td>\n",
       "      <td>Rowing Men's Lightweight Double Sculls</td>\n",
       "      <td>Silver</td>\n",
       "      <td>Netherlands</td>\n",
       "      <td>NaN</td>\n",
       "      <td>2</td>\n",
       "    </tr>\n",
       "    <tr>\n",
       "      <th>...</th>\n",
       "      <td>...</td>\n",
       "      <td>...</td>\n",
       "      <td>...</td>\n",
       "      <td>...</td>\n",
       "      <td>...</td>\n",
       "      <td>...</td>\n",
       "      <td>...</td>\n",
       "      <td>...</td>\n",
       "      <td>...</td>\n",
       "      <td>...</td>\n",
       "      <td>...</td>\n",
       "      <td>...</td>\n",
       "      <td>...</td>\n",
       "      <td>...</td>\n",
       "      <td>...</td>\n",
       "      <td>...</td>\n",
       "      <td>...</td>\n",
       "      <td>...</td>\n",
       "    </tr>\n",
       "    <tr>\n",
       "      <th>247957</th>\n",
       "      <td>124148</td>\n",
       "      <td>Wietse Cornelis van Alten</td>\n",
       "      <td>M</td>\n",
       "      <td>21.0</td>\n",
       "      <td>186.0</td>\n",
       "      <td>72.0</td>\n",
       "      <td>Netherlands</td>\n",
       "      <td>NED</td>\n",
       "      <td>2000 Summer</td>\n",
       "      <td>2000</td>\n",
       "      <td>Summer</td>\n",
       "      <td>Sydney</td>\n",
       "      <td>Archery</td>\n",
       "      <td>Archery Men's Individual</td>\n",
       "      <td>Bronze</td>\n",
       "      <td>Netherlands</td>\n",
       "      <td>NaN</td>\n",
       "      <td>1</td>\n",
       "    </tr>\n",
       "    <tr>\n",
       "      <th>248235</th>\n",
       "      <td>124277</td>\n",
       "      <td>Robert Van de Walle</td>\n",
       "      <td>M</td>\n",
       "      <td>26.0</td>\n",
       "      <td>187.0</td>\n",
       "      <td>95.0</td>\n",
       "      <td>Belgium</td>\n",
       "      <td>BEL</td>\n",
       "      <td>1980 Summer</td>\n",
       "      <td>1980</td>\n",
       "      <td>Summer</td>\n",
       "      <td>Moskva</td>\n",
       "      <td>Judo</td>\n",
       "      <td>Judo Men's Half-Heavyweight</td>\n",
       "      <td>Gold</td>\n",
       "      <td>Belgium</td>\n",
       "      <td>NaN</td>\n",
       "      <td>3</td>\n",
       "    </tr>\n",
       "    <tr>\n",
       "      <th>254146</th>\n",
       "      <td>127250</td>\n",
       "      <td>Gintar Volungeviit-Scheidt</td>\n",
       "      <td>F</td>\n",
       "      <td>25.0</td>\n",
       "      <td>172.0</td>\n",
       "      <td>63.0</td>\n",
       "      <td>Lithuania</td>\n",
       "      <td>LTU</td>\n",
       "      <td>2008 Summer</td>\n",
       "      <td>2008</td>\n",
       "      <td>Summer</td>\n",
       "      <td>Beijing</td>\n",
       "      <td>Sailing</td>\n",
       "      <td>Sailing Women's One Person Dinghy</td>\n",
       "      <td>Silver</td>\n",
       "      <td>Lithuania</td>\n",
       "      <td>NaN</td>\n",
       "      <td>2</td>\n",
       "    </tr>\n",
       "    <tr>\n",
       "      <th>260747</th>\n",
       "      <td>130468</td>\n",
       "      <td>David Robert Wilkins</td>\n",
       "      <td>M</td>\n",
       "      <td>30.0</td>\n",
       "      <td>175.0</td>\n",
       "      <td>75.0</td>\n",
       "      <td>Ireland</td>\n",
       "      <td>IRL</td>\n",
       "      <td>1980 Summer</td>\n",
       "      <td>1980</td>\n",
       "      <td>Summer</td>\n",
       "      <td>Moskva</td>\n",
       "      <td>Sailing</td>\n",
       "      <td>Sailing Mixed Two Person Heavyweight Dinghy</td>\n",
       "      <td>Silver</td>\n",
       "      <td>Ireland</td>\n",
       "      <td>NaN</td>\n",
       "      <td>2</td>\n",
       "    </tr>\n",
       "    <tr>\n",
       "      <th>268448</th>\n",
       "      <td>134296</td>\n",
       "      <td>Vsevolods Zeonijs</td>\n",
       "      <td>M</td>\n",
       "      <td>27.0</td>\n",
       "      <td>172.0</td>\n",
       "      <td>76.0</td>\n",
       "      <td>Latvia</td>\n",
       "      <td>LAT</td>\n",
       "      <td>2000 Summer</td>\n",
       "      <td>2000</td>\n",
       "      <td>Summer</td>\n",
       "      <td>Sydney</td>\n",
       "      <td>Judo</td>\n",
       "      <td>Judo Men's Lightweight</td>\n",
       "      <td>Bronze</td>\n",
       "      <td>Latvia</td>\n",
       "      <td>NaN</td>\n",
       "      <td>1</td>\n",
       "    </tr>\n",
       "  </tbody>\n",
       "</table>\n",
       "<p>1368 rows × 18 columns</p>\n",
       "</div>"
      ],
      "text/plain": [
       "            ID                        Name Sex   Age  Height  Weight  \\\n",
       "40          16    Juhamatti Tapio Aaltonen   M  28.0   184.0    85.0   \n",
       "63          20          Kjetil Andr Aamodt   M  22.0   176.0    85.0   \n",
       "79          21   Ragnhild Margrethe Aamodt   F  27.0   163.0     NaN   \n",
       "91          29        Willemien Aardenburg   F  22.0     NaN     NaN   \n",
       "92          30            Pepijn Aardewijn   M  26.0   189.0    72.0   \n",
       "...        ...                         ...  ..   ...     ...     ...   \n",
       "247957  124148   Wietse Cornelis van Alten   M  21.0   186.0    72.0   \n",
       "248235  124277         Robert Van de Walle   M  26.0   187.0    95.0   \n",
       "254146  127250  Gintar Volungeviit-Scheidt   F  25.0   172.0    63.0   \n",
       "260747  130468        David Robert Wilkins   M  30.0   175.0    75.0   \n",
       "268448  134296           Vsevolods Zeonijs   M  27.0   172.0    76.0   \n",
       "\n",
       "               Team  NOC        Games  Year  Season         City  \\\n",
       "40          Finland  FIN  2014 Winter  2014  Winter        Sochi   \n",
       "63           Norway  NOR  1994 Winter  1994  Winter  Lillehammer   \n",
       "79           Norway  NOR  2008 Summer  2008  Summer      Beijing   \n",
       "91      Netherlands  NED  1988 Summer  1988  Summer        Seoul   \n",
       "92      Netherlands  NED  1996 Summer  1996  Summer      Atlanta   \n",
       "...             ...  ...          ...   ...     ...          ...   \n",
       "247957  Netherlands  NED  2000 Summer  2000  Summer       Sydney   \n",
       "248235      Belgium  BEL  1980 Summer  1980  Summer       Moskva   \n",
       "254146    Lithuania  LTU  2008 Summer  2008  Summer      Beijing   \n",
       "260747      Ireland  IRL  1980 Summer  1980  Summer       Moskva   \n",
       "268448       Latvia  LAT  2000 Summer  2000  Summer       Sydney   \n",
       "\n",
       "                Sport                                        Event   Medal  \\\n",
       "40         Ice Hockey                  Ice Hockey Men's Ice Hockey  Bronze   \n",
       "63      Alpine Skiing                 Alpine Skiing Men's Downhill  Silver   \n",
       "79           Handball                    Handball Women's Handball    Gold   \n",
       "91             Hockey                        Hockey Women's Hockey  Bronze   \n",
       "92             Rowing       Rowing Men's Lightweight Double Sculls  Silver   \n",
       "...               ...                                          ...     ...   \n",
       "247957        Archery                     Archery Men's Individual  Bronze   \n",
       "248235           Judo                  Judo Men's Half-Heavyweight    Gold   \n",
       "254146        Sailing            Sailing Women's One Person Dinghy  Silver   \n",
       "260747        Sailing  Sailing Mixed Two Person Heavyweight Dinghy  Silver   \n",
       "268448           Judo                       Judo Men's Lightweight  Bronze   \n",
       "\n",
       "             region notes  desempenho  \n",
       "40          Finland   NaN           1  \n",
       "63           Norway   NaN           2  \n",
       "79           Norway   NaN           3  \n",
       "91      Netherlands   NaN           1  \n",
       "92      Netherlands   NaN           2  \n",
       "...             ...   ...         ...  \n",
       "247957  Netherlands   NaN           1  \n",
       "248235      Belgium   NaN           3  \n",
       "254146    Lithuania   NaN           2  \n",
       "260747      Ireland   NaN           2  \n",
       "268448       Latvia   NaN           1  \n",
       "\n",
       "[1368 rows x 18 columns]"
      ]
     },
     "execution_count": 43,
     "metadata": {},
     "output_type": "execute_result"
    }
   ],
   "source": [
    "df_desempenho"
   ]
  },
  {
   "cell_type": "code",
   "execution_count": 44,
   "id": "98903724",
   "metadata": {},
   "outputs": [],
   "source": [
    "df_desempenho_pais_total = df_desempenho[[\"region\", \"desempenho\"]].groupby([\"region\"], as_index=False).sum()"
   ]
  },
  {
   "cell_type": "code",
   "execution_count": 45,
   "id": "ceb71704",
   "metadata": {},
   "outputs": [],
   "source": [
    "df_desempenho_pais_total = df_desempenho_pais_total.merge(df_gdp[[\"Country\",\"GDP ($ per capita)\"]],\n",
    "                                              how='left',\n",
    "                                              left_on=\"region\",\n",
    "                                              right_on=\"Country\")\n",
    "\n",
    "df_desempenho_pais_total = df_desempenho_pais_total.merge(dft,\n",
    "                                              how='left',\n",
    "                                              left_on=\"region\",\n",
    "                                              right_on=\"nome\")"
   ]
  },
  {
   "cell_type": "code",
   "execution_count": 46,
   "id": "7386c026",
   "metadata": {},
   "outputs": [
    {
     "data": {
      "text/html": [
       "<div>\n",
       "<style scoped>\n",
       "    .dataframe tbody tr th:only-of-type {\n",
       "        vertical-align: middle;\n",
       "    }\n",
       "\n",
       "    .dataframe tbody tr th {\n",
       "        vertical-align: top;\n",
       "    }\n",
       "\n",
       "    .dataframe thead th {\n",
       "        text-align: right;\n",
       "    }\n",
       "</style>\n",
       "<table border=\"1\" class=\"dataframe\">\n",
       "  <thead>\n",
       "    <tr style=\"text-align: right;\">\n",
       "      <th></th>\n",
       "      <th>region</th>\n",
       "      <th>desempenho</th>\n",
       "      <th>Country</th>\n",
       "      <th>GDP ($ per capita)</th>\n",
       "      <th>nome</th>\n",
       "      <th>_x</th>\n",
       "      <th>_y</th>\n",
       "      <th>clustering coefficient</th>\n",
       "    </tr>\n",
       "  </thead>\n",
       "  <tbody>\n",
       "    <tr>\n",
       "      <th>0</th>\n",
       "      <td>Algeria</td>\n",
       "      <td>1</td>\n",
       "      <td>Algeria</td>\n",
       "      <td>6000.0</td>\n",
       "      <td>Algeria</td>\n",
       "      <td>3.535703</td>\n",
       "      <td>6.698877</td>\n",
       "      <td>1.000000</td>\n",
       "    </tr>\n",
       "    <tr>\n",
       "      <th>1</th>\n",
       "      <td>Argentina</td>\n",
       "      <td>26</td>\n",
       "      <td>Argentina</td>\n",
       "      <td>11200.0</td>\n",
       "      <td>Argentina</td>\n",
       "      <td>6.278176</td>\n",
       "      <td>5.948420</td>\n",
       "      <td>0.788732</td>\n",
       "    </tr>\n",
       "    <tr>\n",
       "      <th>2</th>\n",
       "      <td>Armenia</td>\n",
       "      <td>5</td>\n",
       "      <td>Armenia</td>\n",
       "      <td>3500.0</td>\n",
       "      <td>Armenia</td>\n",
       "      <td>10.192621</td>\n",
       "      <td>4.836212</td>\n",
       "      <td>0.934461</td>\n",
       "    </tr>\n",
       "    <tr>\n",
       "      <th>3</th>\n",
       "      <td>Australia</td>\n",
       "      <td>82</td>\n",
       "      <td>Australia</td>\n",
       "      <td>29000.0</td>\n",
       "      <td>Australia</td>\n",
       "      <td>8.685366</td>\n",
       "      <td>8.346560</td>\n",
       "      <td>0.693212</td>\n",
       "    </tr>\n",
       "    <tr>\n",
       "      <th>4</th>\n",
       "      <td>Austria</td>\n",
       "      <td>25</td>\n",
       "      <td>Austria</td>\n",
       "      <td>30000.0</td>\n",
       "      <td>Austria</td>\n",
       "      <td>9.590700</td>\n",
       "      <td>10.888999</td>\n",
       "      <td>0.891684</td>\n",
       "    </tr>\n",
       "  </tbody>\n",
       "</table>\n",
       "</div>"
      ],
      "text/plain": [
       "      region  desempenho    Country  GDP ($ per capita)       nome         _x  \\\n",
       "0    Algeria           1    Algeria              6000.0    Algeria   3.535703   \n",
       "1  Argentina          26  Argentina             11200.0  Argentina   6.278176   \n",
       "2    Armenia           5    Armenia              3500.0    Armenia  10.192621   \n",
       "3  Australia          82  Australia             29000.0  Australia   8.685366   \n",
       "4    Austria          25    Austria             30000.0    Austria   9.590700   \n",
       "\n",
       "          _y  clustering coefficient  \n",
       "0   6.698877                1.000000  \n",
       "1   5.948420                0.788732  \n",
       "2   4.836212                0.934461  \n",
       "3   8.346560                0.693212  \n",
       "4  10.888999                0.891684  "
      ]
     },
     "execution_count": 46,
     "metadata": {},
     "output_type": "execute_result"
    }
   ],
   "source": [
    "df_desempenho_pais_total.head()"
   ]
  },
  {
   "cell_type": "code",
   "execution_count": 47,
   "id": "8293c531",
   "metadata": {},
   "outputs": [
    {
     "data": {
      "text/html": [
       "<div>\n",
       "<style scoped>\n",
       "    .dataframe tbody tr th:only-of-type {\n",
       "        vertical-align: middle;\n",
       "    }\n",
       "\n",
       "    .dataframe tbody tr th {\n",
       "        vertical-align: top;\n",
       "    }\n",
       "\n",
       "    .dataframe thead th {\n",
       "        text-align: right;\n",
       "    }\n",
       "</style>\n",
       "<table border=\"1\" class=\"dataframe\">\n",
       "  <thead>\n",
       "    <tr style=\"text-align: right;\">\n",
       "      <th></th>\n",
       "      <th>region</th>\n",
       "      <th>desempenho</th>\n",
       "      <th>Country</th>\n",
       "      <th>GDP ($ per capita)</th>\n",
       "      <th>nome</th>\n",
       "      <th>_x</th>\n",
       "      <th>_y</th>\n",
       "      <th>clustering coefficient</th>\n",
       "    </tr>\n",
       "  </thead>\n",
       "  <tbody>\n",
       "    <tr>\n",
       "      <th>0</th>\n",
       "      <td>Algeria</td>\n",
       "      <td>1</td>\n",
       "      <td>Algeria</td>\n",
       "      <td>6000.0</td>\n",
       "      <td>Algeria</td>\n",
       "      <td>3.535703</td>\n",
       "      <td>6.698877</td>\n",
       "      <td>1.000000</td>\n",
       "    </tr>\n",
       "    <tr>\n",
       "      <th>1</th>\n",
       "      <td>Argentina</td>\n",
       "      <td>26</td>\n",
       "      <td>Argentina</td>\n",
       "      <td>11200.0</td>\n",
       "      <td>Argentina</td>\n",
       "      <td>6.278176</td>\n",
       "      <td>5.948420</td>\n",
       "      <td>0.788732</td>\n",
       "    </tr>\n",
       "    <tr>\n",
       "      <th>2</th>\n",
       "      <td>Armenia</td>\n",
       "      <td>5</td>\n",
       "      <td>Armenia</td>\n",
       "      <td>3500.0</td>\n",
       "      <td>Armenia</td>\n",
       "      <td>10.192621</td>\n",
       "      <td>4.836212</td>\n",
       "      <td>0.934461</td>\n",
       "    </tr>\n",
       "    <tr>\n",
       "      <th>3</th>\n",
       "      <td>Australia</td>\n",
       "      <td>82</td>\n",
       "      <td>Australia</td>\n",
       "      <td>29000.0</td>\n",
       "      <td>Australia</td>\n",
       "      <td>8.685366</td>\n",
       "      <td>8.346560</td>\n",
       "      <td>0.693212</td>\n",
       "    </tr>\n",
       "    <tr>\n",
       "      <th>4</th>\n",
       "      <td>Austria</td>\n",
       "      <td>25</td>\n",
       "      <td>Austria</td>\n",
       "      <td>30000.0</td>\n",
       "      <td>Austria</td>\n",
       "      <td>9.590700</td>\n",
       "      <td>10.888999</td>\n",
       "      <td>0.891684</td>\n",
       "    </tr>\n",
       "    <tr>\n",
       "      <th>...</th>\n",
       "      <td>...</td>\n",
       "      <td>...</td>\n",
       "      <td>...</td>\n",
       "      <td>...</td>\n",
       "      <td>...</td>\n",
       "      <td>...</td>\n",
       "      <td>...</td>\n",
       "      <td>...</td>\n",
       "    </tr>\n",
       "    <tr>\n",
       "      <th>96</th>\n",
       "      <td>Uzbekistan</td>\n",
       "      <td>8</td>\n",
       "      <td>Uzbekistan</td>\n",
       "      <td>1700.0</td>\n",
       "      <td>Uzbekistan</td>\n",
       "      <td>5.258753</td>\n",
       "      <td>10.399158</td>\n",
       "      <td>0.901812</td>\n",
       "    </tr>\n",
       "    <tr>\n",
       "      <th>97</th>\n",
       "      <td>Venezuela</td>\n",
       "      <td>2</td>\n",
       "      <td>Venezuela</td>\n",
       "      <td>4800.0</td>\n",
       "      <td>Venezuela</td>\n",
       "      <td>4.136082</td>\n",
       "      <td>7.178226</td>\n",
       "      <td>0.909774</td>\n",
       "    </tr>\n",
       "    <tr>\n",
       "      <th>98</th>\n",
       "      <td>Vietnam</td>\n",
       "      <td>5</td>\n",
       "      <td>Vietnam</td>\n",
       "      <td>2500.0</td>\n",
       "      <td>Vietnam</td>\n",
       "      <td>11.826212</td>\n",
       "      <td>6.646347</td>\n",
       "      <td>0.911406</td>\n",
       "    </tr>\n",
       "    <tr>\n",
       "      <th>99</th>\n",
       "      <td>Zambia</td>\n",
       "      <td>2</td>\n",
       "      <td>Zambia</td>\n",
       "      <td>800.0</td>\n",
       "      <td>Zambia</td>\n",
       "      <td>3.633875</td>\n",
       "      <td>12.540440</td>\n",
       "      <td>1.000000</td>\n",
       "    </tr>\n",
       "    <tr>\n",
       "      <th>100</th>\n",
       "      <td>Zimbabwe</td>\n",
       "      <td>3</td>\n",
       "      <td>Zimbabwe</td>\n",
       "      <td>1900.0</td>\n",
       "      <td>Zimbabwe</td>\n",
       "      <td>13.580654</td>\n",
       "      <td>8.223579</td>\n",
       "      <td>1.000000</td>\n",
       "    </tr>\n",
       "  </tbody>\n",
       "</table>\n",
       "<p>101 rows × 8 columns</p>\n",
       "</div>"
      ],
      "text/plain": [
       "         region  desempenho     Country  GDP ($ per capita)        nome  \\\n",
       "0       Algeria           1     Algeria              6000.0     Algeria   \n",
       "1     Argentina          26   Argentina             11200.0   Argentina   \n",
       "2       Armenia           5     Armenia              3500.0     Armenia   \n",
       "3     Australia          82   Australia             29000.0   Australia   \n",
       "4       Austria          25     Austria             30000.0     Austria   \n",
       "..          ...         ...         ...                 ...         ...   \n",
       "96   Uzbekistan           8  Uzbekistan              1700.0  Uzbekistan   \n",
       "97    Venezuela           2   Venezuela              4800.0   Venezuela   \n",
       "98      Vietnam           5     Vietnam              2500.0     Vietnam   \n",
       "99       Zambia           2      Zambia               800.0      Zambia   \n",
       "100    Zimbabwe           3    Zimbabwe              1900.0    Zimbabwe   \n",
       "\n",
       "            _x         _y  clustering coefficient  \n",
       "0     3.535703   6.698877                1.000000  \n",
       "1     6.278176   5.948420                0.788732  \n",
       "2    10.192621   4.836212                0.934461  \n",
       "3     8.685366   8.346560                0.693212  \n",
       "4     9.590700  10.888999                0.891684  \n",
       "..         ...        ...                     ...  \n",
       "96    5.258753  10.399158                0.901812  \n",
       "97    4.136082   7.178226                0.909774  \n",
       "98   11.826212   6.646347                0.911406  \n",
       "99    3.633875  12.540440                1.000000  \n",
       "100  13.580654   8.223579                1.000000  \n",
       "\n",
       "[101 rows x 8 columns]"
      ]
     },
     "execution_count": 47,
     "metadata": {},
     "output_type": "execute_result"
    }
   ],
   "source": [
    "df_desempenho_pais_total"
   ]
  },
  {
   "cell_type": "code",
   "execution_count": 62,
   "id": "1ebfb36d",
   "metadata": {},
   "outputs": [],
   "source": [
    "#pega informações sobre cada país\n",
    "df_desempenho_pais_total = df_desempenho_pais_total.merge(df_gdp[[\"Country\",\"Population\"]],\n",
    "                                              how='left',\n",
    "                                              left_on=\"region\",\n",
    "                                              right_on=\"Country\",)"
   ]
  },
  {
   "cell_type": "code",
   "execution_count": 63,
   "id": "09ca3e92",
   "metadata": {},
   "outputs": [],
   "source": [
    "df_desempenho_pais_total['y'] = df_desempenho_pais_total['GDP ($ per capita)']\n",
    "df_desempenho_pais_total['c'] = df_desempenho_pais_total['clustering coefficient']\n",
    "df_desempenho_pais_total['pop'] = df_desempenho_pais_total['Population']"
   ]
  },
  {
   "cell_type": "code",
   "execution_count": 64,
   "id": "638dc391",
   "metadata": {},
   "outputs": [
    {
     "data": {
      "text/html": [
       "<table class=\"simpletable\">\n",
       "<caption>OLS Regression Results</caption>\n",
       "<tr>\n",
       "  <th>Dep. Variable:</th>       <td>desempenho</td>    <th>  R-squared:         </th> <td>   0.165</td>\n",
       "</tr>\n",
       "<tr>\n",
       "  <th>Model:</th>                   <td>OLS</td>       <th>  Adj. R-squared:    </th> <td>   0.156</td>\n",
       "</tr>\n",
       "<tr>\n",
       "  <th>Method:</th>             <td>Least Squares</td>  <th>  F-statistic:       </th> <td>   17.99</td>\n",
       "</tr>\n",
       "<tr>\n",
       "  <th>Date:</th>             <td>Mon, 22 Nov 2021</td> <th>  Prob (F-statistic):</th> <td>5.33e-05</td>\n",
       "</tr>\n",
       "<tr>\n",
       "  <th>Time:</th>                 <td>14:02:20</td>     <th>  Log-Likelihood:    </th> <td> -459.55</td>\n",
       "</tr>\n",
       "<tr>\n",
       "  <th>No. Observations:</th>      <td>    93</td>      <th>  AIC:               </th> <td>   923.1</td>\n",
       "</tr>\n",
       "<tr>\n",
       "  <th>Df Residuals:</th>          <td>    91</td>      <th>  BIC:               </th> <td>   928.2</td>\n",
       "</tr>\n",
       "<tr>\n",
       "  <th>Df Model:</th>              <td>     1</td>      <th>                     </th>     <td> </td>   \n",
       "</tr>\n",
       "<tr>\n",
       "  <th>Covariance Type:</th>      <td>nonrobust</td>    <th>                     </th>     <td> </td>   \n",
       "</tr>\n",
       "</table>\n",
       "<table class=\"simpletable\">\n",
       "<tr>\n",
       "      <td></td>         <th>coef</th>     <th>std err</th>      <th>t</th>      <th>P>|t|</th>  <th>[0.025</th>    <th>0.975]</th>  \n",
       "</tr>\n",
       "<tr>\n",
       "  <th>Intercept</th> <td>    7.1337</td> <td>    5.308</td> <td>    1.344</td> <td> 0.182</td> <td>   -3.410</td> <td>   17.678</td>\n",
       "</tr>\n",
       "<tr>\n",
       "  <th>y</th>         <td>    0.0015</td> <td>    0.000</td> <td>    4.241</td> <td> 0.000</td> <td>    0.001</td> <td>    0.002</td>\n",
       "</tr>\n",
       "</table>\n",
       "<table class=\"simpletable\">\n",
       "<tr>\n",
       "  <th>Omnibus:</th>       <td>112.319</td> <th>  Durbin-Watson:     </th> <td>   1.780</td>\n",
       "</tr>\n",
       "<tr>\n",
       "  <th>Prob(Omnibus):</th> <td> 0.000</td>  <th>  Jarque-Bera (JB):  </th> <td>2196.977</td>\n",
       "</tr>\n",
       "<tr>\n",
       "  <th>Skew:</th>          <td> 3.948</td>  <th>  Prob(JB):          </th> <td>    0.00</td>\n",
       "</tr>\n",
       "<tr>\n",
       "  <th>Kurtosis:</th>      <td>25.464</td>  <th>  Cond. No.          </th> <td>2.25e+04</td>\n",
       "</tr>\n",
       "</table><br/><br/>Notes:<br/>[1] Standard Errors assume that the covariance matrix of the errors is correctly specified.<br/>[2] The condition number is large, 2.25e+04. This might indicate that there are<br/>strong multicollinearity or other numerical problems."
      ],
      "text/plain": [
       "<class 'statsmodels.iolib.summary.Summary'>\n",
       "\"\"\"\n",
       "                            OLS Regression Results                            \n",
       "==============================================================================\n",
       "Dep. Variable:             desempenho   R-squared:                       0.165\n",
       "Model:                            OLS   Adj. R-squared:                  0.156\n",
       "Method:                 Least Squares   F-statistic:                     17.99\n",
       "Date:                Mon, 22 Nov 2021   Prob (F-statistic):           5.33e-05\n",
       "Time:                        14:02:20   Log-Likelihood:                -459.55\n",
       "No. Observations:                  93   AIC:                             923.1\n",
       "Df Residuals:                      91   BIC:                             928.2\n",
       "Df Model:                           1                                         \n",
       "Covariance Type:            nonrobust                                         \n",
       "==============================================================================\n",
       "                 coef    std err          t      P>|t|      [0.025      0.975]\n",
       "------------------------------------------------------------------------------\n",
       "Intercept      7.1337      5.308      1.344      0.182      -3.410      17.678\n",
       "y              0.0015      0.000      4.241      0.000       0.001       0.002\n",
       "==============================================================================\n",
       "Omnibus:                      112.319   Durbin-Watson:                   1.780\n",
       "Prob(Omnibus):                  0.000   Jarque-Bera (JB):             2196.977\n",
       "Skew:                           3.948   Prob(JB):                         0.00\n",
       "Kurtosis:                      25.464   Cond. No.                     2.25e+04\n",
       "==============================================================================\n",
       "\n",
       "Notes:\n",
       "[1] Standard Errors assume that the covariance matrix of the errors is correctly specified.\n",
       "[2] The condition number is large, 2.25e+04. This might indicate that there are\n",
       "strong multicollinearity or other numerical problems.\n",
       "\"\"\""
      ]
     },
     "execution_count": 64,
     "metadata": {},
     "output_type": "execute_result"
    }
   ],
   "source": [
    "model = smf.ols(data=df_desempenho_pais_total, formula='desempenho ~ y')\n",
    "result = model.fit()\n",
    "result.summary()"
   ]
  },
  {
   "cell_type": "code",
   "execution_count": 65,
   "id": "622f92fe",
   "metadata": {},
   "outputs": [
    {
     "data": {
      "image/png": "[encoded data removed]",
      "text/plain": [
       "<Figure size 432x288 with 1 Axes>"
      ]
     },
     "metadata": {},
     "output_type": "display_data"
    }
   ],
   "source": [
    "sns.regplot(x=df_desempenho_pais_total['desempenho'], y=(df_desempenho_pais_total['y']))\n",
    "plt.show()"
   ]
  },
  {
   "cell_type": "code",
   "execution_count": 66,
   "id": "01b7effc",
   "metadata": {},
   "outputs": [
    {
     "data": {
      "text/plain": [
       "count    101.000000\n",
       "mean      25.861386\n",
       "std       40.729358\n",
       "min        1.000000\n",
       "25%        3.000000\n",
       "50%        7.000000\n",
       "75%       37.000000\n",
       "max      252.000000\n",
       "Name: desempenho, dtype: float64"
      ]
     },
     "execution_count": 66,
     "metadata": {},
     "output_type": "execute_result"
    }
   ],
   "source": [
    "df_desempenho_pais_total.desempenho.describe()\n"
   ]
  },
  {
   "cell_type": "markdown",
   "id": "5c887fd7",
   "metadata": {},
   "source": [
    "### Conclusão\n",
    "---"
   ]
  },
  {
   "cell_type": "markdown",
   "id": "d1f2e0d1",
   "metadata": {},
   "source": [
    "Com base na regressão feita acima, podemos ver que o coeficiente é muito pequeno. O $R^2$ obtido também é muito pequeno, mostrando que não há um bom fit entre as duas variáveis. Além disso, os valores para o eixo X (desempenho) também são muito parecidos, o que faz o gráfico ficar \"empilhado\", isso é possível confirmar apartir da visualização acima. Portanto podemos rejeitar a hipótese de que mais riqueza signifca mais desempenho."
   ]
  },
  {
   "cell_type": "markdown",
   "id": "44ce2e30",
   "metadata": {},
   "source": [
    "## Clustering Coefficient X Desempenho"
   ]
  },
  {
   "cell_type": "code",
   "execution_count": 67,
   "id": "267fc48b",
   "metadata": {},
   "outputs": [],
   "source": [
    "df_desempenho_cluster = df_desempenho_pais_total.dropna(subset=['clustering coefficient'])"
   ]
  },
  {
   "cell_type": "code",
   "execution_count": 68,
   "id": "3d254db9",
   "metadata": {
    "scrolled": false
   },
   "outputs": [
    {
     "data": {
      "text/html": [
       "<table class=\"simpletable\">\n",
       "<caption>OLS Regression Results</caption>\n",
       "<tr>\n",
       "  <th>Dep. Variable:</th>       <td>desempenho</td>    <th>  R-squared:         </th> <td>   0.519</td>\n",
       "</tr>\n",
       "<tr>\n",
       "  <th>Model:</th>                   <td>OLS</td>       <th>  Adj. R-squared:    </th> <td>   0.514</td>\n",
       "</tr>\n",
       "<tr>\n",
       "  <th>Method:</th>             <td>Least Squares</td>  <th>  F-statistic:       </th> <td>   98.34</td>\n",
       "</tr>\n",
       "<tr>\n",
       "  <th>Date:</th>             <td>Mon, 22 Nov 2021</td> <th>  Prob (F-statistic):</th> <td>3.81e-16</td>\n",
       "</tr>\n",
       "<tr>\n",
       "  <th>Time:</th>                 <td>14:02:23</td>     <th>  Log-Likelihood:    </th> <td> -433.86</td>\n",
       "</tr>\n",
       "<tr>\n",
       "  <th>No. Observations:</th>      <td>    93</td>      <th>  AIC:               </th> <td>   871.7</td>\n",
       "</tr>\n",
       "<tr>\n",
       "  <th>Df Residuals:</th>          <td>    91</td>      <th>  BIC:               </th> <td>   876.8</td>\n",
       "</tr>\n",
       "<tr>\n",
       "  <th>Df Model:</th>              <td>     1</td>      <th>                     </th>     <td> </td>   \n",
       "</tr>\n",
       "<tr>\n",
       "  <th>Covariance Type:</th>      <td>nonrobust</td>    <th>                     </th>     <td> </td>   \n",
       "</tr>\n",
       "</table>\n",
       "<table class=\"simpletable\">\n",
       "<tr>\n",
       "      <td></td>         <th>coef</th>     <th>std err</th>      <th>t</th>      <th>P>|t|</th>  <th>[0.025</th>    <th>0.975]</th>  \n",
       "</tr>\n",
       "<tr>\n",
       "  <th>Intercept</th> <td>  203.0139</td> <td>   18.265</td> <td>   11.115</td> <td> 0.000</td> <td>  166.734</td> <td>  239.294</td>\n",
       "</tr>\n",
       "<tr>\n",
       "  <th>c</th>         <td> -209.6676</td> <td>   21.143</td> <td>   -9.917</td> <td> 0.000</td> <td> -251.665</td> <td> -167.670</td>\n",
       "</tr>\n",
       "</table>\n",
       "<table class=\"simpletable\">\n",
       "<tr>\n",
       "  <th>Omnibus:</th>       <td>96.937</td> <th>  Durbin-Watson:     </th> <td>   2.165</td>\n",
       "</tr>\n",
       "<tr>\n",
       "  <th>Prob(Omnibus):</th> <td> 0.000</td> <th>  Jarque-Bera (JB):  </th> <td>1625.988</td>\n",
       "</tr>\n",
       "<tr>\n",
       "  <th>Skew:</th>          <td> 3.173</td> <th>  Prob(JB):          </th> <td>    0.00</td>\n",
       "</tr>\n",
       "<tr>\n",
       "  <th>Kurtosis:</th>      <td>22.477</td> <th>  Cond. No.          </th> <td>    13.6</td>\n",
       "</tr>\n",
       "</table><br/><br/>Notes:<br/>[1] Standard Errors assume that the covariance matrix of the errors is correctly specified."
      ],
      "text/plain": [
       "<class 'statsmodels.iolib.summary.Summary'>\n",
       "\"\"\"\n",
       "                            OLS Regression Results                            \n",
       "==============================================================================\n",
       "Dep. Variable:             desempenho   R-squared:                       0.519\n",
       "Model:                            OLS   Adj. R-squared:                  0.514\n",
       "Method:                 Least Squares   F-statistic:                     98.34\n",
       "Date:                Mon, 22 Nov 2021   Prob (F-statistic):           3.81e-16\n",
       "Time:                        14:02:23   Log-Likelihood:                -433.86\n",
       "No. Observations:                  93   AIC:                             871.7\n",
       "Df Residuals:                      91   BIC:                             876.8\n",
       "Df Model:                           1                                         \n",
       "Covariance Type:            nonrobust                                         \n",
       "==============================================================================\n",
       "                 coef    std err          t      P>|t|      [0.025      0.975]\n",
       "------------------------------------------------------------------------------\n",
       "Intercept    203.0139     18.265     11.115      0.000     166.734     239.294\n",
       "c           -209.6676     21.143     -9.917      0.000    -251.665    -167.670\n",
       "==============================================================================\n",
       "Omnibus:                       96.937   Durbin-Watson:                   2.165\n",
       "Prob(Omnibus):                  0.000   Jarque-Bera (JB):             1625.988\n",
       "Skew:                           3.173   Prob(JB):                         0.00\n",
       "Kurtosis:                      22.477   Cond. No.                         13.6\n",
       "==============================================================================\n",
       "\n",
       "Notes:\n",
       "[1] Standard Errors assume that the covariance matrix of the errors is correctly specified.\n",
       "\"\"\""
      ]
     },
     "execution_count": 68,
     "metadata": {},
     "output_type": "execute_result"
    }
   ],
   "source": [
    "model = smf.ols(data=df_desempenho_cluster, formula='desempenho ~ c')\n",
    "result = model.fit()\n",
    "result.summary()"
   ]
  },
  {
   "cell_type": "code",
   "execution_count": 69,
   "id": "ae3bede5",
   "metadata": {},
   "outputs": [
    {
     "data": {
      "image/png": "[encoded data removed]",
      "text/plain": [
       "<Figure size 432x288 with 1 Axes>"
      ]
     },
     "metadata": {},
     "output_type": "display_data"
    }
   ],
   "source": [
    "sns.regplot(x=df_desempenho_cluster['desempenho'], y=df_desempenho_cluster['c'])\n",
    "plt.show()"
   ]
  },
  {
   "cell_type": "markdown",
   "id": "39ab118e",
   "metadata": {},
   "source": [
    "### Análise com variáveis de controle"
   ]
  },
  {
   "cell_type": "markdown",
   "id": "41604eb4",
   "metadata": {},
   "source": [
    "#### Desempenho X (Clustering Coefficient + GDP)"
   ]
  },
  {
   "cell_type": "code",
   "execution_count": 70,
   "id": "4118ff13",
   "metadata": {},
   "outputs": [
    {
     "data": {
      "image/png": "[encoded data removed]",
      "text/plain": [
       "<Figure size 432x288 with 1 Axes>"
      ]
     },
     "metadata": {},
     "output_type": "display_data"
    }
   ],
   "source": [
    "sns.regplot(x=df_desempenho_cluster['desempenho'], y=(df_desempenho_cluster['c'] + np.log(df_desempenho_cluster['y'])))\n",
    "plt.show()"
   ]
  },
  {
   "cell_type": "code",
   "execution_count": 72,
   "id": "145f67af",
   "metadata": {
    "scrolled": false
   },
   "outputs": [
    {
     "data": {
      "text/html": [
       "<table class=\"simpletable\">\n",
       "<caption>OLS Regression Results</caption>\n",
       "<tr>\n",
       "  <th>Dep. Variable:</th>       <td>desempenho</td>    <th>  R-squared:         </th> <td>   0.572</td>\n",
       "</tr>\n",
       "<tr>\n",
       "  <th>Model:</th>                   <td>OLS</td>       <th>  Adj. R-squared:    </th> <td>   0.558</td>\n",
       "</tr>\n",
       "<tr>\n",
       "  <th>Method:</th>             <td>Least Squares</td>  <th>  F-statistic:       </th> <td>   39.66</td>\n",
       "</tr>\n",
       "<tr>\n",
       "  <th>Date:</th>             <td>Mon, 22 Nov 2021</td> <th>  Prob (F-statistic):</th> <td>2.28e-16</td>\n",
       "</tr>\n",
       "<tr>\n",
       "  <th>Time:</th>                 <td>14:02:35</td>     <th>  Log-Likelihood:    </th> <td> -428.46</td>\n",
       "</tr>\n",
       "<tr>\n",
       "  <th>No. Observations:</th>      <td>    93</td>      <th>  AIC:               </th> <td>   864.9</td>\n",
       "</tr>\n",
       "<tr>\n",
       "  <th>Df Residuals:</th>          <td>    89</td>      <th>  BIC:               </th> <td>   875.0</td>\n",
       "</tr>\n",
       "<tr>\n",
       "  <th>Df Model:</th>              <td>     3</td>      <th>                     </th>     <td> </td>   \n",
       "</tr>\n",
       "<tr>\n",
       "  <th>Covariance Type:</th>      <td>nonrobust</td>    <th>                     </th>     <td> </td>   \n",
       "</tr>\n",
       "</table>\n",
       "<table class=\"simpletable\">\n",
       "<tr>\n",
       "      <td></td>         <th>coef</th>     <th>std err</th>      <th>t</th>      <th>P>|t|</th>  <th>[0.025</th>    <th>0.975]</th>  \n",
       "</tr>\n",
       "<tr>\n",
       "  <th>Intercept</th> <td>  167.0565</td> <td>   20.658</td> <td>    8.087</td> <td> 0.000</td> <td>  126.009</td> <td>  208.104</td>\n",
       "</tr>\n",
       "<tr>\n",
       "  <th>y</th>         <td>    0.0008</td> <td>    0.000</td> <td>    2.816</td> <td> 0.006</td> <td>    0.000</td> <td>    0.001</td>\n",
       "</tr>\n",
       "<tr>\n",
       "  <th>c</th>         <td> -180.0892</td> <td>   22.110</td> <td>   -8.145</td> <td> 0.000</td> <td> -224.021</td> <td> -136.157</td>\n",
       "</tr>\n",
       "<tr>\n",
       "  <th>pop</th>       <td> 3.448e-08</td> <td> 1.51e-08</td> <td>    2.284</td> <td> 0.025</td> <td> 4.49e-09</td> <td> 6.45e-08</td>\n",
       "</tr>\n",
       "</table>\n",
       "<table class=\"simpletable\">\n",
       "<tr>\n",
       "  <th>Omnibus:</th>       <td>119.939</td> <th>  Durbin-Watson:     </th> <td>   1.970</td>\n",
       "</tr>\n",
       "<tr>\n",
       "  <th>Prob(Omnibus):</th> <td> 0.000</td>  <th>  Jarque-Bera (JB):  </th> <td>3569.187</td>\n",
       "</tr>\n",
       "<tr>\n",
       "  <th>Skew:</th>          <td> 4.146</td>  <th>  Prob(JB):          </th> <td>    0.00</td>\n",
       "</tr>\n",
       "<tr>\n",
       "  <th>Kurtosis:</th>      <td>32.194</td>  <th>  Cond. No.          </th> <td>2.17e+09</td>\n",
       "</tr>\n",
       "</table><br/><br/>Notes:<br/>[1] Standard Errors assume that the covariance matrix of the errors is correctly specified.<br/>[2] The condition number is large, 2.17e+09. This might indicate that there are<br/>strong multicollinearity or other numerical problems."
      ],
      "text/plain": [
       "<class 'statsmodels.iolib.summary.Summary'>\n",
       "\"\"\"\n",
       "                            OLS Regression Results                            \n",
       "==============================================================================\n",
       "Dep. Variable:             desempenho   R-squared:                       0.572\n",
       "Model:                            OLS   Adj. R-squared:                  0.558\n",
       "Method:                 Least Squares   F-statistic:                     39.66\n",
       "Date:                Mon, 22 Nov 2021   Prob (F-statistic):           2.28e-16\n",
       "Time:                        14:02:35   Log-Likelihood:                -428.46\n",
       "No. Observations:                  93   AIC:                             864.9\n",
       "Df Residuals:                      89   BIC:                             875.0\n",
       "Df Model:                           3                                         \n",
       "Covariance Type:            nonrobust                                         \n",
       "==============================================================================\n",
       "                 coef    std err          t      P>|t|      [0.025      0.975]\n",
       "------------------------------------------------------------------------------\n",
       "Intercept    167.0565     20.658      8.087      0.000     126.009     208.104\n",
       "y              0.0008      0.000      2.816      0.006       0.000       0.001\n",
       "c           -180.0892     22.110     -8.145      0.000    -224.021    -136.157\n",
       "pop         3.448e-08   1.51e-08      2.284      0.025    4.49e-09    6.45e-08\n",
       "==============================================================================\n",
       "Omnibus:                      119.939   Durbin-Watson:                   1.970\n",
       "Prob(Omnibus):                  0.000   Jarque-Bera (JB):             3569.187\n",
       "Skew:                           4.146   Prob(JB):                         0.00\n",
       "Kurtosis:                      32.194   Cond. No.                     2.17e+09\n",
       "==============================================================================\n",
       "\n",
       "Notes:\n",
       "[1] Standard Errors assume that the covariance matrix of the errors is correctly specified.\n",
       "[2] The condition number is large, 2.17e+09. This might indicate that there are\n",
       "strong multicollinearity or other numerical problems.\n",
       "\"\"\""
      ]
     },
     "execution_count": 72,
     "metadata": {},
     "output_type": "execute_result"
    }
   ],
   "source": [
    "model = smf.ols(data=df_desempenho_cluster, formula='desempenho ~ y+c+pop')\n",
    "result = model.fit()\n",
    "result.summary()"
   ]
  },
  {
   "cell_type": "code",
   "execution_count": null,
   "id": "24a7866b",
   "metadata": {},
   "outputs": [],
   "source": []
  },
  {
   "cell_type": "markdown",
   "id": "a4a7da3a",
   "metadata": {},
   "source": [
    "#### Filtragem"
   ]
  },
  {
   "cell_type": "code",
   "execution_count": 57,
   "id": "d54650e1",
   "metadata": {},
   "outputs": [
    {
     "data": {
      "text/html": [
       "<div>\n",
       "<style scoped>\n",
       "    .dataframe tbody tr th:only-of-type {\n",
       "        vertical-align: middle;\n",
       "    }\n",
       "\n",
       "    .dataframe tbody tr th {\n",
       "        vertical-align: top;\n",
       "    }\n",
       "\n",
       "    .dataframe thead th {\n",
       "        text-align: right;\n",
       "    }\n",
       "</style>\n",
       "<table border=\"1\" class=\"dataframe\">\n",
       "  <thead>\n",
       "    <tr style=\"text-align: right;\">\n",
       "      <th></th>\n",
       "      <th>region</th>\n",
       "      <th>desempenho</th>\n",
       "      <th>Country</th>\n",
       "      <th>GDP ($ per capita)</th>\n",
       "      <th>nome</th>\n",
       "      <th>_x</th>\n",
       "      <th>_y</th>\n",
       "      <th>clustering coefficient</th>\n",
       "      <th>y</th>\n",
       "      <th>c</th>\n",
       "    </tr>\n",
       "  </thead>\n",
       "  <tbody>\n",
       "    <tr>\n",
       "      <th>14</th>\n",
       "      <td>China</td>\n",
       "      <td>120</td>\n",
       "      <td>China</td>\n",
       "      <td>5000.0</td>\n",
       "      <td>China</td>\n",
       "      <td>8.250292</td>\n",
       "      <td>7.613027</td>\n",
       "      <td>0.670862</td>\n",
       "      <td>5000.0</td>\n",
       "      <td>0.670862</td>\n",
       "    </tr>\n",
       "    <tr>\n",
       "      <th>29</th>\n",
       "      <td>Germany</td>\n",
       "      <td>142</td>\n",
       "      <td>Germany</td>\n",
       "      <td>27600.0</td>\n",
       "      <td>Germany</td>\n",
       "      <td>7.566999</td>\n",
       "      <td>7.187460</td>\n",
       "      <td>0.574527</td>\n",
       "      <td>27600.0</td>\n",
       "      <td>0.574527</td>\n",
       "    </tr>\n",
       "    <tr>\n",
       "      <th>75</th>\n",
       "      <td>Russia</td>\n",
       "      <td>252</td>\n",
       "      <td>Russia</td>\n",
       "      <td>8900.0</td>\n",
       "      <td>Russia</td>\n",
       "      <td>6.898850</td>\n",
       "      <td>7.443332</td>\n",
       "      <td>0.584430</td>\n",
       "      <td>8900.0</td>\n",
       "      <td>0.584430</td>\n",
       "    </tr>\n",
       "    <tr>\n",
       "      <th>93</th>\n",
       "      <td>USA</td>\n",
       "      <td>198</td>\n",
       "      <td>NaN</td>\n",
       "      <td>NaN</td>\n",
       "      <td>NaN</td>\n",
       "      <td>NaN</td>\n",
       "      <td>NaN</td>\n",
       "      <td>NaN</td>\n",
       "      <td>NaN</td>\n",
       "      <td>NaN</td>\n",
       "    </tr>\n",
       "  </tbody>\n",
       "</table>\n",
       "</div>"
      ],
      "text/plain": [
       "     region  desempenho  Country  GDP ($ per capita)     nome        _x  \\\n",
       "14    China         120    China              5000.0    China  8.250292   \n",
       "29  Germany         142  Germany             27600.0  Germany  7.566999   \n",
       "75   Russia         252   Russia              8900.0   Russia  6.898850   \n",
       "93      USA         198      NaN                 NaN      NaN       NaN   \n",
       "\n",
       "          _y  clustering coefficient        y         c  \n",
       "14  7.613027                0.670862   5000.0  0.670862  \n",
       "29  7.187460                0.574527  27600.0  0.574527  \n",
       "75  7.443332                0.584430   8900.0  0.584430  \n",
       "93       NaN                     NaN      NaN       NaN  "
      ]
     },
     "execution_count": 57,
     "metadata": {},
     "output_type": "execute_result"
    }
   ],
   "source": [
    "df_desempenho_pais_total[df_desempenho_pais_total['desempenho']>100]\n"
   ]
  },
  {
   "cell_type": "code",
   "execution_count": 58,
   "id": "9b404209",
   "metadata": {},
   "outputs": [],
   "source": [
    "df_desempenho_pais_filtered = df_desempenho_pais_total[df_desempenho_pais_total['desempenho']<100]"
   ]
  },
  {
   "cell_type": "code",
   "execution_count": 59,
   "id": "455d37c7",
   "metadata": {},
   "outputs": [],
   "source": [
    "df_desempenho_cluster = df_desempenho_pais_filtered.dropna(subset=['clustering coefficient'])"
   ]
  },
  {
   "cell_type": "code",
   "execution_count": 60,
   "id": "9249dc50",
   "metadata": {},
   "outputs": [
    {
     "data": {
      "text/html": [
       "<table class=\"simpletable\">\n",
       "<caption>OLS Regression Results</caption>\n",
       "<tr>\n",
       "  <th>Dep. Variable:</th>       <td>desempenho</td>    <th>  R-squared:         </th> <td>   0.741</td>\n",
       "</tr>\n",
       "<tr>\n",
       "  <th>Model:</th>                   <td>OLS</td>       <th>  Adj. R-squared:    </th> <td>   0.735</td>\n",
       "</tr>\n",
       "<tr>\n",
       "  <th>Method:</th>             <td>Least Squares</td>  <th>  F-statistic:       </th> <td>   124.7</td>\n",
       "</tr>\n",
       "<tr>\n",
       "  <th>Date:</th>             <td>Mon, 22 Nov 2021</td> <th>  Prob (F-statistic):</th> <td>2.80e-26</td>\n",
       "</tr>\n",
       "<tr>\n",
       "  <th>Time:</th>                 <td>14:01:56</td>     <th>  Log-Likelihood:    </th> <td> -351.53</td>\n",
       "</tr>\n",
       "<tr>\n",
       "  <th>No. Observations:</th>      <td>    90</td>      <th>  AIC:               </th> <td>   709.1</td>\n",
       "</tr>\n",
       "<tr>\n",
       "  <th>Df Residuals:</th>          <td>    87</td>      <th>  BIC:               </th> <td>   716.6</td>\n",
       "</tr>\n",
       "<tr>\n",
       "  <th>Df Model:</th>              <td>     2</td>      <th>                     </th>     <td> </td>   \n",
       "</tr>\n",
       "<tr>\n",
       "  <th>Covariance Type:</th>      <td>nonrobust</td>    <th>                     </th>     <td> </td>   \n",
       "</tr>\n",
       "</table>\n",
       "<table class=\"simpletable\">\n",
       "<tr>\n",
       "      <td></td>         <th>coef</th>     <th>std err</th>      <th>t</th>      <th>P>|t|</th>  <th>[0.025</th>    <th>0.975]</th>  \n",
       "</tr>\n",
       "<tr>\n",
       "  <th>Intercept</th> <td>  116.6185</td> <td>   10.525</td> <td>   11.080</td> <td> 0.000</td> <td>   95.698</td> <td>  137.539</td>\n",
       "</tr>\n",
       "<tr>\n",
       "  <th>y</th>         <td>    0.0009</td> <td>    0.000</td> <td>    6.749</td> <td> 0.000</td> <td>    0.001</td> <td>    0.001</td>\n",
       "</tr>\n",
       "<tr>\n",
       "  <th>c</th>         <td> -125.1135</td> <td>   11.378</td> <td>  -10.996</td> <td> 0.000</td> <td> -147.729</td> <td> -102.498</td>\n",
       "</tr>\n",
       "</table>\n",
       "<table class=\"simpletable\">\n",
       "<tr>\n",
       "  <th>Omnibus:</th>       <td> 0.368</td> <th>  Durbin-Watson:     </th> <td>   1.798</td>\n",
       "</tr>\n",
       "<tr>\n",
       "  <th>Prob(Omnibus):</th> <td> 0.832</td> <th>  Jarque-Bera (JB):  </th> <td>   0.452</td>\n",
       "</tr>\n",
       "<tr>\n",
       "  <th>Skew:</th>          <td> 0.145</td> <th>  Prob(JB):          </th> <td>   0.798</td>\n",
       "</tr>\n",
       "<tr>\n",
       "  <th>Kurtosis:</th>      <td> 2.808</td> <th>  Cond. No.          </th> <td>1.79e+05</td>\n",
       "</tr>\n",
       "</table><br/><br/>Notes:<br/>[1] Standard Errors assume that the covariance matrix of the errors is correctly specified.<br/>[2] The condition number is large, 1.79e+05. This might indicate that there are<br/>strong multicollinearity or other numerical problems."
      ],
      "text/plain": [
       "<class 'statsmodels.iolib.summary.Summary'>\n",
       "\"\"\"\n",
       "                            OLS Regression Results                            \n",
       "==============================================================================\n",
       "Dep. Variable:             desempenho   R-squared:                       0.741\n",
       "Model:                            OLS   Adj. R-squared:                  0.735\n",
       "Method:                 Least Squares   F-statistic:                     124.7\n",
       "Date:                Mon, 22 Nov 2021   Prob (F-statistic):           2.80e-26\n",
       "Time:                        14:01:56   Log-Likelihood:                -351.53\n",
       "No. Observations:                  90   AIC:                             709.1\n",
       "Df Residuals:                      87   BIC:                             716.6\n",
       "Df Model:                           2                                         \n",
       "Covariance Type:            nonrobust                                         \n",
       "==============================================================================\n",
       "                 coef    std err          t      P>|t|      [0.025      0.975]\n",
       "------------------------------------------------------------------------------\n",
       "Intercept    116.6185     10.525     11.080      0.000      95.698     137.539\n",
       "y              0.0009      0.000      6.749      0.000       0.001       0.001\n",
       "c           -125.1135     11.378    -10.996      0.000    -147.729    -102.498\n",
       "==============================================================================\n",
       "Omnibus:                        0.368   Durbin-Watson:                   1.798\n",
       "Prob(Omnibus):                  0.832   Jarque-Bera (JB):                0.452\n",
       "Skew:                           0.145   Prob(JB):                        0.798\n",
       "Kurtosis:                       2.808   Cond. No.                     1.79e+05\n",
       "==============================================================================\n",
       "\n",
       "Notes:\n",
       "[1] Standard Errors assume that the covariance matrix of the errors is correctly specified.\n",
       "[2] The condition number is large, 1.79e+05. This might indicate that there are\n",
       "strong multicollinearity or other numerical problems.\n",
       "\"\"\""
      ]
     },
     "execution_count": 60,
     "metadata": {},
     "output_type": "execute_result"
    }
   ],
   "source": [
    "model = smf.ols(data=df_desempenho_cluster, formula='desempenho ~ y+c')\n",
    "result = model.fit()\n",
    "result.summary()"
   ]
  },
  {
   "cell_type": "code",
   "execution_count": 61,
   "id": "97e7e662",
   "metadata": {},
   "outputs": [
    {
     "data": {
      "image/png": "[encoded data removed]",
      "text/plain": [
       "<Figure size 432x288 with 1 Axes>"
      ]
     },
     "metadata": {},
     "output_type": "display_data"
    }
   ],
   "source": [
    "sns.regplot(x=df_desempenho_cluster['desempenho'], y=df_desempenho_cluster['c'])\n",
    "plt.show()"
   ]
  },
  {
   "cell_type": "code",
   "execution_count": null,
   "id": "7499647c",
   "metadata": {},
   "outputs": [],
   "source": []
  },
  {
   "cell_type": "code",
   "execution_count": null,
   "id": "b931b1ae",
   "metadata": {},
   "outputs": [],
   "source": []
  }
 ],
 "metadata": {
  "kernelspec": {
   "display_name": "Python 3 (ipykernel)",
   "language": "python",
   "name": "python3"
  },
  "language_info": {
   "codemirror_mode": {
    "name": "ipython",
    "version": 3
   },
   "file_extension": ".py",
   "mimetype": "text/x-python",
   "name": "python",
   "nbconvert_exporter": "python",
   "pygments_lexer": "ipython3",
   "version": "3.7.11"
  }
 },
 "nbformat": 4,
 "nbformat_minor": 5
}
