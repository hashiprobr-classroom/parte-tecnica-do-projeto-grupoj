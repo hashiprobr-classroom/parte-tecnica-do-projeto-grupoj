{
 "cells": [
  {
   "cell_type": "markdown",
   "id": "d035824f",
   "metadata": {},
   "source": [
    "# Redes sociais - P1\n",
    "Fernando Fincatti, Gabriela Moreno, Gabriella Cukier e Manuel Castanares\n",
    "\n",
    "---"
   ]
  },
  {
   "cell_type": "markdown",
   "id": "275c48d1",
   "metadata": {},
   "source": [
    "### Importando bibliotecas\n",
    "---"
   ]
  },
  {
   "cell_type": "code",
   "execution_count": 1,
   "id": "7f0bc593",
   "metadata": {},
   "outputs": [
    {
     "data": {
      "text/html": [
       "\n",
       "    <script src=\"/files/netpixi.min.js\"></script>\n"
      ],
      "text/plain": [
       "<IPython.core.display.HTML object>"
      ]
     },
     "metadata": {},
     "output_type": "display_data"
    }
   ],
   "source": [
    "import netpixi\n",
    "from netpixi.data.gt import *\n",
    "import cpnet\n",
    "from graph_tool import spectral\n",
    "import pandas as pd\n",
    "import statsmodels.formula.api as smf\n",
    "import numpy as np\n",
    "import matplotlib.pyplot as plt\n",
    "import seaborn as sns\n",
    "from math import sqrt\n",
    "sns.set()\n",
    "from matplotlib import rcParams\n",
    "import statsmodels.formula.api as smf\n",
    "import csv\n",
    "import pandas as pd\n",
    "from graph_tool import util\n",
    "from graph_tool import Graph\n",
    "from utils import *\n",
    "from graph_tool import clustering\n",
    "\n",
    "import seaborn as sns\n",
    "sns.set()"
   ]
  },
  {
   "cell_type": "markdown",
   "id": "443208c1",
   "metadata": {},
   "source": [
    "### Carrega dados\n",
    "---"
   ]
  },
  {
   "cell_type": "code",
   "execution_count": 2,
   "id": "acbea309",
   "metadata": {
    "scrolled": true
   },
   "outputs": [],
   "source": [
    "#carrega dados\n",
    "df = pd.read_csv('athlete_events.csv')\n",
    "df_noc = pd.read_csv('noc_regions.csv')\n",
    "df_gdp = pd.read_csv('countries of the world.csv')"
   ]
  },
  {
   "cell_type": "code",
   "execution_count": 3,
   "id": "8455ebd9",
   "metadata": {
    "scrolled": true
   },
   "outputs": [
    {
     "data": {
      "text/html": [
       "<div>\n",
       "<style scoped>\n",
       "    .dataframe tbody tr th:only-of-type {\n",
       "        vertical-align: middle;\n",
       "    }\n",
       "\n",
       "    .dataframe tbody tr th {\n",
       "        vertical-align: top;\n",
       "    }\n",
       "\n",
       "    .dataframe thead th {\n",
       "        text-align: right;\n",
       "    }\n",
       "</style>\n",
       "<table border=\"1\" class=\"dataframe\">\n",
       "  <thead>\n",
       "    <tr style=\"text-align: right;\">\n",
       "      <th></th>\n",
       "      <th>ID</th>\n",
       "      <th>Name</th>\n",
       "      <th>Sex</th>\n",
       "      <th>Age</th>\n",
       "      <th>Height</th>\n",
       "      <th>Weight</th>\n",
       "      <th>Team</th>\n",
       "      <th>NOC</th>\n",
       "      <th>Games</th>\n",
       "      <th>Year</th>\n",
       "      <th>Season</th>\n",
       "      <th>City</th>\n",
       "      <th>Sport</th>\n",
       "      <th>Event</th>\n",
       "      <th>Medal</th>\n",
       "    </tr>\n",
       "  </thead>\n",
       "  <tbody>\n",
       "    <tr>\n",
       "      <th>0</th>\n",
       "      <td>1</td>\n",
       "      <td>A Dijiang</td>\n",
       "      <td>M</td>\n",
       "      <td>24.0</td>\n",
       "      <td>180.0</td>\n",
       "      <td>80.0</td>\n",
       "      <td>China</td>\n",
       "      <td>CHN</td>\n",
       "      <td>1992 Summer</td>\n",
       "      <td>1992</td>\n",
       "      <td>Summer</td>\n",
       "      <td>Barcelona</td>\n",
       "      <td>Basketball</td>\n",
       "      <td>Basketball Men's Basketball</td>\n",
       "      <td>NaN</td>\n",
       "    </tr>\n",
       "    <tr>\n",
       "      <th>1</th>\n",
       "      <td>2</td>\n",
       "      <td>A Lamusi</td>\n",
       "      <td>M</td>\n",
       "      <td>23.0</td>\n",
       "      <td>170.0</td>\n",
       "      <td>60.0</td>\n",
       "      <td>China</td>\n",
       "      <td>CHN</td>\n",
       "      <td>2012 Summer</td>\n",
       "      <td>2012</td>\n",
       "      <td>Summer</td>\n",
       "      <td>London</td>\n",
       "      <td>Judo</td>\n",
       "      <td>Judo Men's Extra-Lightweight</td>\n",
       "      <td>NaN</td>\n",
       "    </tr>\n",
       "  </tbody>\n",
       "</table>\n",
       "</div>"
      ],
      "text/plain": [
       "   ID       Name Sex   Age  Height  Weight   Team  NOC        Games  Year  \\\n",
       "0   1  A Dijiang   M  24.0   180.0    80.0  China  CHN  1992 Summer  1992   \n",
       "1   2   A Lamusi   M  23.0   170.0    60.0  China  CHN  2012 Summer  2012   \n",
       "\n",
       "   Season       City       Sport                         Event Medal  \n",
       "0  Summer  Barcelona  Basketball   Basketball Men's Basketball   NaN  \n",
       "1  Summer     London        Judo  Judo Men's Extra-Lightweight   NaN  "
      ]
     },
     "execution_count": 3,
     "metadata": {},
     "output_type": "execute_result"
    }
   ],
   "source": [
    "df.head(2)"
   ]
  },
  {
   "cell_type": "code",
   "execution_count": 4,
   "id": "ebc48c0a",
   "metadata": {},
   "outputs": [
    {
     "data": {
      "text/html": [
       "<div>\n",
       "<style scoped>\n",
       "    .dataframe tbody tr th:only-of-type {\n",
       "        vertical-align: middle;\n",
       "    }\n",
       "\n",
       "    .dataframe tbody tr th {\n",
       "        vertical-align: top;\n",
       "    }\n",
       "\n",
       "    .dataframe thead th {\n",
       "        text-align: right;\n",
       "    }\n",
       "</style>\n",
       "<table border=\"1\" class=\"dataframe\">\n",
       "  <thead>\n",
       "    <tr style=\"text-align: right;\">\n",
       "      <th></th>\n",
       "      <th>NOC</th>\n",
       "      <th>region</th>\n",
       "      <th>notes</th>\n",
       "    </tr>\n",
       "  </thead>\n",
       "  <tbody>\n",
       "    <tr>\n",
       "      <th>0</th>\n",
       "      <td>AFG</td>\n",
       "      <td>Afghanistan</td>\n",
       "      <td>NaN</td>\n",
       "    </tr>\n",
       "    <tr>\n",
       "      <th>1</th>\n",
       "      <td>AHO</td>\n",
       "      <td>Curacao</td>\n",
       "      <td>Netherlands Antilles</td>\n",
       "    </tr>\n",
       "  </tbody>\n",
       "</table>\n",
       "</div>"
      ],
      "text/plain": [
       "   NOC       region                 notes\n",
       "0  AFG  Afghanistan                   NaN\n",
       "1  AHO      Curacao  Netherlands Antilles"
      ]
     },
     "execution_count": 4,
     "metadata": {},
     "output_type": "execute_result"
    }
   ],
   "source": [
    "df_noc.head(2)"
   ]
  },
  {
   "cell_type": "code",
   "execution_count": 5,
   "id": "ed1edb83",
   "metadata": {
    "scrolled": true
   },
   "outputs": [
    {
     "data": {
      "text/html": [
       "<div>\n",
       "<style scoped>\n",
       "    .dataframe tbody tr th:only-of-type {\n",
       "        vertical-align: middle;\n",
       "    }\n",
       "\n",
       "    .dataframe tbody tr th {\n",
       "        vertical-align: top;\n",
       "    }\n",
       "\n",
       "    .dataframe thead th {\n",
       "        text-align: right;\n",
       "    }\n",
       "</style>\n",
       "<table border=\"1\" class=\"dataframe\">\n",
       "  <thead>\n",
       "    <tr style=\"text-align: right;\">\n",
       "      <th></th>\n",
       "      <th>Country</th>\n",
       "      <th>Region</th>\n",
       "      <th>Population</th>\n",
       "      <th>Area (sq. mi.)</th>\n",
       "      <th>Pop. Density (per sq. mi.)</th>\n",
       "      <th>Coastline (coast/area ratio)</th>\n",
       "      <th>Net migration</th>\n",
       "      <th>Infant mortality (per 1000 births)</th>\n",
       "      <th>GDP ($ per capita)</th>\n",
       "      <th>Literacy (%)</th>\n",
       "      <th>Phones (per 1000)</th>\n",
       "      <th>Arable (%)</th>\n",
       "      <th>Crops (%)</th>\n",
       "      <th>Other (%)</th>\n",
       "      <th>Climate</th>\n",
       "      <th>Birthrate</th>\n",
       "      <th>Deathrate</th>\n",
       "      <th>Agriculture</th>\n",
       "      <th>Industry</th>\n",
       "      <th>Service</th>\n",
       "    </tr>\n",
       "  </thead>\n",
       "  <tbody>\n",
       "    <tr>\n",
       "      <th>0</th>\n",
       "      <td>Afghanistan</td>\n",
       "      <td>ASIA (EX. NEAR EAST)</td>\n",
       "      <td>31056997</td>\n",
       "      <td>647500</td>\n",
       "      <td>48,0</td>\n",
       "      <td>0,00</td>\n",
       "      <td>23,06</td>\n",
       "      <td>163,07</td>\n",
       "      <td>700.0</td>\n",
       "      <td>36,0</td>\n",
       "      <td>3,2</td>\n",
       "      <td>12,13</td>\n",
       "      <td>0,22</td>\n",
       "      <td>87,65</td>\n",
       "      <td>1</td>\n",
       "      <td>46,6</td>\n",
       "      <td>20,34</td>\n",
       "      <td>0,38</td>\n",
       "      <td>0,24</td>\n",
       "      <td>0,38</td>\n",
       "    </tr>\n",
       "    <tr>\n",
       "      <th>1</th>\n",
       "      <td>Albania</td>\n",
       "      <td>EASTERN EUROPE</td>\n",
       "      <td>3581655</td>\n",
       "      <td>28748</td>\n",
       "      <td>124,6</td>\n",
       "      <td>1,26</td>\n",
       "      <td>-4,93</td>\n",
       "      <td>21,52</td>\n",
       "      <td>4500.0</td>\n",
       "      <td>86,5</td>\n",
       "      <td>71,2</td>\n",
       "      <td>21,09</td>\n",
       "      <td>4,42</td>\n",
       "      <td>74,49</td>\n",
       "      <td>3</td>\n",
       "      <td>15,11</td>\n",
       "      <td>5,22</td>\n",
       "      <td>0,232</td>\n",
       "      <td>0,188</td>\n",
       "      <td>0,579</td>\n",
       "    </tr>\n",
       "  </tbody>\n",
       "</table>\n",
       "</div>"
      ],
      "text/plain": [
       "        Country                               Region  Population  \\\n",
       "0  Afghanistan         ASIA (EX. NEAR EAST)             31056997   \n",
       "1      Albania   EASTERN EUROPE                          3581655   \n",
       "\n",
       "   Area (sq. mi.) Pop. Density (per sq. mi.) Coastline (coast/area ratio)  \\\n",
       "0          647500                       48,0                         0,00   \n",
       "1           28748                      124,6                         1,26   \n",
       "\n",
       "  Net migration Infant mortality (per 1000 births)  GDP ($ per capita)  \\\n",
       "0         23,06                             163,07               700.0   \n",
       "1         -4,93                              21,52              4500.0   \n",
       "\n",
       "  Literacy (%) Phones (per 1000) Arable (%) Crops (%) Other (%) Climate  \\\n",
       "0         36,0               3,2      12,13      0,22     87,65       1   \n",
       "1         86,5              71,2      21,09      4,42     74,49       3   \n",
       "\n",
       "  Birthrate Deathrate Agriculture Industry Service  \n",
       "0      46,6     20,34        0,38     0,24    0,38  \n",
       "1     15,11      5,22       0,232    0,188   0,579  "
      ]
     },
     "execution_count": 5,
     "metadata": {},
     "output_type": "execute_result"
    }
   ],
   "source": [
    "df_gdp.head(2)"
   ]
  },
  {
   "cell_type": "code",
   "execution_count": 6,
   "id": "905663ae",
   "metadata": {},
   "outputs": [],
   "source": [
    "#junta ambas as tabelas\n",
    "df_merge=df.merge(df_noc,how=\"left\",on=\"NOC\")\n",
    "\n",
    "#dropa linhas sem a região\n",
    "df_merge=df_merge.dropna(subset=['region'])"
   ]
  },
  {
   "cell_type": "code",
   "execution_count": 7,
   "id": "9e517527",
   "metadata": {},
   "outputs": [
    {
     "data": {
      "text/html": [
       "<div>\n",
       "<style scoped>\n",
       "    .dataframe tbody tr th:only-of-type {\n",
       "        vertical-align: middle;\n",
       "    }\n",
       "\n",
       "    .dataframe tbody tr th {\n",
       "        vertical-align: top;\n",
       "    }\n",
       "\n",
       "    .dataframe thead th {\n",
       "        text-align: right;\n",
       "    }\n",
       "</style>\n",
       "<table border=\"1\" class=\"dataframe\">\n",
       "  <thead>\n",
       "    <tr style=\"text-align: right;\">\n",
       "      <th></th>\n",
       "      <th>ID</th>\n",
       "      <th>Name</th>\n",
       "      <th>Sex</th>\n",
       "      <th>Age</th>\n",
       "      <th>Height</th>\n",
       "      <th>Weight</th>\n",
       "      <th>Team</th>\n",
       "      <th>NOC</th>\n",
       "      <th>Games</th>\n",
       "      <th>Year</th>\n",
       "      <th>Season</th>\n",
       "      <th>City</th>\n",
       "      <th>Sport</th>\n",
       "      <th>Event</th>\n",
       "      <th>Medal</th>\n",
       "      <th>region</th>\n",
       "      <th>notes</th>\n",
       "    </tr>\n",
       "  </thead>\n",
       "  <tbody>\n",
       "    <tr>\n",
       "      <th>0</th>\n",
       "      <td>1</td>\n",
       "      <td>A Dijiang</td>\n",
       "      <td>M</td>\n",
       "      <td>24.0</td>\n",
       "      <td>180.0</td>\n",
       "      <td>80.0</td>\n",
       "      <td>China</td>\n",
       "      <td>CHN</td>\n",
       "      <td>1992 Summer</td>\n",
       "      <td>1992</td>\n",
       "      <td>Summer</td>\n",
       "      <td>Barcelona</td>\n",
       "      <td>Basketball</td>\n",
       "      <td>Basketball Men's Basketball</td>\n",
       "      <td>NaN</td>\n",
       "      <td>China</td>\n",
       "      <td>NaN</td>\n",
       "    </tr>\n",
       "    <tr>\n",
       "      <th>1</th>\n",
       "      <td>2</td>\n",
       "      <td>A Lamusi</td>\n",
       "      <td>M</td>\n",
       "      <td>23.0</td>\n",
       "      <td>170.0</td>\n",
       "      <td>60.0</td>\n",
       "      <td>China</td>\n",
       "      <td>CHN</td>\n",
       "      <td>2012 Summer</td>\n",
       "      <td>2012</td>\n",
       "      <td>Summer</td>\n",
       "      <td>London</td>\n",
       "      <td>Judo</td>\n",
       "      <td>Judo Men's Extra-Lightweight</td>\n",
       "      <td>NaN</td>\n",
       "      <td>China</td>\n",
       "      <td>NaN</td>\n",
       "    </tr>\n",
       "  </tbody>\n",
       "</table>\n",
       "</div>"
      ],
      "text/plain": [
       "   ID       Name Sex   Age  Height  Weight   Team  NOC        Games  Year  \\\n",
       "0   1  A Dijiang   M  24.0   180.0    80.0  China  CHN  1992 Summer  1992   \n",
       "1   2   A Lamusi   M  23.0   170.0    60.0  China  CHN  2012 Summer  2012   \n",
       "\n",
       "   Season       City       Sport                         Event Medal region  \\\n",
       "0  Summer  Barcelona  Basketball   Basketball Men's Basketball   NaN  China   \n",
       "1  Summer     London        Judo  Judo Men's Extra-Lightweight   NaN  China   \n",
       "\n",
       "  notes  \n",
       "0   NaN  \n",
       "1   NaN  "
      ]
     },
     "execution_count": 7,
     "metadata": {},
     "output_type": "execute_result"
    }
   ],
   "source": [
    "df_merge.head(2)"
   ]
  },
  {
   "cell_type": "markdown",
   "id": "45201f7e",
   "metadata": {},
   "source": [
    "### Amostragem\n",
    "---"
   ]
  },
  {
   "cell_type": "code",
   "execution_count": 8,
   "id": "634aec52",
   "metadata": {},
   "outputs": [],
   "source": [
    "#filtra somente datas posteriores a 1970\n",
    "df_merge=df_merge[df_merge[\"Year\"] > 1970]"
   ]
  },
  {
   "cell_type": "markdown",
   "id": "68017fa3",
   "metadata": {},
   "source": [
    "### Análise\n",
    "---"
   ]
  },
  {
   "cell_type": "code",
   "execution_count": 9,
   "id": "9c51860c",
   "metadata": {},
   "outputs": [],
   "source": [
    "#cria grafo não-dirigido\n",
    "g = Graph(directed=False)\n",
    "c = Graph(directed=False) "
   ]
  },
  {
   "cell_type": "code",
   "execution_count": 10,
   "id": "e8790e93",
   "metadata": {},
   "outputs": [],
   "source": [
    "df_merge['desempenho'] = df_merge['Medal'].apply(lambda x: desempenho(x))"
   ]
  },
  {
   "cell_type": "code",
   "execution_count": 11,
   "id": "f67a1562",
   "metadata": {},
   "outputs": [],
   "source": [
    "#dropa valores duplicados\n",
    "df_desempenho = df_merge.drop_duplicates(subset=[\"Year\",\"Sport\",\"region\"])\n",
    "\n",
    "#remove paises com desempenho 0\n",
    "df_desempenho = df_desempenho.loc[df_desempenho.desempenho>0]"
   ]
  },
  {
   "cell_type": "code",
   "execution_count": 12,
   "id": "ae7ab03e",
   "metadata": {},
   "outputs": [],
   "source": [
    "#pega o desempenho por país por esporte\n",
    "df_desempenho_pais = df_desempenho[[\"Sport\", \"region\", \"desempenho\"]].groupby([\"Sport\", \"region\"], as_index=False).sum()\n",
    "\n",
    "#calcula a moda do desemepnho por esporte\n",
    "df_desempenho_moda = df_desempenho_pais.groupby([\"Sport\"]).median()"
   ]
  },
  {
   "cell_type": "code",
   "execution_count": 14,
   "id": "c9e8f2c3",
   "metadata": {},
   "outputs": [],
   "source": [
    "#adiciona o desempenho médio por esporte na tabela\n",
    "df_desempenho_pais[\"moda\"] = df_desempenho_pais[\"Sport\"].apply(lambda x: \n",
    "              media(x, df_desempenho_moda))"
   ]
  },
  {
   "cell_type": "code",
   "execution_count": 15,
   "id": "20334e75",
   "metadata": {},
   "outputs": [],
   "source": [
    "#ajusta nome dos países na tabela\n",
    "df_gdp['Country'] = df_gdp['Country'].apply(lambda x: elimina_ultimo_caracter(x))"
   ]
  },
  {
   "cell_type": "code",
   "execution_count": 16,
   "id": "77eaaa79",
   "metadata": {},
   "outputs": [],
   "source": [
    "#dicionário com os nomes corretos\n",
    "dic_paises_nome = {\n",
    "    'South Korea': 'Korea, South',\n",
    "    'USA': 'United States',\n",
    "    'UK': 'United Kingdom',\n",
    "    'North Korea': 'Korea, North',\n",
    "    'Ivory Coast': \"Cote d'Ivoire\"\n",
    "}"
   ]
  },
  {
   "cell_type": "code",
   "execution_count": 17,
   "id": "f25863de",
   "metadata": {},
   "outputs": [],
   "source": [
    "#acerta o nome dos países\n",
    "df_desempenho_pais['region'] = df_desempenho_pais['region'].apply(lambda x: acerta_nome_paises(x, dic_paises_nome)) "
   ]
  },
  {
   "cell_type": "code",
   "execution_count": 18,
   "id": "dd0acc19",
   "metadata": {},
   "outputs": [],
   "source": [
    "#pega informações sobre cada país\n",
    "df_desempenho_pais = df_desempenho_pais.merge(df_gdp[[\"Country\",\"GDP ($ per capita)\"]],\n",
    "                                              how='left',\n",
    "                                              left_on=\"region\",\n",
    "                                              right_on=\"Country\",)"
   ]
  },
  {
   "cell_type": "code",
   "execution_count": 19,
   "id": "145fb977",
   "metadata": {},
   "outputs": [],
   "source": [
    "#remove alguns países irrelevantes\n",
    "df_desempenho_pais = df_desempenho_pais.dropna(subset=['GDP ($ per capita)'])"
   ]
  },
  {
   "cell_type": "code",
   "execution_count": 20,
   "id": "e439e34a",
   "metadata": {},
   "outputs": [
    {
     "data": {
      "text/html": [
       "<div>\n",
       "<style scoped>\n",
       "    .dataframe tbody tr th:only-of-type {\n",
       "        vertical-align: middle;\n",
       "    }\n",
       "\n",
       "    .dataframe tbody tr th {\n",
       "        vertical-align: top;\n",
       "    }\n",
       "\n",
       "    .dataframe thead th {\n",
       "        text-align: right;\n",
       "    }\n",
       "</style>\n",
       "<table border=\"1\" class=\"dataframe\">\n",
       "  <thead>\n",
       "    <tr style=\"text-align: right;\">\n",
       "      <th></th>\n",
       "      <th>Sport</th>\n",
       "      <th>region</th>\n",
       "      <th>desempenho</th>\n",
       "      <th>moda</th>\n",
       "      <th>Country</th>\n",
       "      <th>GDP ($ per capita)</th>\n",
       "    </tr>\n",
       "  </thead>\n",
       "  <tbody>\n",
       "    <tr>\n",
       "      <th>0</th>\n",
       "      <td>Alpine Skiing</td>\n",
       "      <td>Australia</td>\n",
       "      <td>1</td>\n",
       "      <td>2.0</td>\n",
       "      <td>Australia</td>\n",
       "      <td>29000.0</td>\n",
       "    </tr>\n",
       "    <tr>\n",
       "      <th>1</th>\n",
       "      <td>Alpine Skiing</td>\n",
       "      <td>Austria</td>\n",
       "      <td>3</td>\n",
       "      <td>2.0</td>\n",
       "      <td>Austria</td>\n",
       "      <td>30000.0</td>\n",
       "    </tr>\n",
       "    <tr>\n",
       "      <th>2</th>\n",
       "      <td>Alpine Skiing</td>\n",
       "      <td>Czech Republic</td>\n",
       "      <td>1</td>\n",
       "      <td>2.0</td>\n",
       "      <td>Czech Republic</td>\n",
       "      <td>15700.0</td>\n",
       "    </tr>\n",
       "    <tr>\n",
       "      <th>3</th>\n",
       "      <td>Alpine Skiing</td>\n",
       "      <td>France</td>\n",
       "      <td>2</td>\n",
       "      <td>2.0</td>\n",
       "      <td>France</td>\n",
       "      <td>27600.0</td>\n",
       "    </tr>\n",
       "    <tr>\n",
       "      <th>4</th>\n",
       "      <td>Alpine Skiing</td>\n",
       "      <td>New Zealand</td>\n",
       "      <td>2</td>\n",
       "      <td>2.0</td>\n",
       "      <td>New Zealand</td>\n",
       "      <td>21600.0</td>\n",
       "    </tr>\n",
       "  </tbody>\n",
       "</table>\n",
       "</div>"
      ],
      "text/plain": [
       "           Sport          region  desempenho  moda         Country  \\\n",
       "0  Alpine Skiing       Australia           1   2.0       Australia   \n",
       "1  Alpine Skiing         Austria           3   2.0         Austria   \n",
       "2  Alpine Skiing  Czech Republic           1   2.0  Czech Republic   \n",
       "3  Alpine Skiing          France           2   2.0          France   \n",
       "4  Alpine Skiing     New Zealand           2   2.0     New Zealand   \n",
       "\n",
       "   GDP ($ per capita)  \n",
       "0             29000.0  \n",
       "1             30000.0  \n",
       "2             15700.0  \n",
       "3             27600.0  \n",
       "4             21600.0  "
      ]
     },
     "execution_count": 20,
     "metadata": {},
     "output_type": "execute_result"
    }
   ],
   "source": [
    "df_desempenho_pais.head()"
   ]
  },
  {
   "cell_type": "code",
   "execution_count": 21,
   "id": "8deba9da",
   "metadata": {},
   "outputs": [],
   "source": [
    "#pega todos os times\n",
    "lista_teams = df_desempenho_pais.region.unique().tolist()\n",
    "\n",
    "#pega todos os eventos\n",
    "lista_eventos = df_desempenho_pais.Sport.unique().tolist()"
   ]
  },
  {
   "cell_type": "code",
   "execution_count": 22,
   "id": "8c625043",
   "metadata": {},
   "outputs": [],
   "source": [
    "g.vp['tipo'] = g.new_vp('object')\n",
    "g.vp['nome'] = g.new_vp('object')\n",
    "g.vp['color'] = g.new_vp('object')"
   ]
  },
  {
   "cell_type": "code",
   "execution_count": 23,
   "id": "10358158",
   "metadata": {},
   "outputs": [],
   "source": [
    "lista_vertices = lista_teams+lista_eventos"
   ]
  },
  {
   "cell_type": "code",
   "execution_count": 24,
   "id": "79266887",
   "metadata": {},
   "outputs": [
    {
     "name": "stdout",
     "output_type": "stream",
     "text": [
      "número de vértices de g: 148\n"
     ]
    }
   ],
   "source": [
    "#cria os times como vértices\n",
    "cria_vertices(g, lista_vertices, len(lista_teams))\n",
    "print('número de vértices de g:', g.num_vertices())"
   ]
  },
  {
   "cell_type": "code",
   "execution_count": 29,
   "id": "a9455e4e",
   "metadata": {},
   "outputs": [],
   "source": [
    "lista_arestas = list()\n",
    "\n",
    "#preenche a lista e o dicionario de acordo com as partidas e ocorrencias\n",
    "df_fake = df_desempenho_pais.apply(lambda x: \n",
    "              arestas(x.region, x.Sport, x.moda, x.moda, lista_arestas),\n",
    "              axis=1)"
   ]
  },
  {
   "cell_type": "code",
   "execution_count": 30,
   "id": "f2f90c9e",
   "metadata": {},
   "outputs": [],
   "source": [
    "create_edgs_links(lista_arestas, g)"
   ]
  },
  {
   "cell_type": "markdown",
   "id": "1bd72581",
   "metadata": {},
   "source": [
    "### Análise 2\n",
    "---"
   ]
  },
  {
   "cell_type": "code",
   "execution_count": 31,
   "id": "f1a7d350",
   "metadata": {},
   "outputs": [],
   "source": [
    "c.vp['nome'] = c.new_vp('object') #adiciona propriedade aos vértices\n",
    "c.ep['peso'] = c.new_ep('object') #adiciona propriedade as arestas"
   ]
  },
  {
   "cell_type": "code",
   "execution_count": 32,
   "id": "cb76c008",
   "metadata": {},
   "outputs": [],
   "source": [
    "cria_nome_times(g, c) #cria vertíces"
   ]
  },
  {
   "cell_type": "code",
   "execution_count": 33,
   "id": "ae81a49d",
   "metadata": {},
   "outputs": [],
   "source": [
    "dicionario_one_mode, lista_one_mode = lista_esporte_por_time(g)"
   ]
  },
  {
   "cell_type": "code",
   "execution_count": 34,
   "id": "168d0a69",
   "metadata": {},
   "outputs": [],
   "source": [
    "dist = cria_arestas(c, dicionario_one_mode, lista_one_mode)"
   ]
  },
  {
   "cell_type": "markdown",
   "id": "52262d4a",
   "metadata": {},
   "source": [
    "### Visualizando grafo C\n",
    "---"
   ]
  },
  {
   "cell_type": "code",
   "execution_count": 35,
   "id": "2837a61f",
   "metadata": {},
   "outputs": [],
   "source": [
    "m = draw_gt.sfdp_layout(c)\n",
    "move_gt(c, m)"
   ]
  },
  {
   "cell_type": "code",
   "execution_count": 36,
   "id": "4710a075",
   "metadata": {},
   "outputs": [],
   "source": [
    "save_gt(c, 'exemplo_c.net.gz')"
   ]
  },
  {
   "cell_type": "code",
   "execution_count": 66,
   "id": "2219885c",
   "metadata": {},
   "outputs": [
    {
     "data": {
      "text/html": [
       "\n",
       "        <div id=\"iDgqSqXgCKhmKizN39wTd7\"></div>\n",
       "        <script>netpixi.render('iDgqSqXgCKhmKizN39wTd7', './exemplo_c.net.gz', 1.7777777777777777, true, true, false);</script>\n",
       "    "
      ],
      "text/plain": [
       "<IPython.core.display.HTML object>"
      ]
     },
     "metadata": {},
     "output_type": "display_data"
    }
   ],
   "source": [
    "r = netpixi.render('./exemplo_c.net.gz', infinite=True)"
   ]
  },
  {
   "cell_type": "code",
   "execution_count": 67,
   "id": "4226106c",
   "metadata": {},
   "outputs": [
    {
     "data": {
      "text/html": [
       "\n",
       "        <div id=\"YqiKhEQzg6YfFjGyawW78o\"></div>\n",
       "        <script>netpixi.call('YqiKhEQzg6YfFjGyawW78o', 'iDgqSqXgCKhmKizN39wTd7', 'changeGraph', 'eyJ0eXBlIjogInNldHRpbmdzIiwgInByb3BzIjogeyJncmFwaCI6IHsiY29sb3IiOiAxNjc3NzIxNX19fQo=');</script>\n",
       "    "
      ],
      "text/plain": [
       "<IPython.core.display.HTML object>"
      ]
     },
     "metadata": {},
     "output_type": "display_data"
    },
    {
     "data": {
      "text/html": [
       "\n",
       "        <div id=\"TDeGNxEi7dYrjx4T3PLDcp\"></div>\n",
       "        <script>netpixi.call('TDeGNxEi7dYrjx4T3PLDcp', 'iDgqSqXgCKhmKizN39wTd7', 'changeGraph', 'eyJ0eXBlIjogInNldHRpbmdzIiwgInByb3BzIjogeyJ2ZXJ0ZXgiOiB7ImNvbG9yIjogMzQ1MTgyLCAic2l6ZSI6IDE1fX19Cg==');</script>\n",
       "    "
      ],
      "text/plain": [
       "<IPython.core.display.HTML object>"
      ]
     },
     "metadata": {},
     "output_type": "display_data"
    },
    {
     "data": {
      "text/html": [
       "\n",
       "        <div id=\"ejFoUFK26FYDyC8VL6iDwu\"></div>\n",
       "        <script>netpixi.call('ejFoUFK26FYDyC8VL6iDwu', 'iDgqSqXgCKhmKizN39wTd7', 'changeGraph', 'eyJ0eXBlIjogInNldHRpbmdzIiwgInByb3BzIjogeyJlZGdlIjogeyJjb2xvciI6IDExNjU0MzY4LCAid2lkdGgiOiAxLCAiY3VydmUxIjogMCwgImN1cnZlMiI6IDB9fX0K');</script>\n",
       "    "
      ],
      "text/plain": [
       "<IPython.core.display.HTML object>"
      ]
     },
     "metadata": {},
     "output_type": "display_data"
    },
    {
     "data": {
      "text/html": [
       "\n",
       "        <div id=\"dYkHXkcecrRAUXGfnENZtK\"></div>\n",
       "        <script>netpixi.call('dYkHXkcecrRAUXGfnENZtK', 'iDgqSqXgCKhmKizN39wTd7', 'changeGraph', 'eyJ0eXBlIjogInNldHRpbmdzIiwgInByb3BzIjogeyJncmFwaCI6IHsia3NjYWxlIjogNX19fQo=');</script>\n",
       "    "
      ],
      "text/plain": [
       "<IPython.core.display.HTML object>"
      ]
     },
     "metadata": {},
     "output_type": "display_data"
    },
    {
     "data": {
      "text/html": [
       "\n",
       "        <div id=\"bffATFuW3PDhg22FisevyS\"></div>\n",
       "        <script>netpixi.call('bffATFuW3PDhg22FisevyS', 'iDgqSqXgCKhmKizN39wTd7', 'changeGraph', 'eyJ0eXBlIjogInNldHRpbmdzIiwgInByb3BzIjogeyJ2ZXJ0ZXgiOiB7InNpemUiOiA2fX19Cg==');</script>\n",
       "    "
      ],
      "text/plain": [
       "<IPython.core.display.HTML object>"
      ]
     },
     "metadata": {},
     "output_type": "display_data"
    },
    {
     "data": {
      "text/html": [
       "\n",
       "        <div id=\"ayyPEGacDqeFkumeaG7yeY\"></div>\n",
       "        <script>netpixi.call('ayyPEGacDqeFkumeaG7yeY', 'iDgqSqXgCKhmKizN39wTd7', 'setGraph', 'eyJ0eXBlIjogInZlcnRleCIsICJwcm9wcyI6IHsic3JjIjogIm5vbWUiLCAiZHN0IjogIl9rZXkifX0K');</script>\n",
       "    "
      ],
      "text/plain": [
       "<IPython.core.display.HTML object>"
      ]
     },
     "metadata": {},
     "output_type": "display_data"
    },
    {
     "data": {
      "text/html": [
       "\n",
       "        <div id=\"2wn42SCfcebNMyFjGApqNu\"></div>\n",
       "        <script>netpixi.call('2wn42SCfcebNMyFjGApqNu', 'iDgqSqXgCKhmKizN39wTd7', 'normalizeGraph', 'eyJ0eXBlIjogImVkZ2UiLCAicHJvcHMiOiB7InNyYyI6ICJwZXNvIiwgIm1pbiI6IDEsICJtYXgiOiAzfX0K');</script>\n",
       "    "
      ],
      "text/plain": [
       "<IPython.core.display.HTML object>"
      ]
     },
     "metadata": {},
     "output_type": "display_data"
    }
   ],
   "source": [
    "# mudar a cor de fundo do grafo\n",
    "r.graph(color=0xffffff)\n",
    "\n",
    "# mudar a cor e o tamanho dos vértices\n",
    "r.vertex_default(color=0x05445E, size=15)\n",
    "\n",
    "# mudar a cor, a espessura e a curvatura das arestas\n",
    "r.edge_default(color=0xB1D4E0, width=1, curve1=0, curve2=0)\n",
    "\n",
    "\n",
    "r.graph(kscale=5) # Isto aumenta o tamanho dos nomes.\n",
    "r.vertex_default(size=6)\n",
    "r.vertex_set_key('nome')\n",
    "r.edge_scale('peso', 1, 3)"
   ]
  },
  {
   "cell_type": "markdown",
   "id": "69a05202",
   "metadata": {},
   "source": [
    "### Cluster coefficient\n",
    "---"
   ]
  },
  {
   "cell_type": "code",
   "execution_count": 39,
   "id": "c403a704",
   "metadata": {},
   "outputs": [],
   "source": [
    "cluster = clustering.local_clustering(c)"
   ]
  },
  {
   "cell_type": "code",
   "execution_count": 40,
   "id": "ee0dacac",
   "metadata": {},
   "outputs": [],
   "source": [
    "c.vp['clustering coefficient'] = cluster"
   ]
  },
  {
   "cell_type": "code",
   "execution_count": 41,
   "id": "c17af1db",
   "metadata": {},
   "outputs": [],
   "source": [
    "dft = pd.DataFrame({k: list(v) for k, v in c.vp.items()})"
   ]
  },
  {
   "cell_type": "code",
   "execution_count": 42,
   "id": "200d9629",
   "metadata": {},
   "outputs": [],
   "source": [
    "dft = dft.loc[dft['clustering coefficient'] != 0]"
   ]
  },
  {
   "cell_type": "markdown",
   "id": "fe6b6fac",
   "metadata": {},
   "source": [
    "### Salvando grafo e visualizando\n",
    "---"
   ]
  },
  {
   "cell_type": "code",
   "execution_count": 43,
   "id": "5aa30bdb",
   "metadata": {},
   "outputs": [],
   "source": [
    "top = []\n",
    "for v in g.vertices():\n",
    "    if g.vp['tipo'][v] == 'time':\n",
    "        top.append(v)"
   ]
  },
  {
   "cell_type": "code",
   "execution_count": 44,
   "id": "dd5f4192",
   "metadata": {},
   "outputs": [],
   "source": [
    "m = draw_gt.bipartite_layout(g, top)\n",
    "move_gt(g, m)"
   ]
  },
  {
   "cell_type": "code",
   "execution_count": 45,
   "id": "e3933347",
   "metadata": {},
   "outputs": [],
   "source": [
    "save_gt(g, 'exemplo.net.gz')"
   ]
  },
  {
   "cell_type": "code",
   "execution_count": 46,
   "id": "929a587d",
   "metadata": {
    "scrolled": true
   },
   "outputs": [
    {
     "data": {
      "text/html": [
       "\n",
       "        <div id=\"PjE7RMoGcRYDw2S3PTxFJp\"></div>\n",
       "        <script>netpixi.render('PjE7RMoGcRYDw2S3PTxFJp', './exemplo.net.gz', 1.7777777777777777, true, false, false);</script>\n",
       "    "
      ],
      "text/plain": [
       "<IPython.core.display.HTML object>"
      ]
     },
     "metadata": {},
     "output_type": "display_data"
    }
   ],
   "source": [
    "r = netpixi.render('./exemplo.net.gz')"
   ]
  },
  {
   "cell_type": "code",
   "execution_count": 47,
   "id": "071c82e3",
   "metadata": {},
   "outputs": [
    {
     "data": {
      "text/html": [
       "\n",
       "        <div id=\"jQppVnSh2RNRMXxF7uyTVB\"></div>\n",
       "        <script>netpixi.call('jQppVnSh2RNRMXxF7uyTVB', 'PjE7RMoGcRYDw2S3PTxFJp', 'changeGraph', 'eyJ0eXBlIjogInNldHRpbmdzIiwgInByb3BzIjogeyJncmFwaCI6IHsiY29sb3IiOiAxNjc3NzIxNX19fQo=');</script>\n",
       "    "
      ],
      "text/plain": [
       "<IPython.core.display.HTML object>"
      ]
     },
     "metadata": {},
     "output_type": "display_data"
    },
    {
     "data": {
      "text/html": [
       "\n",
       "        <div id=\"CkybaD7Fkx8DD9Ls3cZsJr\"></div>\n",
       "        <script>netpixi.call('CkybaD7Fkx8DD9Ls3cZsJr', 'PjE7RMoGcRYDw2S3PTxFJp', 'changeGraph', 'eyJ0eXBlIjogInNldHRpbmdzIiwgInByb3BzIjogeyJ2ZXJ0ZXgiOiB7ImNvbG9yIjogMCwgInNpemUiOiAxMH19fQo=');</script>\n",
       "    "
      ],
      "text/plain": [
       "<IPython.core.display.HTML object>"
      ]
     },
     "metadata": {},
     "output_type": "display_data"
    },
    {
     "data": {
      "text/html": [
       "\n",
       "        <div id=\"2N87igTNwi8gmiAmx9HvYx\"></div>\n",
       "        <script>netpixi.call('2N87igTNwi8gmiAmx9HvYx', 'PjE7RMoGcRYDw2S3PTxFJp', 'changeGraph', 'eyJ0eXBlIjogInNldHRpbmdzIiwgInByb3BzIjogeyJlZGdlIjogeyJjb2xvciI6IDAsICJ3aWR0aCI6IDEsICJjdXJ2ZTEiOiAwLCAiY3VydmUyIjogMH19fQo=');</script>\n",
       "    "
      ],
      "text/plain": [
       "<IPython.core.display.HTML object>"
      ]
     },
     "metadata": {},
     "output_type": "display_data"
    },
    {
     "data": {
      "text/html": [
       "\n",
       "        <div id=\"SDXdZUi5MxWuUGWkgaUz4L\"></div>\n",
       "        <script>netpixi.call('SDXdZUi5MxWuUGWkgaUz4L', 'PjE7RMoGcRYDw2S3PTxFJp', 'changeGraph', 'eyJzb3VyY2UiOiAwLCAidGFyZ2V0IjogMSwgInR5cGUiOiAiZWRnZSIsICJwcm9wcyI6IHsiY29sb3IiOiAyNTUsICJ3aWR0aCI6IDJ9fQo=');</script>\n",
       "    "
      ],
      "text/plain": [
       "<IPython.core.display.HTML object>"
      ]
     },
     "metadata": {},
     "output_type": "display_data"
    }
   ],
   "source": [
    "# mudar a cor de fundo do grafo\n",
    "r.graph(color=0xffffff)\n",
    "\n",
    "# mudar a cor e o tamanho dos vértices\n",
    "r.vertex_default(color=0x000000, size=10)\n",
    "\n",
    "# mudar a cor, a espessura e a curvatura das arestas\n",
    "r.edge_default(color=0x000000, width=1, curve1=0, curve2=0)\n",
    "\n",
    "# mudar uma aresta específica a partir dos ids de sua origem e destino\n",
    "r.edge(0, 1, color=0x0000ff, width=2)"
   ]
  },
  {
   "cell_type": "markdown",
   "id": "85e60fca",
   "metadata": {},
   "source": [
    "### Regressão\n",
    "---"
   ]
  },
  {
   "cell_type": "code",
   "execution_count": 48,
   "id": "324bd9d0",
   "metadata": {},
   "outputs": [
    {
     "data": {
      "text/html": [
       "<div>\n",
       "<style scoped>\n",
       "    .dataframe tbody tr th:only-of-type {\n",
       "        vertical-align: middle;\n",
       "    }\n",
       "\n",
       "    .dataframe tbody tr th {\n",
       "        vertical-align: top;\n",
       "    }\n",
       "\n",
       "    .dataframe thead th {\n",
       "        text-align: right;\n",
       "    }\n",
       "</style>\n",
       "<table border=\"1\" class=\"dataframe\">\n",
       "  <thead>\n",
       "    <tr style=\"text-align: right;\">\n",
       "      <th></th>\n",
       "      <th>ID</th>\n",
       "      <th>Name</th>\n",
       "      <th>Sex</th>\n",
       "      <th>Age</th>\n",
       "      <th>Height</th>\n",
       "      <th>Weight</th>\n",
       "      <th>Team</th>\n",
       "      <th>NOC</th>\n",
       "      <th>Games</th>\n",
       "      <th>Year</th>\n",
       "      <th>Season</th>\n",
       "      <th>City</th>\n",
       "      <th>Sport</th>\n",
       "      <th>Event</th>\n",
       "      <th>Medal</th>\n",
       "      <th>region</th>\n",
       "      <th>notes</th>\n",
       "      <th>desempenho</th>\n",
       "    </tr>\n",
       "  </thead>\n",
       "  <tbody>\n",
       "    <tr>\n",
       "      <th>40</th>\n",
       "      <td>16</td>\n",
       "      <td>Juhamatti Tapio Aaltonen</td>\n",
       "      <td>M</td>\n",
       "      <td>28.0</td>\n",
       "      <td>184.0</td>\n",
       "      <td>85.0</td>\n",
       "      <td>Finland</td>\n",
       "      <td>FIN</td>\n",
       "      <td>2014 Winter</td>\n",
       "      <td>2014</td>\n",
       "      <td>Winter</td>\n",
       "      <td>Sochi</td>\n",
       "      <td>Ice Hockey</td>\n",
       "      <td>Ice Hockey Men's Ice Hockey</td>\n",
       "      <td>Bronze</td>\n",
       "      <td>Finland</td>\n",
       "      <td>NaN</td>\n",
       "      <td>1</td>\n",
       "    </tr>\n",
       "    <tr>\n",
       "      <th>63</th>\n",
       "      <td>20</td>\n",
       "      <td>Kjetil Andr Aamodt</td>\n",
       "      <td>M</td>\n",
       "      <td>22.0</td>\n",
       "      <td>176.0</td>\n",
       "      <td>85.0</td>\n",
       "      <td>Norway</td>\n",
       "      <td>NOR</td>\n",
       "      <td>1994 Winter</td>\n",
       "      <td>1994</td>\n",
       "      <td>Winter</td>\n",
       "      <td>Lillehammer</td>\n",
       "      <td>Alpine Skiing</td>\n",
       "      <td>Alpine Skiing Men's Downhill</td>\n",
       "      <td>Silver</td>\n",
       "      <td>Norway</td>\n",
       "      <td>NaN</td>\n",
       "      <td>2</td>\n",
       "    </tr>\n",
       "    <tr>\n",
       "      <th>79</th>\n",
       "      <td>21</td>\n",
       "      <td>Ragnhild Margrethe Aamodt</td>\n",
       "      <td>F</td>\n",
       "      <td>27.0</td>\n",
       "      <td>163.0</td>\n",
       "      <td>NaN</td>\n",
       "      <td>Norway</td>\n",
       "      <td>NOR</td>\n",
       "      <td>2008 Summer</td>\n",
       "      <td>2008</td>\n",
       "      <td>Summer</td>\n",
       "      <td>Beijing</td>\n",
       "      <td>Handball</td>\n",
       "      <td>Handball Women's Handball</td>\n",
       "      <td>Gold</td>\n",
       "      <td>Norway</td>\n",
       "      <td>NaN</td>\n",
       "      <td>3</td>\n",
       "    </tr>\n",
       "    <tr>\n",
       "      <th>91</th>\n",
       "      <td>29</td>\n",
       "      <td>Willemien Aardenburg</td>\n",
       "      <td>F</td>\n",
       "      <td>22.0</td>\n",
       "      <td>NaN</td>\n",
       "      <td>NaN</td>\n",
       "      <td>Netherlands</td>\n",
       "      <td>NED</td>\n",
       "      <td>1988 Summer</td>\n",
       "      <td>1988</td>\n",
       "      <td>Summer</td>\n",
       "      <td>Seoul</td>\n",
       "      <td>Hockey</td>\n",
       "      <td>Hockey Women's Hockey</td>\n",
       "      <td>Bronze</td>\n",
       "      <td>Netherlands</td>\n",
       "      <td>NaN</td>\n",
       "      <td>1</td>\n",
       "    </tr>\n",
       "    <tr>\n",
       "      <th>92</th>\n",
       "      <td>30</td>\n",
       "      <td>Pepijn Aardewijn</td>\n",
       "      <td>M</td>\n",
       "      <td>26.0</td>\n",
       "      <td>189.0</td>\n",
       "      <td>72.0</td>\n",
       "      <td>Netherlands</td>\n",
       "      <td>NED</td>\n",
       "      <td>1996 Summer</td>\n",
       "      <td>1996</td>\n",
       "      <td>Summer</td>\n",
       "      <td>Atlanta</td>\n",
       "      <td>Rowing</td>\n",
       "      <td>Rowing Men's Lightweight Double Sculls</td>\n",
       "      <td>Silver</td>\n",
       "      <td>Netherlands</td>\n",
       "      <td>NaN</td>\n",
       "      <td>2</td>\n",
       "    </tr>\n",
       "    <tr>\n",
       "      <th>...</th>\n",
       "      <td>...</td>\n",
       "      <td>...</td>\n",
       "      <td>...</td>\n",
       "      <td>...</td>\n",
       "      <td>...</td>\n",
       "      <td>...</td>\n",
       "      <td>...</td>\n",
       "      <td>...</td>\n",
       "      <td>...</td>\n",
       "      <td>...</td>\n",
       "      <td>...</td>\n",
       "      <td>...</td>\n",
       "      <td>...</td>\n",
       "      <td>...</td>\n",
       "      <td>...</td>\n",
       "      <td>...</td>\n",
       "      <td>...</td>\n",
       "      <td>...</td>\n",
       "    </tr>\n",
       "    <tr>\n",
       "      <th>247957</th>\n",
       "      <td>124148</td>\n",
       "      <td>Wietse Cornelis van Alten</td>\n",
       "      <td>M</td>\n",
       "      <td>21.0</td>\n",
       "      <td>186.0</td>\n",
       "      <td>72.0</td>\n",
       "      <td>Netherlands</td>\n",
       "      <td>NED</td>\n",
       "      <td>2000 Summer</td>\n",
       "      <td>2000</td>\n",
       "      <td>Summer</td>\n",
       "      <td>Sydney</td>\n",
       "      <td>Archery</td>\n",
       "      <td>Archery Men's Individual</td>\n",
       "      <td>Bronze</td>\n",
       "      <td>Netherlands</td>\n",
       "      <td>NaN</td>\n",
       "      <td>1</td>\n",
       "    </tr>\n",
       "    <tr>\n",
       "      <th>248235</th>\n",
       "      <td>124277</td>\n",
       "      <td>Robert Van de Walle</td>\n",
       "      <td>M</td>\n",
       "      <td>26.0</td>\n",
       "      <td>187.0</td>\n",
       "      <td>95.0</td>\n",
       "      <td>Belgium</td>\n",
       "      <td>BEL</td>\n",
       "      <td>1980 Summer</td>\n",
       "      <td>1980</td>\n",
       "      <td>Summer</td>\n",
       "      <td>Moskva</td>\n",
       "      <td>Judo</td>\n",
       "      <td>Judo Men's Half-Heavyweight</td>\n",
       "      <td>Gold</td>\n",
       "      <td>Belgium</td>\n",
       "      <td>NaN</td>\n",
       "      <td>3</td>\n",
       "    </tr>\n",
       "    <tr>\n",
       "      <th>254146</th>\n",
       "      <td>127250</td>\n",
       "      <td>Gintar Volungeviit-Scheidt</td>\n",
       "      <td>F</td>\n",
       "      <td>25.0</td>\n",
       "      <td>172.0</td>\n",
       "      <td>63.0</td>\n",
       "      <td>Lithuania</td>\n",
       "      <td>LTU</td>\n",
       "      <td>2008 Summer</td>\n",
       "      <td>2008</td>\n",
       "      <td>Summer</td>\n",
       "      <td>Beijing</td>\n",
       "      <td>Sailing</td>\n",
       "      <td>Sailing Women's One Person Dinghy</td>\n",
       "      <td>Silver</td>\n",
       "      <td>Lithuania</td>\n",
       "      <td>NaN</td>\n",
       "      <td>2</td>\n",
       "    </tr>\n",
       "    <tr>\n",
       "      <th>260747</th>\n",
       "      <td>130468</td>\n",
       "      <td>David Robert Wilkins</td>\n",
       "      <td>M</td>\n",
       "      <td>30.0</td>\n",
       "      <td>175.0</td>\n",
       "      <td>75.0</td>\n",
       "      <td>Ireland</td>\n",
       "      <td>IRL</td>\n",
       "      <td>1980 Summer</td>\n",
       "      <td>1980</td>\n",
       "      <td>Summer</td>\n",
       "      <td>Moskva</td>\n",
       "      <td>Sailing</td>\n",
       "      <td>Sailing Mixed Two Person Heavyweight Dinghy</td>\n",
       "      <td>Silver</td>\n",
       "      <td>Ireland</td>\n",
       "      <td>NaN</td>\n",
       "      <td>2</td>\n",
       "    </tr>\n",
       "    <tr>\n",
       "      <th>268448</th>\n",
       "      <td>134296</td>\n",
       "      <td>Vsevolods Zeonijs</td>\n",
       "      <td>M</td>\n",
       "      <td>27.0</td>\n",
       "      <td>172.0</td>\n",
       "      <td>76.0</td>\n",
       "      <td>Latvia</td>\n",
       "      <td>LAT</td>\n",
       "      <td>2000 Summer</td>\n",
       "      <td>2000</td>\n",
       "      <td>Summer</td>\n",
       "      <td>Sydney</td>\n",
       "      <td>Judo</td>\n",
       "      <td>Judo Men's Lightweight</td>\n",
       "      <td>Bronze</td>\n",
       "      <td>Latvia</td>\n",
       "      <td>NaN</td>\n",
       "      <td>1</td>\n",
       "    </tr>\n",
       "  </tbody>\n",
       "</table>\n",
       "<p>1368 rows × 18 columns</p>\n",
       "</div>"
      ],
      "text/plain": [
       "            ID                        Name Sex   Age  Height  Weight  \\\n",
       "40          16    Juhamatti Tapio Aaltonen   M  28.0   184.0    85.0   \n",
       "63          20          Kjetil Andr Aamodt   M  22.0   176.0    85.0   \n",
       "79          21   Ragnhild Margrethe Aamodt   F  27.0   163.0     NaN   \n",
       "91          29        Willemien Aardenburg   F  22.0     NaN     NaN   \n",
       "92          30            Pepijn Aardewijn   M  26.0   189.0    72.0   \n",
       "...        ...                         ...  ..   ...     ...     ...   \n",
       "247957  124148   Wietse Cornelis van Alten   M  21.0   186.0    72.0   \n",
       "248235  124277         Robert Van de Walle   M  26.0   187.0    95.0   \n",
       "254146  127250  Gintar Volungeviit-Scheidt   F  25.0   172.0    63.0   \n",
       "260747  130468        David Robert Wilkins   M  30.0   175.0    75.0   \n",
       "268448  134296           Vsevolods Zeonijs   M  27.0   172.0    76.0   \n",
       "\n",
       "               Team  NOC        Games  Year  Season         City  \\\n",
       "40          Finland  FIN  2014 Winter  2014  Winter        Sochi   \n",
       "63           Norway  NOR  1994 Winter  1994  Winter  Lillehammer   \n",
       "79           Norway  NOR  2008 Summer  2008  Summer      Beijing   \n",
       "91      Netherlands  NED  1988 Summer  1988  Summer        Seoul   \n",
       "92      Netherlands  NED  1996 Summer  1996  Summer      Atlanta   \n",
       "...             ...  ...          ...   ...     ...          ...   \n",
       "247957  Netherlands  NED  2000 Summer  2000  Summer       Sydney   \n",
       "248235      Belgium  BEL  1980 Summer  1980  Summer       Moskva   \n",
       "254146    Lithuania  LTU  2008 Summer  2008  Summer      Beijing   \n",
       "260747      Ireland  IRL  1980 Summer  1980  Summer       Moskva   \n",
       "268448       Latvia  LAT  2000 Summer  2000  Summer       Sydney   \n",
       "\n",
       "                Sport                                        Event   Medal  \\\n",
       "40         Ice Hockey                  Ice Hockey Men's Ice Hockey  Bronze   \n",
       "63      Alpine Skiing                 Alpine Skiing Men's Downhill  Silver   \n",
       "79           Handball                    Handball Women's Handball    Gold   \n",
       "91             Hockey                        Hockey Women's Hockey  Bronze   \n",
       "92             Rowing       Rowing Men's Lightweight Double Sculls  Silver   \n",
       "...               ...                                          ...     ...   \n",
       "247957        Archery                     Archery Men's Individual  Bronze   \n",
       "248235           Judo                  Judo Men's Half-Heavyweight    Gold   \n",
       "254146        Sailing            Sailing Women's One Person Dinghy  Silver   \n",
       "260747        Sailing  Sailing Mixed Two Person Heavyweight Dinghy  Silver   \n",
       "268448           Judo                       Judo Men's Lightweight  Bronze   \n",
       "\n",
       "             region notes  desempenho  \n",
       "40          Finland   NaN           1  \n",
       "63           Norway   NaN           2  \n",
       "79           Norway   NaN           3  \n",
       "91      Netherlands   NaN           1  \n",
       "92      Netherlands   NaN           2  \n",
       "...             ...   ...         ...  \n",
       "247957  Netherlands   NaN           1  \n",
       "248235      Belgium   NaN           3  \n",
       "254146    Lithuania   NaN           2  \n",
       "260747      Ireland   NaN           2  \n",
       "268448       Latvia   NaN           1  \n",
       "\n",
       "[1368 rows x 18 columns]"
      ]
     },
     "execution_count": 48,
     "metadata": {},
     "output_type": "execute_result"
    }
   ],
   "source": [
    "df_desempenho"
   ]
  },
  {
   "cell_type": "code",
   "execution_count": 49,
   "id": "98903724",
   "metadata": {},
   "outputs": [],
   "source": [
    "df_desempenho_pais_total = df_desempenho[[\"region\", \"desempenho\"]].groupby([\"region\"], as_index=False).sum()"
   ]
  },
  {
   "cell_type": "code",
   "execution_count": 50,
   "id": "ceb71704",
   "metadata": {},
   "outputs": [],
   "source": [
    "df_desempenho_pais_total = df_desempenho_pais_total.merge(df_gdp[[\"Country\",\"GDP ($ per capita)\"]],\n",
    "                                              how='left',\n",
    "                                              left_on=\"region\",\n",
    "                                              right_on=\"Country\")\n",
    "\n",
    "df_desempenho_pais_total = df_desempenho_pais_total.merge(dft,\n",
    "                                              how='left',\n",
    "                                              left_on=\"region\",\n",
    "                                              right_on=\"nome\")"
   ]
  },
  {
   "cell_type": "code",
   "execution_count": 51,
   "id": "7386c026",
   "metadata": {},
   "outputs": [
    {
     "data": {
      "text/html": [
       "<div>\n",
       "<style scoped>\n",
       "    .dataframe tbody tr th:only-of-type {\n",
       "        vertical-align: middle;\n",
       "    }\n",
       "\n",
       "    .dataframe tbody tr th {\n",
       "        vertical-align: top;\n",
       "    }\n",
       "\n",
       "    .dataframe thead th {\n",
       "        text-align: right;\n",
       "    }\n",
       "</style>\n",
       "<table border=\"1\" class=\"dataframe\">\n",
       "  <thead>\n",
       "    <tr style=\"text-align: right;\">\n",
       "      <th></th>\n",
       "      <th>region</th>\n",
       "      <th>desempenho</th>\n",
       "      <th>Country</th>\n",
       "      <th>GDP ($ per capita)</th>\n",
       "      <th>nome</th>\n",
       "      <th>_x</th>\n",
       "      <th>_y</th>\n",
       "      <th>clustering coefficient</th>\n",
       "    </tr>\n",
       "  </thead>\n",
       "  <tbody>\n",
       "    <tr>\n",
       "      <th>0</th>\n",
       "      <td>Algeria</td>\n",
       "      <td>1</td>\n",
       "      <td>Algeria</td>\n",
       "      <td>6000.0</td>\n",
       "      <td>Algeria</td>\n",
       "      <td>2.158270</td>\n",
       "      <td>10.936051</td>\n",
       "      <td>1.000000</td>\n",
       "    </tr>\n",
       "    <tr>\n",
       "      <th>1</th>\n",
       "      <td>Argentina</td>\n",
       "      <td>26</td>\n",
       "      <td>Argentina</td>\n",
       "      <td>11200.0</td>\n",
       "      <td>Argentina</td>\n",
       "      <td>6.305709</td>\n",
       "      <td>7.233079</td>\n",
       "      <td>0.772300</td>\n",
       "    </tr>\n",
       "    <tr>\n",
       "      <th>2</th>\n",
       "      <td>Armenia</td>\n",
       "      <td>5</td>\n",
       "      <td>Armenia</td>\n",
       "      <td>3500.0</td>\n",
       "      <td>Armenia</td>\n",
       "      <td>5.478909</td>\n",
       "      <td>15.386405</td>\n",
       "      <td>0.934461</td>\n",
       "    </tr>\n",
       "    <tr>\n",
       "      <th>3</th>\n",
       "      <td>Australia</td>\n",
       "      <td>82</td>\n",
       "      <td>Australia</td>\n",
       "      <td>29000.0</td>\n",
       "      <td>Australia</td>\n",
       "      <td>6.306635</td>\n",
       "      <td>11.961618</td>\n",
       "      <td>0.695857</td>\n",
       "    </tr>\n",
       "    <tr>\n",
       "      <th>4</th>\n",
       "      <td>Austria</td>\n",
       "      <td>25</td>\n",
       "      <td>Austria</td>\n",
       "      <td>30000.0</td>\n",
       "      <td>Austria</td>\n",
       "      <td>9.002447</td>\n",
       "      <td>7.944921</td>\n",
       "      <td>0.895877</td>\n",
       "    </tr>\n",
       "  </tbody>\n",
       "</table>\n",
       "</div>"
      ],
      "text/plain": [
       "      region  desempenho    Country  GDP ($ per capita)       nome        _x  \\\n",
       "0    Algeria           1    Algeria              6000.0    Algeria  2.158270   \n",
       "1  Argentina          26  Argentina             11200.0  Argentina  6.305709   \n",
       "2    Armenia           5    Armenia              3500.0    Armenia  5.478909   \n",
       "3  Australia          82  Australia             29000.0  Australia  6.306635   \n",
       "4    Austria          25    Austria             30000.0    Austria  9.002447   \n",
       "\n",
       "          _y  clustering coefficient  \n",
       "0  10.936051                1.000000  \n",
       "1   7.233079                0.772300  \n",
       "2  15.386405                0.934461  \n",
       "3  11.961618                0.695857  \n",
       "4   7.944921                0.895877  "
      ]
     },
     "execution_count": 51,
     "metadata": {},
     "output_type": "execute_result"
    }
   ],
   "source": [
    "df_desempenho_pais_total.head()"
   ]
  },
  {
   "cell_type": "code",
   "execution_count": 52,
   "id": "8293c531",
   "metadata": {},
   "outputs": [
    {
     "data": {
      "text/html": [
       "<div>\n",
       "<style scoped>\n",
       "    .dataframe tbody tr th:only-of-type {\n",
       "        vertical-align: middle;\n",
       "    }\n",
       "\n",
       "    .dataframe tbody tr th {\n",
       "        vertical-align: top;\n",
       "    }\n",
       "\n",
       "    .dataframe thead th {\n",
       "        text-align: right;\n",
       "    }\n",
       "</style>\n",
       "<table border=\"1\" class=\"dataframe\">\n",
       "  <thead>\n",
       "    <tr style=\"text-align: right;\">\n",
       "      <th></th>\n",
       "      <th>region</th>\n",
       "      <th>desempenho</th>\n",
       "      <th>Country</th>\n",
       "      <th>GDP ($ per capita)</th>\n",
       "      <th>nome</th>\n",
       "      <th>_x</th>\n",
       "      <th>_y</th>\n",
       "      <th>clustering coefficient</th>\n",
       "    </tr>\n",
       "  </thead>\n",
       "  <tbody>\n",
       "    <tr>\n",
       "      <th>0</th>\n",
       "      <td>Algeria</td>\n",
       "      <td>1</td>\n",
       "      <td>Algeria</td>\n",
       "      <td>6000.0</td>\n",
       "      <td>Algeria</td>\n",
       "      <td>2.158270</td>\n",
       "      <td>10.936051</td>\n",
       "      <td>1.000000</td>\n",
       "    </tr>\n",
       "    <tr>\n",
       "      <th>1</th>\n",
       "      <td>Argentina</td>\n",
       "      <td>26</td>\n",
       "      <td>Argentina</td>\n",
       "      <td>11200.0</td>\n",
       "      <td>Argentina</td>\n",
       "      <td>6.305709</td>\n",
       "      <td>7.233079</td>\n",
       "      <td>0.772300</td>\n",
       "    </tr>\n",
       "    <tr>\n",
       "      <th>2</th>\n",
       "      <td>Armenia</td>\n",
       "      <td>5</td>\n",
       "      <td>Armenia</td>\n",
       "      <td>3500.0</td>\n",
       "      <td>Armenia</td>\n",
       "      <td>5.478909</td>\n",
       "      <td>15.386405</td>\n",
       "      <td>0.934461</td>\n",
       "    </tr>\n",
       "    <tr>\n",
       "      <th>3</th>\n",
       "      <td>Australia</td>\n",
       "      <td>82</td>\n",
       "      <td>Australia</td>\n",
       "      <td>29000.0</td>\n",
       "      <td>Australia</td>\n",
       "      <td>6.306635</td>\n",
       "      <td>11.961618</td>\n",
       "      <td>0.695857</td>\n",
       "    </tr>\n",
       "    <tr>\n",
       "      <th>4</th>\n",
       "      <td>Austria</td>\n",
       "      <td>25</td>\n",
       "      <td>Austria</td>\n",
       "      <td>30000.0</td>\n",
       "      <td>Austria</td>\n",
       "      <td>9.002447</td>\n",
       "      <td>7.944921</td>\n",
       "      <td>0.895877</td>\n",
       "    </tr>\n",
       "    <tr>\n",
       "      <th>...</th>\n",
       "      <td>...</td>\n",
       "      <td>...</td>\n",
       "      <td>...</td>\n",
       "      <td>...</td>\n",
       "      <td>...</td>\n",
       "      <td>...</td>\n",
       "      <td>...</td>\n",
       "      <td>...</td>\n",
       "    </tr>\n",
       "    <tr>\n",
       "      <th>96</th>\n",
       "      <td>Uzbekistan</td>\n",
       "      <td>8</td>\n",
       "      <td>Uzbekistan</td>\n",
       "      <td>1700.0</td>\n",
       "      <td>Uzbekistan</td>\n",
       "      <td>3.114293</td>\n",
       "      <td>7.179942</td>\n",
       "      <td>0.904150</td>\n",
       "    </tr>\n",
       "    <tr>\n",
       "      <th>97</th>\n",
       "      <td>Venezuela</td>\n",
       "      <td>2</td>\n",
       "      <td>Venezuela</td>\n",
       "      <td>4800.0</td>\n",
       "      <td>Venezuela</td>\n",
       "      <td>3.653940</td>\n",
       "      <td>5.944293</td>\n",
       "      <td>0.909774</td>\n",
       "    </tr>\n",
       "    <tr>\n",
       "      <th>98</th>\n",
       "      <td>Vietnam</td>\n",
       "      <td>5</td>\n",
       "      <td>Vietnam</td>\n",
       "      <td>2500.0</td>\n",
       "      <td>Vietnam</td>\n",
       "      <td>6.149849</td>\n",
       "      <td>16.529511</td>\n",
       "      <td>0.911406</td>\n",
       "    </tr>\n",
       "    <tr>\n",
       "      <th>99</th>\n",
       "      <td>Zambia</td>\n",
       "      <td>2</td>\n",
       "      <td>Zambia</td>\n",
       "      <td>800.0</td>\n",
       "      <td>Zambia</td>\n",
       "      <td>15.695072</td>\n",
       "      <td>8.687969</td>\n",
       "      <td>1.000000</td>\n",
       "    </tr>\n",
       "    <tr>\n",
       "      <th>100</th>\n",
       "      <td>Zimbabwe</td>\n",
       "      <td>3</td>\n",
       "      <td>Zimbabwe</td>\n",
       "      <td>1900.0</td>\n",
       "      <td>Zimbabwe</td>\n",
       "      <td>0.101930</td>\n",
       "      <td>13.164686</td>\n",
       "      <td>1.000000</td>\n",
       "    </tr>\n",
       "  </tbody>\n",
       "</table>\n",
       "<p>101 rows × 8 columns</p>\n",
       "</div>"
      ],
      "text/plain": [
       "         region  desempenho     Country  GDP ($ per capita)        nome  \\\n",
       "0       Algeria           1     Algeria              6000.0     Algeria   \n",
       "1     Argentina          26   Argentina             11200.0   Argentina   \n",
       "2       Armenia           5     Armenia              3500.0     Armenia   \n",
       "3     Australia          82   Australia             29000.0   Australia   \n",
       "4       Austria          25     Austria             30000.0     Austria   \n",
       "..          ...         ...         ...                 ...         ...   \n",
       "96   Uzbekistan           8  Uzbekistan              1700.0  Uzbekistan   \n",
       "97    Venezuela           2   Venezuela              4800.0   Venezuela   \n",
       "98      Vietnam           5     Vietnam              2500.0     Vietnam   \n",
       "99       Zambia           2      Zambia               800.0      Zambia   \n",
       "100    Zimbabwe           3    Zimbabwe              1900.0    Zimbabwe   \n",
       "\n",
       "            _x         _y  clustering coefficient  \n",
       "0     2.158270  10.936051                1.000000  \n",
       "1     6.305709   7.233079                0.772300  \n",
       "2     5.478909  15.386405                0.934461  \n",
       "3     6.306635  11.961618                0.695857  \n",
       "4     9.002447   7.944921                0.895877  \n",
       "..         ...        ...                     ...  \n",
       "96    3.114293   7.179942                0.904150  \n",
       "97    3.653940   5.944293                0.909774  \n",
       "98    6.149849  16.529511                0.911406  \n",
       "99   15.695072   8.687969                1.000000  \n",
       "100   0.101930  13.164686                1.000000  \n",
       "\n",
       "[101 rows x 8 columns]"
      ]
     },
     "execution_count": 52,
     "metadata": {},
     "output_type": "execute_result"
    }
   ],
   "source": [
    "df_desempenho_pais_total"
   ]
  },
  {
   "cell_type": "code",
   "execution_count": 53,
   "id": "09ca3e92",
   "metadata": {},
   "outputs": [],
   "source": [
    "df_desempenho_pais_total['y'] = df_desempenho_pais_total['GDP ($ per capita)']\n",
    "df_desempenho_pais_total['c'] = df_desempenho_pais_total['clustering coefficient']"
   ]
  },
  {
   "cell_type": "code",
   "execution_count": 54,
   "id": "638dc391",
   "metadata": {},
   "outputs": [
    {
     "data": {
      "text/html": [
       "<table class=\"simpletable\">\n",
       "<caption>OLS Regression Results</caption>\n",
       "<tr>\n",
       "  <th>Dep. Variable:</th>       <td>desempenho</td>    <th>  R-squared:         </th> <td>   0.165</td>\n",
       "</tr>\n",
       "<tr>\n",
       "  <th>Model:</th>                   <td>OLS</td>       <th>  Adj. R-squared:    </th> <td>   0.156</td>\n",
       "</tr>\n",
       "<tr>\n",
       "  <th>Method:</th>             <td>Least Squares</td>  <th>  F-statistic:       </th> <td>   17.99</td>\n",
       "</tr>\n",
       "<tr>\n",
       "  <th>Date:</th>             <td>Fri, 12 Nov 2021</td> <th>  Prob (F-statistic):</th> <td>5.33e-05</td>\n",
       "</tr>\n",
       "<tr>\n",
       "  <th>Time:</th>                 <td>19:26:03</td>     <th>  Log-Likelihood:    </th> <td> -459.55</td>\n",
       "</tr>\n",
       "<tr>\n",
       "  <th>No. Observations:</th>      <td>    93</td>      <th>  AIC:               </th> <td>   923.1</td>\n",
       "</tr>\n",
       "<tr>\n",
       "  <th>Df Residuals:</th>          <td>    91</td>      <th>  BIC:               </th> <td>   928.2</td>\n",
       "</tr>\n",
       "<tr>\n",
       "  <th>Df Model:</th>              <td>     1</td>      <th>                     </th>     <td> </td>   \n",
       "</tr>\n",
       "<tr>\n",
       "  <th>Covariance Type:</th>      <td>nonrobust</td>    <th>                     </th>     <td> </td>   \n",
       "</tr>\n",
       "</table>\n",
       "<table class=\"simpletable\">\n",
       "<tr>\n",
       "      <td></td>         <th>coef</th>     <th>std err</th>      <th>t</th>      <th>P>|t|</th>  <th>[0.025</th>    <th>0.975]</th>  \n",
       "</tr>\n",
       "<tr>\n",
       "  <th>Intercept</th> <td>    7.1337</td> <td>    5.308</td> <td>    1.344</td> <td> 0.182</td> <td>   -3.410</td> <td>   17.678</td>\n",
       "</tr>\n",
       "<tr>\n",
       "  <th>y</th>         <td>    0.0015</td> <td>    0.000</td> <td>    4.241</td> <td> 0.000</td> <td>    0.001</td> <td>    0.002</td>\n",
       "</tr>\n",
       "</table>\n",
       "<table class=\"simpletable\">\n",
       "<tr>\n",
       "  <th>Omnibus:</th>       <td>112.319</td> <th>  Durbin-Watson:     </th> <td>   1.780</td>\n",
       "</tr>\n",
       "<tr>\n",
       "  <th>Prob(Omnibus):</th> <td> 0.000</td>  <th>  Jarque-Bera (JB):  </th> <td>2196.977</td>\n",
       "</tr>\n",
       "<tr>\n",
       "  <th>Skew:</th>          <td> 3.948</td>  <th>  Prob(JB):          </th> <td>    0.00</td>\n",
       "</tr>\n",
       "<tr>\n",
       "  <th>Kurtosis:</th>      <td>25.464</td>  <th>  Cond. No.          </th> <td>2.25e+04</td>\n",
       "</tr>\n",
       "</table><br/><br/>Notes:<br/>[1] Standard Errors assume that the covariance matrix of the errors is correctly specified.<br/>[2] The condition number is large, 2.25e+04. This might indicate that there are<br/>strong multicollinearity or other numerical problems."
      ],
      "text/plain": [
       "<class 'statsmodels.iolib.summary.Summary'>\n",
       "\"\"\"\n",
       "                            OLS Regression Results                            \n",
       "==============================================================================\n",
       "Dep. Variable:             desempenho   R-squared:                       0.165\n",
       "Model:                            OLS   Adj. R-squared:                  0.156\n",
       "Method:                 Least Squares   F-statistic:                     17.99\n",
       "Date:                Fri, 12 Nov 2021   Prob (F-statistic):           5.33e-05\n",
       "Time:                        19:26:03   Log-Likelihood:                -459.55\n",
       "No. Observations:                  93   AIC:                             923.1\n",
       "Df Residuals:                      91   BIC:                             928.2\n",
       "Df Model:                           1                                         \n",
       "Covariance Type:            nonrobust                                         \n",
       "==============================================================================\n",
       "                 coef    std err          t      P>|t|      [0.025      0.975]\n",
       "------------------------------------------------------------------------------\n",
       "Intercept      7.1337      5.308      1.344      0.182      -3.410      17.678\n",
       "y              0.0015      0.000      4.241      0.000       0.001       0.002\n",
       "==============================================================================\n",
       "Omnibus:                      112.319   Durbin-Watson:                   1.780\n",
       "Prob(Omnibus):                  0.000   Jarque-Bera (JB):             2196.977\n",
       "Skew:                           3.948   Prob(JB):                         0.00\n",
       "Kurtosis:                      25.464   Cond. No.                     2.25e+04\n",
       "==============================================================================\n",
       "\n",
       "Notes:\n",
       "[1] Standard Errors assume that the covariance matrix of the errors is correctly specified.\n",
       "[2] The condition number is large, 2.25e+04. This might indicate that there are\n",
       "strong multicollinearity or other numerical problems.\n",
       "\"\"\""
      ]
     },
     "execution_count": 54,
     "metadata": {},
     "output_type": "execute_result"
    }
   ],
   "source": [
    "model = smf.ols(data=df_desempenho_pais_total, formula='desempenho ~ y')\n",
    "result = model.fit()\n",
    "result.summary()"
   ]
  },
  {
   "cell_type": "code",
   "execution_count": 55,
   "id": "622f92fe",
   "metadata": {},
   "outputs": [
    {
     "data": {
      "image/png": "[encoded data removed]",
      "text/plain": [
       "<Figure size 432x288 with 1 Axes>"
      ]
     },
     "metadata": {},
     "output_type": "display_data"
    }
   ],
   "source": [
    "sns.regplot(x=df_desempenho_pais_total['desempenho'], y=np.log(df_desempenho_pais_total['y']))\n",
    "plt.show()"
   ]
  },
  {
   "cell_type": "markdown",
   "id": "5c887fd7",
   "metadata": {},
   "source": [
    "### Conclusão\n",
    "---"
   ]
  },
  {
   "cell_type": "markdown",
   "id": "d1f2e0d1",
   "metadata": {},
   "source": [
    "Com base na regressão feita acima, podemos ver que o coeficiente é muito pequeno. O $R^2$ obtido também é muito pequeno, mostrando que não há um bom fit entre as duas variáveis. Além disso, os valores para o eixo X (desempenho) também são muito parecidos, o que faz o gráfico ficar \"empilhado\", isso é possível confirmar apartir da visualização acima. Portanto podemos rejeitar a hipótese de que mais riqueza signifca mais desempenho."
   ]
  },
  {
   "cell_type": "markdown",
   "id": "44ce2e30",
   "metadata": {},
   "source": [
    "## Clustering Coefficient X Desempenho"
   ]
  },
  {
   "cell_type": "code",
   "execution_count": 56,
   "id": "267fc48b",
   "metadata": {},
   "outputs": [],
   "source": [
    "df_desempenho_cluster = df_desempenho_pais_total.dropna(subset=['clustering coefficient'])"
   ]
  },
  {
   "cell_type": "code",
   "execution_count": 57,
   "id": "3d254db9",
   "metadata": {
    "scrolled": false
   },
   "outputs": [
    {
     "data": {
      "text/html": [
       "<table class=\"simpletable\">\n",
       "<caption>OLS Regression Results</caption>\n",
       "<tr>\n",
       "  <th>Dep. Variable:</th>       <td>desempenho</td>    <th>  R-squared:         </th> <td>   0.510</td>\n",
       "</tr>\n",
       "<tr>\n",
       "  <th>Model:</th>                   <td>OLS</td>       <th>  Adj. R-squared:    </th> <td>   0.505</td>\n",
       "</tr>\n",
       "<tr>\n",
       "  <th>Method:</th>             <td>Least Squares</td>  <th>  F-statistic:       </th> <td>   94.76</td>\n",
       "</tr>\n",
       "<tr>\n",
       "  <th>Date:</th>             <td>Fri, 12 Nov 2021</td> <th>  Prob (F-statistic):</th> <td>9.17e-16</td>\n",
       "</tr>\n",
       "<tr>\n",
       "  <th>Time:</th>                 <td>19:26:05</td>     <th>  Log-Likelihood:    </th> <td> -434.75</td>\n",
       "</tr>\n",
       "<tr>\n",
       "  <th>No. Observations:</th>      <td>    93</td>      <th>  AIC:               </th> <td>   873.5</td>\n",
       "</tr>\n",
       "<tr>\n",
       "  <th>Df Residuals:</th>          <td>    91</td>      <th>  BIC:               </th> <td>   878.6</td>\n",
       "</tr>\n",
       "<tr>\n",
       "  <th>Df Model:</th>              <td>     1</td>      <th>                     </th>     <td> </td>   \n",
       "</tr>\n",
       "<tr>\n",
       "  <th>Covariance Type:</th>      <td>nonrobust</td>    <th>                     </th>     <td> </td>   \n",
       "</tr>\n",
       "</table>\n",
       "<table class=\"simpletable\">\n",
       "<tr>\n",
       "      <td></td>         <th>coef</th>     <th>std err</th>      <th>t</th>      <th>P>|t|</th>  <th>[0.025</th>    <th>0.975]</th>  \n",
       "</tr>\n",
       "<tr>\n",
       "  <th>Intercept</th> <td>  201.5400</td> <td>   18.453</td> <td>   10.922</td> <td> 0.000</td> <td>  164.885</td> <td>  238.195</td>\n",
       "</tr>\n",
       "<tr>\n",
       "  <th>c</th>         <td> -207.8944</td> <td>   21.357</td> <td>   -9.734</td> <td> 0.000</td> <td> -250.317</td> <td> -165.471</td>\n",
       "</tr>\n",
       "</table>\n",
       "<table class=\"simpletable\">\n",
       "<tr>\n",
       "  <th>Omnibus:</th>       <td>96.393</td> <th>  Durbin-Watson:     </th> <td>   2.153</td>\n",
       "</tr>\n",
       "<tr>\n",
       "  <th>Prob(Omnibus):</th> <td> 0.000</td> <th>  Jarque-Bera (JB):  </th> <td>1585.334</td>\n",
       "</tr>\n",
       "<tr>\n",
       "  <th>Skew:</th>          <td> 3.155</td> <th>  Prob(JB):          </th> <td>    0.00</td>\n",
       "</tr>\n",
       "<tr>\n",
       "  <th>Kurtosis:</th>      <td>22.217</td> <th>  Cond. No.          </th> <td>    13.6</td>\n",
       "</tr>\n",
       "</table><br/><br/>Notes:<br/>[1] Standard Errors assume that the covariance matrix of the errors is correctly specified."
      ],
      "text/plain": [
       "<class 'statsmodels.iolib.summary.Summary'>\n",
       "\"\"\"\n",
       "                            OLS Regression Results                            \n",
       "==============================================================================\n",
       "Dep. Variable:             desempenho   R-squared:                       0.510\n",
       "Model:                            OLS   Adj. R-squared:                  0.505\n",
       "Method:                 Least Squares   F-statistic:                     94.76\n",
       "Date:                Fri, 12 Nov 2021   Prob (F-statistic):           9.17e-16\n",
       "Time:                        19:26:05   Log-Likelihood:                -434.75\n",
       "No. Observations:                  93   AIC:                             873.5\n",
       "Df Residuals:                      91   BIC:                             878.6\n",
       "Df Model:                           1                                         \n",
       "Covariance Type:            nonrobust                                         \n",
       "==============================================================================\n",
       "                 coef    std err          t      P>|t|      [0.025      0.975]\n",
       "------------------------------------------------------------------------------\n",
       "Intercept    201.5400     18.453     10.922      0.000     164.885     238.195\n",
       "c           -207.8944     21.357     -9.734      0.000    -250.317    -165.471\n",
       "==============================================================================\n",
       "Omnibus:                       96.393   Durbin-Watson:                   2.153\n",
       "Prob(Omnibus):                  0.000   Jarque-Bera (JB):             1585.334\n",
       "Skew:                           3.155   Prob(JB):                         0.00\n",
       "Kurtosis:                      22.217   Cond. No.                         13.6\n",
       "==============================================================================\n",
       "\n",
       "Notes:\n",
       "[1] Standard Errors assume that the covariance matrix of the errors is correctly specified.\n",
       "\"\"\""
      ]
     },
     "execution_count": 57,
     "metadata": {},
     "output_type": "execute_result"
    }
   ],
   "source": [
    "model = smf.ols(data=df_desempenho_cluster, formula='desempenho ~ c')\n",
    "result = model.fit()\n",
    "result.summary()"
   ]
  },
  {
   "cell_type": "code",
   "execution_count": 58,
   "id": "ae3bede5",
   "metadata": {},
   "outputs": [
    {
     "data": {
      "image/png": "[encoded data removed]",
      "text/plain": [
       "<Figure size 432x288 with 1 Axes>"
      ]
     },
     "metadata": {},
     "output_type": "display_data"
    }
   ],
   "source": [
    "sns.regplot(x=df_desempenho_cluster['desempenho'], y=df_desempenho_cluster['c'])\n",
    "plt.show()"
   ]
  },
  {
   "cell_type": "markdown",
   "id": "39ab118e",
   "metadata": {},
   "source": [
    "### Análise com variáveis de controle"
   ]
  },
  {
   "cell_type": "markdown",
   "id": "41604eb4",
   "metadata": {},
   "source": [
    "#### Desempenho X (Clustering Coefficient + GDP)"
   ]
  },
  {
   "cell_type": "code",
   "execution_count": 59,
   "id": "4118ff13",
   "metadata": {},
   "outputs": [
    {
     "data": {
      "image/png": "[encoded data removed]",
      "text/plain": [
       "<Figure size 432x288 with 1 Axes>"
      ]
     },
     "metadata": {},
     "output_type": "display_data"
    }
   ],
   "source": [
    "sns.regplot(x=df_desempenho_cluster['desempenho'], y=(df_desempenho_cluster['c'] + np.log(df_desempenho_cluster['y'])))\n",
    "plt.show()"
   ]
  },
  {
   "cell_type": "code",
   "execution_count": 60,
   "id": "145f67af",
   "metadata": {
    "scrolled": true
   },
   "outputs": [
    {
     "data": {
      "text/html": [
       "<table class=\"simpletable\">\n",
       "<caption>OLS Regression Results</caption>\n",
       "<tr>\n",
       "  <th>Dep. Variable:</th>       <td>desempenho</td>    <th>  R-squared:         </th> <td>   0.540</td>\n",
       "</tr>\n",
       "<tr>\n",
       "  <th>Model:</th>                   <td>OLS</td>       <th>  Adj. R-squared:    </th> <td>   0.530</td>\n",
       "</tr>\n",
       "<tr>\n",
       "  <th>Method:</th>             <td>Least Squares</td>  <th>  F-statistic:       </th> <td>   52.85</td>\n",
       "</tr>\n",
       "<tr>\n",
       "  <th>Date:</th>             <td>Fri, 12 Nov 2021</td> <th>  Prob (F-statistic):</th> <td>6.60e-16</td>\n",
       "</tr>\n",
       "<tr>\n",
       "  <th>Time:</th>                 <td>19:26:06</td>     <th>  Log-Likelihood:    </th> <td> -431.81</td>\n",
       "</tr>\n",
       "<tr>\n",
       "  <th>No. Observations:</th>      <td>    93</td>      <th>  AIC:               </th> <td>   869.6</td>\n",
       "</tr>\n",
       "<tr>\n",
       "  <th>Df Residuals:</th>          <td>    90</td>      <th>  BIC:               </th> <td>   877.2</td>\n",
       "</tr>\n",
       "<tr>\n",
       "  <th>Df Model:</th>              <td>     2</td>      <th>                     </th>     <td> </td>   \n",
       "</tr>\n",
       "<tr>\n",
       "  <th>Covariance Type:</th>      <td>nonrobust</td>    <th>                     </th>     <td> </td>   \n",
       "</tr>\n",
       "</table>\n",
       "<table class=\"simpletable\">\n",
       "<tr>\n",
       "      <td></td>         <th>coef</th>     <th>std err</th>      <th>t</th>      <th>P>|t|</th>  <th>[0.025</th>    <th>0.975]</th>  \n",
       "</tr>\n",
       "<tr>\n",
       "  <th>Intercept</th> <td>  178.3298</td> <td>   20.371</td> <td>    8.754</td> <td> 0.000</td> <td>  137.859</td> <td>  218.800</td>\n",
       "</tr>\n",
       "<tr>\n",
       "  <th>y</th>         <td>    0.0007</td> <td>    0.000</td> <td>    2.423</td> <td> 0.017</td> <td>    0.000</td> <td>    0.001</td>\n",
       "</tr>\n",
       "<tr>\n",
       "  <th>c</th>         <td> -189.6174</td> <td>   22.132</td> <td>   -8.567</td> <td> 0.000</td> <td> -233.587</td> <td> -145.648</td>\n",
       "</tr>\n",
       "</table>\n",
       "<table class=\"simpletable\">\n",
       "<tr>\n",
       "  <th>Omnibus:</th>       <td>115.186</td> <th>  Durbin-Watson:     </th> <td>   2.078</td>\n",
       "</tr>\n",
       "<tr>\n",
       "  <th>Prob(Omnibus):</th> <td> 0.000</td>  <th>  Jarque-Bera (JB):  </th> <td>2814.572</td>\n",
       "</tr>\n",
       "<tr>\n",
       "  <th>Skew:</th>          <td> 3.980</td>  <th>  Prob(JB):          </th> <td>    0.00</td>\n",
       "</tr>\n",
       "<tr>\n",
       "  <th>Kurtosis:</th>      <td>28.749</td>  <th>  Cond. No.          </th> <td>1.70e+05</td>\n",
       "</tr>\n",
       "</table><br/><br/>Notes:<br/>[1] Standard Errors assume that the covariance matrix of the errors is correctly specified.<br/>[2] The condition number is large, 1.7e+05. This might indicate that there are<br/>strong multicollinearity or other numerical problems."
      ],
      "text/plain": [
       "<class 'statsmodels.iolib.summary.Summary'>\n",
       "\"\"\"\n",
       "                            OLS Regression Results                            \n",
       "==============================================================================\n",
       "Dep. Variable:             desempenho   R-squared:                       0.540\n",
       "Model:                            OLS   Adj. R-squared:                  0.530\n",
       "Method:                 Least Squares   F-statistic:                     52.85\n",
       "Date:                Fri, 12 Nov 2021   Prob (F-statistic):           6.60e-16\n",
       "Time:                        19:26:06   Log-Likelihood:                -431.81\n",
       "No. Observations:                  93   AIC:                             869.6\n",
       "Df Residuals:                      90   BIC:                             877.2\n",
       "Df Model:                           2                                         \n",
       "Covariance Type:            nonrobust                                         \n",
       "==============================================================================\n",
       "                 coef    std err          t      P>|t|      [0.025      0.975]\n",
       "------------------------------------------------------------------------------\n",
       "Intercept    178.3298     20.371      8.754      0.000     137.859     218.800\n",
       "y              0.0007      0.000      2.423      0.017       0.000       0.001\n",
       "c           -189.6174     22.132     -8.567      0.000    -233.587    -145.648\n",
       "==============================================================================\n",
       "Omnibus:                      115.186   Durbin-Watson:                   2.078\n",
       "Prob(Omnibus):                  0.000   Jarque-Bera (JB):             2814.572\n",
       "Skew:                           3.980   Prob(JB):                         0.00\n",
       "Kurtosis:                      28.749   Cond. No.                     1.70e+05\n",
       "==============================================================================\n",
       "\n",
       "Notes:\n",
       "[1] Standard Errors assume that the covariance matrix of the errors is correctly specified.\n",
       "[2] The condition number is large, 1.7e+05. This might indicate that there are\n",
       "strong multicollinearity or other numerical problems.\n",
       "\"\"\""
      ]
     },
     "execution_count": 60,
     "metadata": {},
     "output_type": "execute_result"
    }
   ],
   "source": [
    "model = smf.ols(data=df_desempenho_cluster, formula='desempenho ~ y+c')\n",
    "result = model.fit()\n",
    "result.summary()"
   ]
  },
  {
   "cell_type": "code",
   "execution_count": null,
   "id": "24a7866b",
   "metadata": {},
   "outputs": [],
   "source": []
  },
  {
   "cell_type": "markdown",
   "id": "a4a7da3a",
   "metadata": {},
   "source": [
    "#### Filtragem"
   ]
  },
  {
   "cell_type": "code",
   "execution_count": 61,
   "id": "d54650e1",
   "metadata": {},
   "outputs": [
    {
     "data": {
      "text/html": [
       "<div>\n",
       "<style scoped>\n",
       "    .dataframe tbody tr th:only-of-type {\n",
       "        vertical-align: middle;\n",
       "    }\n",
       "\n",
       "    .dataframe tbody tr th {\n",
       "        vertical-align: top;\n",
       "    }\n",
       "\n",
       "    .dataframe thead th {\n",
       "        text-align: right;\n",
       "    }\n",
       "</style>\n",
       "<table border=\"1\" class=\"dataframe\">\n",
       "  <thead>\n",
       "    <tr style=\"text-align: right;\">\n",
       "      <th></th>\n",
       "      <th>region</th>\n",
       "      <th>desempenho</th>\n",
       "      <th>Country</th>\n",
       "      <th>GDP ($ per capita)</th>\n",
       "      <th>nome</th>\n",
       "      <th>_x</th>\n",
       "      <th>_y</th>\n",
       "      <th>clustering coefficient</th>\n",
       "      <th>y</th>\n",
       "      <th>c</th>\n",
       "    </tr>\n",
       "  </thead>\n",
       "  <tbody>\n",
       "    <tr>\n",
       "      <th>14</th>\n",
       "      <td>China</td>\n",
       "      <td>120</td>\n",
       "      <td>China</td>\n",
       "      <td>5000.0</td>\n",
       "      <td>China</td>\n",
       "      <td>5.809243</td>\n",
       "      <td>9.417081</td>\n",
       "      <td>0.674692</td>\n",
       "      <td>5000.0</td>\n",
       "      <td>0.674692</td>\n",
       "    </tr>\n",
       "    <tr>\n",
       "      <th>29</th>\n",
       "      <td>Germany</td>\n",
       "      <td>142</td>\n",
       "      <td>Germany</td>\n",
       "      <td>27600.0</td>\n",
       "      <td>Germany</td>\n",
       "      <td>8.213067</td>\n",
       "      <td>10.897434</td>\n",
       "      <td>0.577534</td>\n",
       "      <td>27600.0</td>\n",
       "      <td>0.577534</td>\n",
       "    </tr>\n",
       "    <tr>\n",
       "      <th>75</th>\n",
       "      <td>Russia</td>\n",
       "      <td>252</td>\n",
       "      <td>Russia</td>\n",
       "      <td>8900.0</td>\n",
       "      <td>Russia</td>\n",
       "      <td>7.393133</td>\n",
       "      <td>10.280062</td>\n",
       "      <td>0.587500</td>\n",
       "      <td>8900.0</td>\n",
       "      <td>0.587500</td>\n",
       "    </tr>\n",
       "    <tr>\n",
       "      <th>93</th>\n",
       "      <td>USA</td>\n",
       "      <td>198</td>\n",
       "      <td>NaN</td>\n",
       "      <td>NaN</td>\n",
       "      <td>NaN</td>\n",
       "      <td>NaN</td>\n",
       "      <td>NaN</td>\n",
       "      <td>NaN</td>\n",
       "      <td>NaN</td>\n",
       "      <td>NaN</td>\n",
       "    </tr>\n",
       "  </tbody>\n",
       "</table>\n",
       "</div>"
      ],
      "text/plain": [
       "     region  desempenho  Country  GDP ($ per capita)     nome        _x  \\\n",
       "14    China         120    China              5000.0    China  5.809243   \n",
       "29  Germany         142  Germany             27600.0  Germany  8.213067   \n",
       "75   Russia         252   Russia              8900.0   Russia  7.393133   \n",
       "93      USA         198      NaN                 NaN      NaN       NaN   \n",
       "\n",
       "           _y  clustering coefficient        y         c  \n",
       "14   9.417081                0.674692   5000.0  0.674692  \n",
       "29  10.897434                0.577534  27600.0  0.577534  \n",
       "75  10.280062                0.587500   8900.0  0.587500  \n",
       "93        NaN                     NaN      NaN       NaN  "
      ]
     },
     "execution_count": 61,
     "metadata": {},
     "output_type": "execute_result"
    }
   ],
   "source": [
    "df_desempenho_pais_total[df_desempenho_pais_total['desempenho']>100]\n"
   ]
  },
  {
   "cell_type": "code",
   "execution_count": 62,
   "id": "9b404209",
   "metadata": {},
   "outputs": [],
   "source": [
    "df_desempenho_pais_filtered = df_desempenho_pais_total[df_desempenho_pais_total['desempenho']<100]"
   ]
  },
  {
   "cell_type": "code",
   "execution_count": 63,
   "id": "455d37c7",
   "metadata": {},
   "outputs": [],
   "source": [
    "df_desempenho_cluster = df_desempenho_pais_filtered.dropna(subset=['clustering coefficient'])"
   ]
  },
  {
   "cell_type": "code",
   "execution_count": 64,
   "id": "9249dc50",
   "metadata": {},
   "outputs": [
    {
     "data": {
      "text/html": [
       "<table class=\"simpletable\">\n",
       "<caption>OLS Regression Results</caption>\n",
       "<tr>\n",
       "  <th>Dep. Variable:</th>       <td>desempenho</td>    <th>  R-squared:         </th> <td>   0.736</td>\n",
       "</tr>\n",
       "<tr>\n",
       "  <th>Model:</th>                   <td>OLS</td>       <th>  Adj. R-squared:    </th> <td>   0.730</td>\n",
       "</tr>\n",
       "<tr>\n",
       "  <th>Method:</th>             <td>Least Squares</td>  <th>  F-statistic:       </th> <td>   121.4</td>\n",
       "</tr>\n",
       "<tr>\n",
       "  <th>Date:</th>             <td>Fri, 12 Nov 2021</td> <th>  Prob (F-statistic):</th> <td>6.73e-26</td>\n",
       "</tr>\n",
       "<tr>\n",
       "  <th>Time:</th>                 <td>19:26:07</td>     <th>  Log-Likelihood:    </th> <td> -352.44</td>\n",
       "</tr>\n",
       "<tr>\n",
       "  <th>No. Observations:</th>      <td>    90</td>      <th>  AIC:               </th> <td>   710.9</td>\n",
       "</tr>\n",
       "<tr>\n",
       "  <th>Df Residuals:</th>          <td>    87</td>      <th>  BIC:               </th> <td>   718.4</td>\n",
       "</tr>\n",
       "<tr>\n",
       "  <th>Df Model:</th>              <td>     2</td>      <th>                     </th>     <td> </td>   \n",
       "</tr>\n",
       "<tr>\n",
       "  <th>Covariance Type:</th>      <td>nonrobust</td>    <th>                     </th>     <td> </td>   \n",
       "</tr>\n",
       "</table>\n",
       "<table class=\"simpletable\">\n",
       "<tr>\n",
       "      <td></td>         <th>coef</th>     <th>std err</th>      <th>t</th>      <th>P>|t|</th>  <th>[0.025</th>    <th>0.975]</th>  \n",
       "</tr>\n",
       "<tr>\n",
       "  <th>Intercept</th> <td>  115.2034</td> <td>   10.580</td> <td>   10.889</td> <td> 0.000</td> <td>   94.175</td> <td>  136.232</td>\n",
       "</tr>\n",
       "<tr>\n",
       "  <th>y</th>         <td>    0.0009</td> <td>    0.000</td> <td>    6.823</td> <td> 0.000</td> <td>    0.001</td> <td>    0.001</td>\n",
       "</tr>\n",
       "<tr>\n",
       "  <th>c</th>         <td> -123.6761</td> <td>   11.446</td> <td>  -10.805</td> <td> 0.000</td> <td> -146.427</td> <td> -100.926</td>\n",
       "</tr>\n",
       "</table>\n",
       "<table class=\"simpletable\">\n",
       "<tr>\n",
       "  <th>Omnibus:</th>       <td> 0.591</td> <th>  Durbin-Watson:     </th> <td>   1.799</td>\n",
       "</tr>\n",
       "<tr>\n",
       "  <th>Prob(Omnibus):</th> <td> 0.744</td> <th>  Jarque-Bera (JB):  </th> <td>   0.660</td>\n",
       "</tr>\n",
       "<tr>\n",
       "  <th>Skew:</th>          <td> 0.184</td> <th>  Prob(JB):          </th> <td>   0.719</td>\n",
       "</tr>\n",
       "<tr>\n",
       "  <th>Kurtosis:</th>      <td> 2.798</td> <th>  Cond. No.          </th> <td>1.79e+05</td>\n",
       "</tr>\n",
       "</table><br/><br/>Notes:<br/>[1] Standard Errors assume that the covariance matrix of the errors is correctly specified.<br/>[2] The condition number is large, 1.79e+05. This might indicate that there are<br/>strong multicollinearity or other numerical problems."
      ],
      "text/plain": [
       "<class 'statsmodels.iolib.summary.Summary'>\n",
       "\"\"\"\n",
       "                            OLS Regression Results                            \n",
       "==============================================================================\n",
       "Dep. Variable:             desempenho   R-squared:                       0.736\n",
       "Model:                            OLS   Adj. R-squared:                  0.730\n",
       "Method:                 Least Squares   F-statistic:                     121.4\n",
       "Date:                Fri, 12 Nov 2021   Prob (F-statistic):           6.73e-26\n",
       "Time:                        19:26:07   Log-Likelihood:                -352.44\n",
       "No. Observations:                  90   AIC:                             710.9\n",
       "Df Residuals:                      87   BIC:                             718.4\n",
       "Df Model:                           2                                         \n",
       "Covariance Type:            nonrobust                                         \n",
       "==============================================================================\n",
       "                 coef    std err          t      P>|t|      [0.025      0.975]\n",
       "------------------------------------------------------------------------------\n",
       "Intercept    115.2034     10.580     10.889      0.000      94.175     136.232\n",
       "y              0.0009      0.000      6.823      0.000       0.001       0.001\n",
       "c           -123.6761     11.446    -10.805      0.000    -146.427    -100.926\n",
       "==============================================================================\n",
       "Omnibus:                        0.591   Durbin-Watson:                   1.799\n",
       "Prob(Omnibus):                  0.744   Jarque-Bera (JB):                0.660\n",
       "Skew:                           0.184   Prob(JB):                        0.719\n",
       "Kurtosis:                       2.798   Cond. No.                     1.79e+05\n",
       "==============================================================================\n",
       "\n",
       "Notes:\n",
       "[1] Standard Errors assume that the covariance matrix of the errors is correctly specified.\n",
       "[2] The condition number is large, 1.79e+05. This might indicate that there are\n",
       "strong multicollinearity or other numerical problems.\n",
       "\"\"\""
      ]
     },
     "execution_count": 64,
     "metadata": {},
     "output_type": "execute_result"
    }
   ],
   "source": [
    "model = smf.ols(data=df_desempenho_cluster, formula='desempenho ~ y+c')\n",
    "result = model.fit()\n",
    "result.summary()"
   ]
  },
  {
   "cell_type": "code",
   "execution_count": 65,
   "id": "97e7e662",
   "metadata": {},
   "outputs": [
    {
     "data": {
      "image/png": "[encoded data removed]",
      "text/plain": [
       "<Figure size 432x288 with 1 Axes>"
      ]
     },
     "metadata": {},
     "output_type": "display_data"
    }
   ],
   "source": [
    "sns.regplot(x=df_desempenho_cluster['desempenho'], y=df_desempenho_cluster['c'])\n",
    "plt.show()"
   ]
  },
  {
   "cell_type": "code",
   "execution_count": null,
   "id": "97db4234",
   "metadata": {},
   "outputs": [],
   "source": []
  },
  {
   "cell_type": "code",
   "execution_count": null,
   "id": "9ef6ab7d",
   "metadata": {},
   "outputs": [],
   "source": []
  }
 ],
 "metadata": {
  "kernelspec": {
   "display_name": "Python 3 (ipykernel)",
   "language": "python",
   "name": "python3"
  },
  "language_info": {
   "codemirror_mode": {
    "name": "ipython",
    "version": 3
   },
   "file_extension": ".py",
   "mimetype": "text/x-python",
   "name": "python",
   "nbconvert_exporter": "python",
   "pygments_lexer": "ipython3",
   "version": "3.7.11"
  }
 },
 "nbformat": 4,
 "nbformat_minor": 5
}
