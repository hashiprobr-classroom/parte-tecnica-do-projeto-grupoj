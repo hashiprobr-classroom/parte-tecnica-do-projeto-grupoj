{
 "cells": [
  {
   "cell_type": "markdown",
   "id": "d035824f",
   "metadata": {},
   "source": [
    "# Redes sociais - P1\n",
    "Fernando Fincatti, Gabriela Moreno, Gabriella Cukier e Manuel Castanares\n",
    "\n",
    "---"
   ]
  },
  {
   "cell_type": "markdown",
   "id": "275c48d1",
   "metadata": {},
   "source": [
    "### Importando bibliotecas\n",
    "---"
   ]
  },
  {
   "cell_type": "code",
   "execution_count": 1,
   "id": "7f0bc593",
   "metadata": {},
   "outputs": [
    {
     "data": {
      "text/html": [
       "\n",
       "    <script src=\"/files/netpixi.min.js\"></script>\n"
      ],
      "text/plain": [
       "<IPython.core.display.HTML object>"
      ]
     },
     "metadata": {},
     "output_type": "display_data"
    }
   ],
   "source": [
    "import netpixi\n",
    "from netpixi.data.gt import *\n",
    "import cpnet\n",
    "from graph_tool import spectral\n",
    "import pandas as pd\n",
    "import statsmodels.formula.api as smf\n",
    "import numpy as np\n",
    "import matplotlib.pyplot as plt\n",
    "import seaborn as sns\n",
    "from math import sqrt\n",
    "sns.set()\n",
    "from matplotlib import rcParams\n",
    "import statsmodels.formula.api as smf\n",
    "import csv\n",
    "import pandas as pd\n",
    "from graph_tool import util\n",
    "from graph_tool import Graph\n",
    "from utils import *\n",
    "from graph_tool import clustering\n"
   ]
  },
  {
   "cell_type": "markdown",
   "id": "6fd03527",
   "metadata": {},
   "source": [
    "# Análise ANTES da década de 1990"
   ]
  },
  {
   "cell_type": "markdown",
   "id": "443208c1",
   "metadata": {},
   "source": [
    "### Carrega dados\n",
    "---"
   ]
  },
  {
   "cell_type": "code",
   "execution_count": 2,
   "id": "e243b4e4",
   "metadata": {},
   "outputs": [],
   "source": [
    "#carrega dados\n",
    "df = pd.read_csv('athlete_events.csv')\n",
    "df_noc = pd.read_csv('noc_regions.csv')\n",
    "df_gdp = pd.read_csv('countries of the world.csv')"
   ]
  },
  {
   "cell_type": "code",
   "execution_count": 3,
   "id": "32df6a6b",
   "metadata": {},
   "outputs": [],
   "source": [
    "#junta ambas as tabelas\n",
    "df_merge_original=df.merge(df_noc,how=\"left\",on=\"NOC\")\n",
    "\n",
    "#dropa linhas sem a região\n",
    "df_merge_original=df_merge_original.dropna(subset=['region'])"
   ]
  },
  {
   "cell_type": "code",
   "execution_count": 4,
   "id": "634aec52",
   "metadata": {},
   "outputs": [],
   "source": [
    "#filtra somente datas posteriores a 1970\n",
    "df_merge_before=df_merge_original[df_merge_original[\"Year\"] >= 1970]\n",
    "df_merge_before=df_merge_before[df_merge_before[\"Year\"] <= 1990]"
   ]
  },
  {
   "cell_type": "markdown",
   "id": "68017fa3",
   "metadata": {},
   "source": [
    "### Análise\n",
    "---"
   ]
  },
  {
   "cell_type": "code",
   "execution_count": 5,
   "id": "9c51860c",
   "metadata": {},
   "outputs": [],
   "source": [
    "#cria grafo não-dirigido\n",
    "g = Graph(directed=False)\n",
    "c = Graph(directed=False) "
   ]
  },
  {
   "cell_type": "code",
   "execution_count": 6,
   "id": "e8790e93",
   "metadata": {},
   "outputs": [],
   "source": [
    "df_merge_before['desempenho'] = df_merge_before['Medal'].apply(lambda x: desempenho(x))\n",
    "\n",
    "#dropa valores duplicados\n",
    "df_desempenho = df_merge_before.drop_duplicates(subset=[\"Year\",\"Sport\",\"region\"])\n",
    "\n",
    "#remove paises com desempenho 0\n",
    "df_desempenho = df_desempenho.loc[df_desempenho.desempenho>0]\n",
    "\n",
    "#pega o desempenho por país por esporte\n",
    "df_desempenho_pais = df_desempenho[[\"Sport\", \"region\", \"desempenho\"]].groupby([\"Sport\", \"region\"], as_index=False).sum()\n",
    "\n",
    "#calcula o desemepnho médio por esporte\n",
    "df_desempenho_media = df_desempenho_pais.groupby([\"Sport\"]).mean()\n",
    "\n",
    "#adiciona o desempenho médio por esporte na tabela\n",
    "df_desempenho_pais[\"media\"] = df_desempenho_pais[\"Sport\"].apply(lambda x: \n",
    "              media(x, df_desempenho_media))\n",
    "\n",
    "#ajusta nome dos países na tabela\n",
    "df_gdp['Country'] = df_gdp['Country'].apply(lambda x: elimina_ultimo_caracter(x))\n",
    "\n",
    "#dicionário com os nomes corretos\n",
    "dic_paises_nome = {\n",
    "    'South Korea': 'Korea, South',\n",
    "    'USA': 'United States',\n",
    "    'UK': 'United Kingdom',\n",
    "    'North Korea': 'Korea, North',\n",
    "    'Ivory Coast': \"Cote d'Ivoire\"\n",
    "}\n",
    "\n",
    "#acerta o nome dos países\n",
    "df_desempenho_pais['region'] = df_desempenho_pais['region'].apply(lambda x: acerta_nome_paises(x, dic_paises_nome)) \n",
    "\n",
    "#pega informações sobre cada país\n",
    "df_desempenho_pais = df_desempenho_pais.merge(df_gdp[[\"Country\",\"GDP ($ per capita)\"]],\n",
    "                                              how='left',\n",
    "                                              left_on=\"region\",\n",
    "                                              right_on=\"Country\",)\n",
    "\n",
    "#remove alguns países irrelevantes\n",
    "df_desempenho_pais = df_desempenho_pais.dropna(subset=['GDP ($ per capita)'])\n"
   ]
  },
  {
   "cell_type": "code",
   "execution_count": 7,
   "id": "e5e26268",
   "metadata": {},
   "outputs": [
    {
     "data": {
      "text/html": [
       "<div>\n",
       "<style scoped>\n",
       "    .dataframe tbody tr th:only-of-type {\n",
       "        vertical-align: middle;\n",
       "    }\n",
       "\n",
       "    .dataframe tbody tr th {\n",
       "        vertical-align: top;\n",
       "    }\n",
       "\n",
       "    .dataframe thead th {\n",
       "        text-align: right;\n",
       "    }\n",
       "</style>\n",
       "<table border=\"1\" class=\"dataframe\">\n",
       "  <thead>\n",
       "    <tr style=\"text-align: right;\">\n",
       "      <th></th>\n",
       "      <th>Sport</th>\n",
       "      <th>region</th>\n",
       "      <th>desempenho</th>\n",
       "      <th>media</th>\n",
       "      <th>Country</th>\n",
       "      <th>GDP ($ per capita)</th>\n",
       "    </tr>\n",
       "  </thead>\n",
       "  <tbody>\n",
       "    <tr>\n",
       "      <th>0</th>\n",
       "      <td>Alpine Skiing</td>\n",
       "      <td>Czech Republic</td>\n",
       "      <td>1</td>\n",
       "      <td>1.50</td>\n",
       "      <td>Czech Republic</td>\n",
       "      <td>15700.0</td>\n",
       "    </tr>\n",
       "    <tr>\n",
       "      <th>1</th>\n",
       "      <td>Alpine Skiing</td>\n",
       "      <td>Switzerland</td>\n",
       "      <td>2</td>\n",
       "      <td>1.50</td>\n",
       "      <td>Switzerland</td>\n",
       "      <td>32700.0</td>\n",
       "    </tr>\n",
       "    <tr>\n",
       "      <th>2</th>\n",
       "      <td>Archery</td>\n",
       "      <td>Finland</td>\n",
       "      <td>1</td>\n",
       "      <td>2.25</td>\n",
       "      <td>Finland</td>\n",
       "      <td>27400.0</td>\n",
       "    </tr>\n",
       "    <tr>\n",
       "      <th>3</th>\n",
       "      <td>Archery</td>\n",
       "      <td>Japan</td>\n",
       "      <td>2</td>\n",
       "      <td>2.25</td>\n",
       "      <td>Japan</td>\n",
       "      <td>28200.0</td>\n",
       "    </tr>\n",
       "    <tr>\n",
       "      <th>4</th>\n",
       "      <td>Archery</td>\n",
       "      <td>Russia</td>\n",
       "      <td>3</td>\n",
       "      <td>2.25</td>\n",
       "      <td>Russia</td>\n",
       "      <td>8900.0</td>\n",
       "    </tr>\n",
       "  </tbody>\n",
       "</table>\n",
       "</div>"
      ],
      "text/plain": [
       "           Sport          region  desempenho  media         Country  \\\n",
       "0  Alpine Skiing  Czech Republic           1   1.50  Czech Republic   \n",
       "1  Alpine Skiing     Switzerland           2   1.50     Switzerland   \n",
       "2        Archery         Finland           1   2.25         Finland   \n",
       "3        Archery           Japan           2   2.25           Japan   \n",
       "4        Archery          Russia           3   2.25          Russia   \n",
       "\n",
       "   GDP ($ per capita)  \n",
       "0             15700.0  \n",
       "1             32700.0  \n",
       "2             27400.0  \n",
       "3             28200.0  \n",
       "4              8900.0  "
      ]
     },
     "execution_count": 7,
     "metadata": {},
     "output_type": "execute_result"
    }
   ],
   "source": [
    "df_desempenho_pais.head()"
   ]
  },
  {
   "cell_type": "code",
   "execution_count": 8,
   "id": "79266887",
   "metadata": {},
   "outputs": [
    {
     "name": "stdout",
     "output_type": "stream",
     "text": [
      "número de vértices de g: 91\n"
     ]
    }
   ],
   "source": [
    "#pega todos os times\n",
    "lista_teams = df_desempenho_pais.region.unique().tolist()\n",
    "\n",
    "#pega todos os eventos\n",
    "lista_eventos = df_desempenho_pais.Sport.unique().tolist()\n",
    "\n",
    "g.vp['tipo'] = g.new_vp('object')\n",
    "g.vp['nome'] = g.new_vp('object')\n",
    "g.vp['color'] = g.new_vp('object')\n",
    "\n",
    "lista_vertices = lista_teams+lista_eventos\n",
    "\n",
    "#cria os times como vértices\n",
    "cria_vertices(g, lista_vertices, len(lista_teams))\n",
    "print('número de vértices de g:', g.num_vertices())\n",
    "\n",
    "lista_arestas = list()\n",
    "\n",
    "#preenche a lista e o dicionario de acordo com as partidas e ocorrencias\n",
    "df_fake = df_desempenho_pais.apply(lambda x: \n",
    "              arestas(x.region, x.Sport, x.desempenho, x.media, lista_arestas),\n",
    "              axis=1)\n",
    "\n",
    "create_edgs_links(lista_arestas, g)"
   ]
  },
  {
   "cell_type": "markdown",
   "id": "1bd72581",
   "metadata": {},
   "source": [
    "### Análise 2\n",
    "---"
   ]
  },
  {
   "cell_type": "code",
   "execution_count": 9,
   "id": "f1a7d350",
   "metadata": {},
   "outputs": [],
   "source": [
    "c.vp['nome'] = c.new_vp('object') #adiciona propriedade aos vértices\n",
    "c.ep['peso'] = c.new_ep('object') #adiciona propriedade as arestas\n",
    "\n",
    "cria_nome_times(g, c) #cria vertíces\n",
    "\n",
    "dicionario_one_mode, lista_one_mode = lista_esporte_por_time(g)\n",
    "\n",
    "dist = cria_arestas(c, dicionario_one_mode, lista_one_mode)"
   ]
  },
  {
   "cell_type": "markdown",
   "id": "52262d4a",
   "metadata": {},
   "source": [
    "### Visualizando grafo C\n",
    "---"
   ]
  },
  {
   "cell_type": "code",
   "execution_count": 10,
   "id": "2837a61f",
   "metadata": {},
   "outputs": [
    {
     "data": {
      "text/html": [
       "\n",
       "        <div id=\"PBYixMT4dw2g4WRykMwmTr\"></div>\n",
       "        <script>netpixi.render('PBYixMT4dw2g4WRykMwmTr', './exemplo_c.net.gz', 1.7777777777777777, true, true, false);</script>\n",
       "    "
      ],
      "text/plain": [
       "<IPython.core.display.HTML object>"
      ]
     },
     "metadata": {},
     "output_type": "display_data"
    }
   ],
   "source": [
    "m = draw_gt.sfdp_layout(c)\n",
    "move_gt(c, m)\n",
    "\n",
    "save_gt(c, 'exemplo_c.net.gz')\n",
    "\n",
    "r = netpixi.render('./exemplo_c.net.gz', infinite=True)"
   ]
  },
  {
   "cell_type": "markdown",
   "id": "69a05202",
   "metadata": {},
   "source": [
    "### Cluster coefficient\n",
    "---"
   ]
  },
  {
   "cell_type": "code",
   "execution_count": 11,
   "id": "c403a704",
   "metadata": {},
   "outputs": [],
   "source": [
    "cluster = clustering.local_clustering(c)\n",
    "\n",
    "c.vp['clustering coefficient'] = cluster\n",
    "\n",
    "dft = pd.DataFrame({k: list(v) for k, v in c.vp.items()})\n",
    "\n",
    "dft = dft.loc[dft['clustering coefficient'] != 0]"
   ]
  },
  {
   "cell_type": "markdown",
   "id": "fe6b6fac",
   "metadata": {},
   "source": [
    "### Salvando grafo e visualizando\n",
    "---"
   ]
  },
  {
   "cell_type": "code",
   "execution_count": 12,
   "id": "5aa30bdb",
   "metadata": {},
   "outputs": [
    {
     "data": {
      "text/html": [
       "\n",
       "        <div id=\"LDpdjQJELpvjM4vb57gT7Y\"></div>\n",
       "        <script>netpixi.render('LDpdjQJELpvjM4vb57gT7Y', './exemplo.net.gz', 1.7777777777777777, true, false, false);</script>\n",
       "    "
      ],
      "text/plain": [
       "<IPython.core.display.HTML object>"
      ]
     },
     "metadata": {},
     "output_type": "display_data"
    }
   ],
   "source": [
    "top = []\n",
    "for v in g.vertices():\n",
    "    if g.vp['tipo'][v] == 'time':\n",
    "        top.append(v)\n",
    "        \n",
    "m = draw_gt.bipartite_layout(g, top)\n",
    "move_gt(g, m)\n",
    "\n",
    "save_gt(g, 'exemplo.net.gz')\n",
    "\n",
    "r = netpixi.render('./exemplo.net.gz')"
   ]
  },
  {
   "cell_type": "code",
   "execution_count": 13,
   "id": "071c82e3",
   "metadata": {},
   "outputs": [
    {
     "data": {
      "text/html": [
       "\n",
       "        <div id=\"7NWrVAVpzndtDKFZntkVG7\"></div>\n",
       "        <script>netpixi.call('7NWrVAVpzndtDKFZntkVG7', 'LDpdjQJELpvjM4vb57gT7Y', 'changeGraph', 'eyJ0eXBlIjogInNldHRpbmdzIiwgInByb3BzIjogeyJncmFwaCI6IHsiY29sb3IiOiAxNjc3NzIxNX19fQo=');</script>\n",
       "    "
      ],
      "text/plain": [
       "<IPython.core.display.HTML object>"
      ]
     },
     "metadata": {},
     "output_type": "display_data"
    },
    {
     "data": {
      "text/html": [
       "\n",
       "        <div id=\"RaN4zqAvbs2fgPHq9LV73p\"></div>\n",
       "        <script>netpixi.call('RaN4zqAvbs2fgPHq9LV73p', 'LDpdjQJELpvjM4vb57gT7Y', 'changeGraph', 'eyJ0eXBlIjogInNldHRpbmdzIiwgInByb3BzIjogeyJ2ZXJ0ZXgiOiB7ImNvbG9yIjogMCwgInNpemUiOiAxMH19fQo=');</script>\n",
       "    "
      ],
      "text/plain": [
       "<IPython.core.display.HTML object>"
      ]
     },
     "metadata": {},
     "output_type": "display_data"
    },
    {
     "data": {
      "text/html": [
       "\n",
       "        <div id=\"QxRzXVcitrtM5imXMg8F5J\"></div>\n",
       "        <script>netpixi.call('QxRzXVcitrtM5imXMg8F5J', 'LDpdjQJELpvjM4vb57gT7Y', 'changeGraph', 'eyJ0eXBlIjogInNldHRpbmdzIiwgInByb3BzIjogeyJlZGdlIjogeyJjb2xvciI6IDAsICJ3aWR0aCI6IDEsICJjdXJ2ZTEiOiAwLCAiY3VydmUyIjogMH19fQo=');</script>\n",
       "    "
      ],
      "text/plain": [
       "<IPython.core.display.HTML object>"
      ]
     },
     "metadata": {},
     "output_type": "display_data"
    },
    {
     "data": {
      "text/html": [
       "\n",
       "        <div id=\"hmBVfkmfWrZELYMXzwzExu\"></div>\n",
       "        <script>netpixi.call('hmBVfkmfWrZELYMXzwzExu', 'LDpdjQJELpvjM4vb57gT7Y', 'changeGraph', 'eyJzb3VyY2UiOiAwLCAidGFyZ2V0IjogMSwgInR5cGUiOiAiZWRnZSIsICJwcm9wcyI6IHsiY29sb3IiOiAyNTUsICJ3aWR0aCI6IDJ9fQo=');</script>\n",
       "    "
      ],
      "text/plain": [
       "<IPython.core.display.HTML object>"
      ]
     },
     "metadata": {},
     "output_type": "display_data"
    }
   ],
   "source": [
    "# mudar a cor de fundo do grafo\n",
    "r.graph(color=0xffffff)\n",
    "\n",
    "# mudar a cor e o tamanho dos vértices\n",
    "r.vertex_default(color=0x000000, size=10)\n",
    "\n",
    "# mudar a cor, a espessura e a curvatura das arestas\n",
    "r.edge_default(color=0x000000, width=1, curve1=0, curve2=0)\n",
    "\n",
    "# mudar uma aresta específica a partir dos ids de sua origem e destino\n",
    "r.edge(0, 1, color=0x0000ff, width=2)"
   ]
  },
  {
   "cell_type": "markdown",
   "id": "85e60fca",
   "metadata": {},
   "source": [
    "### Regressão\n",
    "---"
   ]
  },
  {
   "cell_type": "markdown",
   "id": "914bcc15",
   "metadata": {},
   "source": [
    "### GDP X Desempenho"
   ]
  },
  {
   "cell_type": "code",
   "execution_count": 14,
   "id": "8562f72c",
   "metadata": {},
   "outputs": [],
   "source": [
    "df_desempenho_pais_total = df_desempenho[[\"region\", \"desempenho\"]].groupby([\"region\"], as_index=False).sum()\n"
   ]
  },
  {
   "cell_type": "code",
   "execution_count": 15,
   "id": "98903724",
   "metadata": {},
   "outputs": [],
   "source": [
    "\n",
    "df_desempenho_pais_total = df_desempenho_pais_total.merge(df_gdp[[\"Country\",\"GDP ($ per capita)\"]],\n",
    "                                              how='left',\n",
    "                                              left_on=\"region\",\n",
    "                                              right_on=\"Country\")\n"
   ]
  },
  {
   "cell_type": "code",
   "execution_count": 16,
   "id": "93873642",
   "metadata": {
    "scrolled": true
   },
   "outputs": [],
   "source": [
    "\n",
    "df_desempenho_pais_total = df_desempenho_pais_total.merge(dft,\n",
    "                                              how='left',\n",
    "                                              left_on=\"region\",\n",
    "                                              right_on=\"nome\")\n"
   ]
  },
  {
   "cell_type": "code",
   "execution_count": 17,
   "id": "8c249607",
   "metadata": {},
   "outputs": [],
   "source": [
    "\n",
    "df_desempenho_pais_total['y'] = df_desempenho_pais_total['GDP ($ per capita)']\n",
    "df_desempenho_pais_total['c'] = df_desempenho_pais_total['clustering coefficient']"
   ]
  },
  {
   "cell_type": "code",
   "execution_count": 18,
   "id": "09ca3e92",
   "metadata": {},
   "outputs": [
    {
     "data": {
      "text/html": [
       "<table class=\"simpletable\">\n",
       "<caption>OLS Regression Results</caption>\n",
       "<tr>\n",
       "  <th>Dep. Variable:</th>       <td>desempenho</td>    <th>  R-squared:         </th> <td>   0.023</td>\n",
       "</tr>\n",
       "<tr>\n",
       "  <th>Model:</th>                   <td>OLS</td>       <th>  Adj. R-squared:    </th> <td>   0.003</td>\n",
       "</tr>\n",
       "<tr>\n",
       "  <th>Method:</th>             <td>Least Squares</td>  <th>  F-statistic:       </th> <td>   1.154</td>\n",
       "</tr>\n",
       "<tr>\n",
       "  <th>Date:</th>             <td>Fri, 12 Nov 2021</td> <th>  Prob (F-statistic):</th>  <td> 0.288</td> \n",
       "</tr>\n",
       "<tr>\n",
       "  <th>Time:</th>                 <td>00:18:58</td>     <th>  Log-Likelihood:    </th> <td> -225.86</td>\n",
       "</tr>\n",
       "<tr>\n",
       "  <th>No. Observations:</th>      <td>    51</td>      <th>  AIC:               </th> <td>   455.7</td>\n",
       "</tr>\n",
       "<tr>\n",
       "  <th>Df Residuals:</th>          <td>    49</td>      <th>  BIC:               </th> <td>   459.6</td>\n",
       "</tr>\n",
       "<tr>\n",
       "  <th>Df Model:</th>              <td>     1</td>      <th>                     </th>     <td> </td>   \n",
       "</tr>\n",
       "<tr>\n",
       "  <th>Covariance Type:</th>      <td>nonrobust</td>    <th>                     </th>     <td> </td>   \n",
       "</tr>\n",
       "</table>\n",
       "<table class=\"simpletable\">\n",
       "<tr>\n",
       "      <td></td>         <th>coef</th>     <th>std err</th>      <th>t</th>      <th>P>|t|</th>  <th>[0.025</th>    <th>0.975]</th>  \n",
       "</tr>\n",
       "<tr>\n",
       "  <th>Intercept</th> <td>    8.7016</td> <td>    4.621</td> <td>    1.883</td> <td> 0.066</td> <td>   -0.584</td> <td>   17.987</td>\n",
       "</tr>\n",
       "<tr>\n",
       "  <th>y</th>         <td>    0.0003</td> <td>    0.000</td> <td>    1.074</td> <td> 0.288</td> <td>   -0.000</td> <td>    0.001</td>\n",
       "</tr>\n",
       "</table>\n",
       "<table class=\"simpletable\">\n",
       "<tr>\n",
       "  <th>Omnibus:</th>       <td>78.476</td> <th>  Durbin-Watson:     </th> <td>   1.580</td> \n",
       "</tr>\n",
       "<tr>\n",
       "  <th>Prob(Omnibus):</th> <td> 0.000</td> <th>  Jarque-Bera (JB):  </th> <td> 992.044</td> \n",
       "</tr>\n",
       "<tr>\n",
       "  <th>Skew:</th>          <td> 4.179</td> <th>  Prob(JB):          </th> <td>3.80e-216</td>\n",
       "</tr>\n",
       "<tr>\n",
       "  <th>Kurtosis:</th>      <td>22.924</td> <th>  Cond. No.          </th> <td>2.93e+04</td> \n",
       "</tr>\n",
       "</table><br/><br/>Notes:<br/>[1] Standard Errors assume that the covariance matrix of the errors is correctly specified.<br/>[2] The condition number is large, 2.93e+04. This might indicate that there are<br/>strong multicollinearity or other numerical problems."
      ],
      "text/plain": [
       "<class 'statsmodels.iolib.summary.Summary'>\n",
       "\"\"\"\n",
       "                            OLS Regression Results                            \n",
       "==============================================================================\n",
       "Dep. Variable:             desempenho   R-squared:                       0.023\n",
       "Model:                            OLS   Adj. R-squared:                  0.003\n",
       "Method:                 Least Squares   F-statistic:                     1.154\n",
       "Date:                Fri, 12 Nov 2021   Prob (F-statistic):              0.288\n",
       "Time:                        00:18:58   Log-Likelihood:                -225.86\n",
       "No. Observations:                  51   AIC:                             455.7\n",
       "Df Residuals:                      49   BIC:                             459.6\n",
       "Df Model:                           1                                         \n",
       "Covariance Type:            nonrobust                                         \n",
       "==============================================================================\n",
       "                 coef    std err          t      P>|t|      [0.025      0.975]\n",
       "------------------------------------------------------------------------------\n",
       "Intercept      8.7016      4.621      1.883      0.066      -0.584      17.987\n",
       "y              0.0003      0.000      1.074      0.288      -0.000       0.001\n",
       "==============================================================================\n",
       "Omnibus:                       78.476   Durbin-Watson:                   1.580\n",
       "Prob(Omnibus):                  0.000   Jarque-Bera (JB):              992.044\n",
       "Skew:                           4.179   Prob(JB):                    3.80e-216\n",
       "Kurtosis:                      22.924   Cond. No.                     2.93e+04\n",
       "==============================================================================\n",
       "\n",
       "Notes:\n",
       "[1] Standard Errors assume that the covariance matrix of the errors is correctly specified.\n",
       "[2] The condition number is large, 2.93e+04. This might indicate that there are\n",
       "strong multicollinearity or other numerical problems.\n",
       "\"\"\""
      ]
     },
     "execution_count": 18,
     "metadata": {},
     "output_type": "execute_result"
    }
   ],
   "source": [
    "model = smf.ols(data=df_desempenho_pais_total, formula='desempenho ~ y')\n",
    "result = model.fit()\n",
    "result.summary()"
   ]
  },
  {
   "cell_type": "code",
   "execution_count": 19,
   "id": "622f92fe",
   "metadata": {},
   "outputs": [
    {
     "data": {
      "image/png": "[encoded data removed]",
      "text/plain": [
       "<Figure size 432x288 with 1 Axes>"
      ]
     },
     "metadata": {},
     "output_type": "display_data"
    }
   ],
   "source": [
    "sns.regplot(x=df_desempenho_pais_total['desempenho'], y=np.log(df_desempenho_pais_total['y']))\n",
    "plt.show()"
   ]
  },
  {
   "cell_type": "markdown",
   "id": "42bfcbc0",
   "metadata": {},
   "source": [
    "### GDP X Desempenho após filtragem"
   ]
  },
  {
   "cell_type": "code",
   "execution_count": 20,
   "id": "dc831776",
   "metadata": {
    "scrolled": true
   },
   "outputs": [
    {
     "data": {
      "text/html": [
       "<div>\n",
       "<style scoped>\n",
       "    .dataframe tbody tr th:only-of-type {\n",
       "        vertical-align: middle;\n",
       "    }\n",
       "\n",
       "    .dataframe tbody tr th {\n",
       "        vertical-align: top;\n",
       "    }\n",
       "\n",
       "    .dataframe thead th {\n",
       "        text-align: right;\n",
       "    }\n",
       "</style>\n",
       "<table border=\"1\" class=\"dataframe\">\n",
       "  <thead>\n",
       "    <tr style=\"text-align: right;\">\n",
       "      <th></th>\n",
       "      <th>region</th>\n",
       "      <th>desempenho</th>\n",
       "      <th>Country</th>\n",
       "      <th>GDP ($ per capita)</th>\n",
       "      <th>nome</th>\n",
       "      <th>_x</th>\n",
       "      <th>_y</th>\n",
       "      <th>clustering coefficient</th>\n",
       "      <th>y</th>\n",
       "      <th>c</th>\n",
       "    </tr>\n",
       "  </thead>\n",
       "  <tbody>\n",
       "    <tr>\n",
       "      <th>16</th>\n",
       "      <td>Germany</td>\n",
       "      <td>73</td>\n",
       "      <td>Germany</td>\n",
       "      <td>27600.0</td>\n",
       "      <td>Germany</td>\n",
       "      <td>2.779546</td>\n",
       "      <td>1.186371</td>\n",
       "      <td>0.532428</td>\n",
       "      <td>27600.0</td>\n",
       "      <td>0.532428</td>\n",
       "    </tr>\n",
       "    <tr>\n",
       "      <th>42</th>\n",
       "      <td>Russia</td>\n",
       "      <td>128</td>\n",
       "      <td>Russia</td>\n",
       "      <td>8900.0</td>\n",
       "      <td>Russia</td>\n",
       "      <td>2.563692</td>\n",
       "      <td>1.937875</td>\n",
       "      <td>0.547511</td>\n",
       "      <td>8900.0</td>\n",
       "      <td>0.547511</td>\n",
       "    </tr>\n",
       "    <tr>\n",
       "      <th>52</th>\n",
       "      <td>USA</td>\n",
       "      <td>67</td>\n",
       "      <td>NaN</td>\n",
       "      <td>NaN</td>\n",
       "      <td>NaN</td>\n",
       "      <td>NaN</td>\n",
       "      <td>NaN</td>\n",
       "      <td>NaN</td>\n",
       "      <td>NaN</td>\n",
       "      <td>NaN</td>\n",
       "    </tr>\n",
       "  </tbody>\n",
       "</table>\n",
       "</div>"
      ],
      "text/plain": [
       "     region  desempenho  Country  GDP ($ per capita)     nome        _x  \\\n",
       "16  Germany          73  Germany             27600.0  Germany  2.779546   \n",
       "42   Russia         128   Russia              8900.0   Russia  2.563692   \n",
       "52      USA          67      NaN                 NaN      NaN       NaN   \n",
       "\n",
       "          _y  clustering coefficient        y         c  \n",
       "16  1.186371                0.532428  27600.0  0.532428  \n",
       "42  1.937875                0.547511   8900.0  0.547511  \n",
       "52       NaN                     NaN      NaN       NaN  "
      ]
     },
     "execution_count": 20,
     "metadata": {},
     "output_type": "execute_result"
    }
   ],
   "source": [
    "df_desempenho_pais_total[df_desempenho_pais_total['desempenho']>60]"
   ]
  },
  {
   "cell_type": "code",
   "execution_count": 21,
   "id": "454f0547",
   "metadata": {
    "scrolled": false
   },
   "outputs": [],
   "source": [
    "df_desempenho_pais_filtered = df_desempenho_pais_total[df_desempenho_pais_total['desempenho']<60]\n"
   ]
  },
  {
   "cell_type": "code",
   "execution_count": 22,
   "id": "dfa334ca",
   "metadata": {},
   "outputs": [
    {
     "data": {
      "image/png": "[encoded data removed]",
      "text/plain": [
       "<Figure size 432x288 with 1 Axes>"
      ]
     },
     "metadata": {},
     "output_type": "display_data"
    }
   ],
   "source": [
    "sns.regplot(x=df_desempenho_pais_filtered['desempenho'], y=np.log(df_desempenho_pais_filtered['y']))\n",
    "plt.show()"
   ]
  },
  {
   "cell_type": "code",
   "execution_count": 23,
   "id": "22ba4aef",
   "metadata": {},
   "outputs": [
    {
     "data": {
      "text/html": [
       "<table class=\"simpletable\">\n",
       "<caption>OLS Regression Results</caption>\n",
       "<tr>\n",
       "  <th>Dep. Variable:</th>       <td>desempenho</td>    <th>  R-squared:         </th> <td>   0.104</td>\n",
       "</tr>\n",
       "<tr>\n",
       "  <th>Model:</th>                   <td>OLS</td>       <th>  Adj. R-squared:    </th> <td>   0.085</td>\n",
       "</tr>\n",
       "<tr>\n",
       "  <th>Method:</th>             <td>Least Squares</td>  <th>  F-statistic:       </th> <td>   5.436</td>\n",
       "</tr>\n",
       "<tr>\n",
       "  <th>Date:</th>             <td>Fri, 12 Nov 2021</td> <th>  Prob (F-statistic):</th>  <td>0.0241</td> \n",
       "</tr>\n",
       "<tr>\n",
       "  <th>Time:</th>                 <td>00:18:59</td>     <th>  Log-Likelihood:    </th> <td> -173.86</td>\n",
       "</tr>\n",
       "<tr>\n",
       "  <th>No. Observations:</th>      <td>    49</td>      <th>  AIC:               </th> <td>   351.7</td>\n",
       "</tr>\n",
       "<tr>\n",
       "  <th>Df Residuals:</th>          <td>    47</td>      <th>  BIC:               </th> <td>   355.5</td>\n",
       "</tr>\n",
       "<tr>\n",
       "  <th>Df Model:</th>              <td>     1</td>      <th>                     </th>     <td> </td>   \n",
       "</tr>\n",
       "<tr>\n",
       "  <th>Covariance Type:</th>      <td>nonrobust</td>    <th>                     </th>     <td> </td>   \n",
       "</tr>\n",
       "</table>\n",
       "<table class=\"simpletable\">\n",
       "<tr>\n",
       "      <td></td>         <th>coef</th>     <th>std err</th>      <th>t</th>      <th>P>|t|</th>  <th>[0.025</th>    <th>0.975]</th>  \n",
       "</tr>\n",
       "<tr>\n",
       "  <th>Intercept</th> <td>    5.4825</td> <td>    1.938</td> <td>    2.830</td> <td> 0.007</td> <td>    1.585</td> <td>    9.380</td>\n",
       "</tr>\n",
       "<tr>\n",
       "  <th>y</th>         <td>    0.0002</td> <td>    0.000</td> <td>    2.332</td> <td> 0.024</td> <td> 3.39e-05</td> <td>    0.000</td>\n",
       "</tr>\n",
       "</table>\n",
       "<table class=\"simpletable\">\n",
       "<tr>\n",
       "  <th>Omnibus:</th>       <td>13.020</td> <th>  Durbin-Watson:     </th> <td>   1.865</td>\n",
       "</tr>\n",
       "<tr>\n",
       "  <th>Prob(Omnibus):</th> <td> 0.001</td> <th>  Jarque-Bera (JB):  </th> <td>  13.809</td>\n",
       "</tr>\n",
       "<tr>\n",
       "  <th>Skew:</th>          <td> 1.253</td> <th>  Prob(JB):          </th> <td> 0.00100</td>\n",
       "</tr>\n",
       "<tr>\n",
       "  <th>Kurtosis:</th>      <td> 3.697</td> <th>  Cond. No.          </th> <td>2.89e+04</td>\n",
       "</tr>\n",
       "</table><br/><br/>Notes:<br/>[1] Standard Errors assume that the covariance matrix of the errors is correctly specified.<br/>[2] The condition number is large, 2.89e+04. This might indicate that there are<br/>strong multicollinearity or other numerical problems."
      ],
      "text/plain": [
       "<class 'statsmodels.iolib.summary.Summary'>\n",
       "\"\"\"\n",
       "                            OLS Regression Results                            \n",
       "==============================================================================\n",
       "Dep. Variable:             desempenho   R-squared:                       0.104\n",
       "Model:                            OLS   Adj. R-squared:                  0.085\n",
       "Method:                 Least Squares   F-statistic:                     5.436\n",
       "Date:                Fri, 12 Nov 2021   Prob (F-statistic):             0.0241\n",
       "Time:                        00:18:59   Log-Likelihood:                -173.86\n",
       "No. Observations:                  49   AIC:                             351.7\n",
       "Df Residuals:                      47   BIC:                             355.5\n",
       "Df Model:                           1                                         \n",
       "Covariance Type:            nonrobust                                         \n",
       "==============================================================================\n",
       "                 coef    std err          t      P>|t|      [0.025      0.975]\n",
       "------------------------------------------------------------------------------\n",
       "Intercept      5.4825      1.938      2.830      0.007       1.585       9.380\n",
       "y              0.0002      0.000      2.332      0.024    3.39e-05       0.000\n",
       "==============================================================================\n",
       "Omnibus:                       13.020   Durbin-Watson:                   1.865\n",
       "Prob(Omnibus):                  0.001   Jarque-Bera (JB):               13.809\n",
       "Skew:                           1.253   Prob(JB):                      0.00100\n",
       "Kurtosis:                       3.697   Cond. No.                     2.89e+04\n",
       "==============================================================================\n",
       "\n",
       "Notes:\n",
       "[1] Standard Errors assume that the covariance matrix of the errors is correctly specified.\n",
       "[2] The condition number is large, 2.89e+04. This might indicate that there are\n",
       "strong multicollinearity or other numerical problems.\n",
       "\"\"\""
      ]
     },
     "execution_count": 23,
     "metadata": {},
     "output_type": "execute_result"
    }
   ],
   "source": [
    "model = smf.ols(data=df_desempenho_pais_filtered, formula='desempenho ~ y')\n",
    "result = model.fit()\n",
    "result.summary()"
   ]
  },
  {
   "cell_type": "markdown",
   "id": "41902220",
   "metadata": {},
   "source": [
    "### Clustering Coefficient X Desempenho "
   ]
  },
  {
   "cell_type": "code",
   "execution_count": 24,
   "id": "a2c22ebb",
   "metadata": {
    "scrolled": true
   },
   "outputs": [],
   "source": [
    "df_desempenho_cluster = df_desempenho_pais_total.dropna(subset=['clustering coefficient'])"
   ]
  },
  {
   "cell_type": "code",
   "execution_count": 25,
   "id": "ca6732f5",
   "metadata": {
    "scrolled": false
   },
   "outputs": [
    {
     "data": {
      "text/html": [
       "<table class=\"simpletable\">\n",
       "<caption>OLS Regression Results</caption>\n",
       "<tr>\n",
       "  <th>Dep. Variable:</th>       <td>desempenho</td>    <th>  R-squared:         </th> <td>   0.478</td>\n",
       "</tr>\n",
       "<tr>\n",
       "  <th>Model:</th>                   <td>OLS</td>       <th>  Adj. R-squared:    </th> <td>   0.467</td>\n",
       "</tr>\n",
       "<tr>\n",
       "  <th>Method:</th>             <td>Least Squares</td>  <th>  F-statistic:       </th> <td>   44.85</td>\n",
       "</tr>\n",
       "<tr>\n",
       "  <th>Date:</th>             <td>Fri, 12 Nov 2021</td> <th>  Prob (F-statistic):</th> <td>1.95e-08</td>\n",
       "</tr>\n",
       "<tr>\n",
       "  <th>Time:</th>                 <td>00:18:59</td>     <th>  Log-Likelihood:    </th> <td> -209.88</td>\n",
       "</tr>\n",
       "<tr>\n",
       "  <th>No. Observations:</th>      <td>    51</td>      <th>  AIC:               </th> <td>   423.8</td>\n",
       "</tr>\n",
       "<tr>\n",
       "  <th>Df Residuals:</th>          <td>    49</td>      <th>  BIC:               </th> <td>   427.6</td>\n",
       "</tr>\n",
       "<tr>\n",
       "  <th>Df Model:</th>              <td>     1</td>      <th>                     </th>     <td> </td>   \n",
       "</tr>\n",
       "<tr>\n",
       "  <th>Covariance Type:</th>      <td>nonrobust</td>    <th>                     </th>     <td> </td>   \n",
       "</tr>\n",
       "</table>\n",
       "<table class=\"simpletable\">\n",
       "<tr>\n",
       "      <td></td>         <th>coef</th>     <th>std err</th>      <th>t</th>      <th>P>|t|</th>  <th>[0.025</th>    <th>0.975]</th>  \n",
       "</tr>\n",
       "<tr>\n",
       "  <th>Intercept</th> <td>   94.7768</td> <td>   12.456</td> <td>    7.609</td> <td> 0.000</td> <td>   69.745</td> <td>  119.808</td>\n",
       "</tr>\n",
       "<tr>\n",
       "  <th>c</th>         <td>  -97.7041</td> <td>   14.588</td> <td>   -6.697</td> <td> 0.000</td> <td> -127.021</td> <td>  -68.388</td>\n",
       "</tr>\n",
       "</table>\n",
       "<table class=\"simpletable\">\n",
       "<tr>\n",
       "  <th>Omnibus:</th>       <td>76.216</td> <th>  Durbin-Watson:     </th> <td>   2.005</td> \n",
       "</tr>\n",
       "<tr>\n",
       "  <th>Prob(Omnibus):</th> <td> 0.000</td> <th>  Jarque-Bera (JB):  </th> <td>1020.160</td> \n",
       "</tr>\n",
       "<tr>\n",
       "  <th>Skew:</th>          <td> 3.931</td> <th>  Prob(JB):          </th> <td>2.99e-222</td>\n",
       "</tr>\n",
       "<tr>\n",
       "  <th>Kurtosis:</th>      <td>23.452</td> <th>  Cond. No.          </th> <td>    11.8</td> \n",
       "</tr>\n",
       "</table><br/><br/>Notes:<br/>[1] Standard Errors assume that the covariance matrix of the errors is correctly specified."
      ],
      "text/plain": [
       "<class 'statsmodels.iolib.summary.Summary'>\n",
       "\"\"\"\n",
       "                            OLS Regression Results                            \n",
       "==============================================================================\n",
       "Dep. Variable:             desempenho   R-squared:                       0.478\n",
       "Model:                            OLS   Adj. R-squared:                  0.467\n",
       "Method:                 Least Squares   F-statistic:                     44.85\n",
       "Date:                Fri, 12 Nov 2021   Prob (F-statistic):           1.95e-08\n",
       "Time:                        00:18:59   Log-Likelihood:                -209.88\n",
       "No. Observations:                  51   AIC:                             423.8\n",
       "Df Residuals:                      49   BIC:                             427.6\n",
       "Df Model:                           1                                         \n",
       "Covariance Type:            nonrobust                                         \n",
       "==============================================================================\n",
       "                 coef    std err          t      P>|t|      [0.025      0.975]\n",
       "------------------------------------------------------------------------------\n",
       "Intercept     94.7768     12.456      7.609      0.000      69.745     119.808\n",
       "c            -97.7041     14.588     -6.697      0.000    -127.021     -68.388\n",
       "==============================================================================\n",
       "Omnibus:                       76.216   Durbin-Watson:                   2.005\n",
       "Prob(Omnibus):                  0.000   Jarque-Bera (JB):             1020.160\n",
       "Skew:                           3.931   Prob(JB):                    2.99e-222\n",
       "Kurtosis:                      23.452   Cond. No.                         11.8\n",
       "==============================================================================\n",
       "\n",
       "Notes:\n",
       "[1] Standard Errors assume that the covariance matrix of the errors is correctly specified.\n",
       "\"\"\""
      ]
     },
     "execution_count": 25,
     "metadata": {},
     "output_type": "execute_result"
    }
   ],
   "source": [
    "model = smf.ols(data=df_desempenho_cluster, formula='desempenho ~ c')\n",
    "result = model.fit()\n",
    "result.summary()"
   ]
  },
  {
   "cell_type": "code",
   "execution_count": 26,
   "id": "aff45ecb",
   "metadata": {},
   "outputs": [
    {
     "data": {
      "image/png": "[encoded data removed]",
      "text/plain": [
       "<Figure size 432x288 with 1 Axes>"
      ]
     },
     "metadata": {},
     "output_type": "display_data"
    }
   ],
   "source": [
    "sns.regplot(x=df_desempenho_cluster['desempenho'], y=df_desempenho_cluster['c'])\n",
    "plt.show()"
   ]
  },
  {
   "cell_type": "markdown",
   "id": "11a63b96",
   "metadata": {},
   "source": [
    "### Clustering Coefficient X Desempenho após filtragem"
   ]
  },
  {
   "cell_type": "code",
   "execution_count": 27,
   "id": "724d867a",
   "metadata": {
    "scrolled": true
   },
   "outputs": [],
   "source": [
    "df_desempenho_cluster = df_desempenho_pais_filtered.dropna(subset=['clustering coefficient'])"
   ]
  },
  {
   "cell_type": "code",
   "execution_count": 28,
   "id": "cff1773e",
   "metadata": {
    "scrolled": false
   },
   "outputs": [
    {
     "data": {
      "text/html": [
       "<table class=\"simpletable\">\n",
       "<caption>OLS Regression Results</caption>\n",
       "<tr>\n",
       "  <th>Dep. Variable:</th>       <td>desempenho</td>    <th>  R-squared:         </th> <td>   0.738</td>\n",
       "</tr>\n",
       "<tr>\n",
       "  <th>Model:</th>                   <td>OLS</td>       <th>  Adj. R-squared:    </th> <td>   0.733</td>\n",
       "</tr>\n",
       "<tr>\n",
       "  <th>Method:</th>             <td>Least Squares</td>  <th>  F-statistic:       </th> <td>   132.6</td>\n",
       "</tr>\n",
       "<tr>\n",
       "  <th>Date:</th>             <td>Fri, 12 Nov 2021</td> <th>  Prob (F-statistic):</th> <td>2.79e-15</td>\n",
       "</tr>\n",
       "<tr>\n",
       "  <th>Time:</th>                 <td>00:18:59</td>     <th>  Log-Likelihood:    </th> <td> -143.70</td>\n",
       "</tr>\n",
       "<tr>\n",
       "  <th>No. Observations:</th>      <td>    49</td>      <th>  AIC:               </th> <td>   291.4</td>\n",
       "</tr>\n",
       "<tr>\n",
       "  <th>Df Residuals:</th>          <td>    47</td>      <th>  BIC:               </th> <td>   295.2</td>\n",
       "</tr>\n",
       "<tr>\n",
       "  <th>Df Model:</th>              <td>     1</td>      <th>                     </th>     <td> </td>   \n",
       "</tr>\n",
       "<tr>\n",
       "  <th>Covariance Type:</th>      <td>nonrobust</td>    <th>                     </th>     <td> </td>   \n",
       "</tr>\n",
       "</table>\n",
       "<table class=\"simpletable\">\n",
       "<tr>\n",
       "      <td></td>         <th>coef</th>     <th>std err</th>      <th>t</th>      <th>P>|t|</th>  <th>[0.025</th>    <th>0.975]</th>  \n",
       "</tr>\n",
       "<tr>\n",
       "  <th>Intercept</th> <td>   57.4336</td> <td>    4.260</td> <td>   13.482</td> <td> 0.000</td> <td>   48.863</td> <td>   66.004</td>\n",
       "</tr>\n",
       "<tr>\n",
       "  <th>c</th>         <td>  -56.7575</td> <td>    4.929</td> <td>  -11.514</td> <td> 0.000</td> <td>  -66.674</td> <td>  -46.841</td>\n",
       "</tr>\n",
       "</table>\n",
       "<table class=\"simpletable\">\n",
       "<tr>\n",
       "  <th>Omnibus:</th>       <td> 0.486</td> <th>  Durbin-Watson:     </th> <td>   1.794</td>\n",
       "</tr>\n",
       "<tr>\n",
       "  <th>Prob(Omnibus):</th> <td> 0.784</td> <th>  Jarque-Bera (JB):  </th> <td>   0.112</td>\n",
       "</tr>\n",
       "<tr>\n",
       "  <th>Skew:</th>          <td> 0.098</td> <th>  Prob(JB):          </th> <td>   0.946</td>\n",
       "</tr>\n",
       "<tr>\n",
       "  <th>Kurtosis:</th>      <td> 3.126</td> <th>  Cond. No.          </th> <td>    12.9</td>\n",
       "</tr>\n",
       "</table><br/><br/>Notes:<br/>[1] Standard Errors assume that the covariance matrix of the errors is correctly specified."
      ],
      "text/plain": [
       "<class 'statsmodels.iolib.summary.Summary'>\n",
       "\"\"\"\n",
       "                            OLS Regression Results                            \n",
       "==============================================================================\n",
       "Dep. Variable:             desempenho   R-squared:                       0.738\n",
       "Model:                            OLS   Adj. R-squared:                  0.733\n",
       "Method:                 Least Squares   F-statistic:                     132.6\n",
       "Date:                Fri, 12 Nov 2021   Prob (F-statistic):           2.79e-15\n",
       "Time:                        00:18:59   Log-Likelihood:                -143.70\n",
       "No. Observations:                  49   AIC:                             291.4\n",
       "Df Residuals:                      47   BIC:                             295.2\n",
       "Df Model:                           1                                         \n",
       "Covariance Type:            nonrobust                                         \n",
       "==============================================================================\n",
       "                 coef    std err          t      P>|t|      [0.025      0.975]\n",
       "------------------------------------------------------------------------------\n",
       "Intercept     57.4336      4.260     13.482      0.000      48.863      66.004\n",
       "c            -56.7575      4.929    -11.514      0.000     -66.674     -46.841\n",
       "==============================================================================\n",
       "Omnibus:                        0.486   Durbin-Watson:                   1.794\n",
       "Prob(Omnibus):                  0.784   Jarque-Bera (JB):                0.112\n",
       "Skew:                           0.098   Prob(JB):                        0.946\n",
       "Kurtosis:                       3.126   Cond. No.                         12.9\n",
       "==============================================================================\n",
       "\n",
       "Notes:\n",
       "[1] Standard Errors assume that the covariance matrix of the errors is correctly specified.\n",
       "\"\"\""
      ]
     },
     "execution_count": 28,
     "metadata": {},
     "output_type": "execute_result"
    }
   ],
   "source": [
    "model = smf.ols(data=df_desempenho_cluster, formula='desempenho ~ c')\n",
    "result = model.fit()\n",
    "result.summary()"
   ]
  },
  {
   "cell_type": "code",
   "execution_count": 29,
   "id": "03415103",
   "metadata": {},
   "outputs": [
    {
     "data": {
      "image/png": "[encoded data removed]",
      "text/plain": [
       "<Figure size 432x288 with 1 Axes>"
      ]
     },
     "metadata": {},
     "output_type": "display_data"
    }
   ],
   "source": [
    "sns.regplot(x=df_desempenho_cluster['desempenho'], y=df_desempenho_cluster['c'])\n",
    "plt.show()"
   ]
  },
  {
   "cell_type": "markdown",
   "id": "b7f02938",
   "metadata": {},
   "source": [
    "___"
   ]
  },
  {
   "cell_type": "markdown",
   "id": "9c0fe3ae",
   "metadata": {},
   "source": [
    "# Amostragem DEPOIS da década de 1990\n",
    "---"
   ]
  },
  {
   "cell_type": "code",
   "execution_count": 30,
   "id": "725b0373",
   "metadata": {},
   "outputs": [],
   "source": [
    "#carrega dados\n",
    "df = pd.read_csv('athlete_events.csv')\n",
    "df_noc = pd.read_csv('noc_regions.csv')\n",
    "df_gdp = pd.read_csv('countries of the world.csv')"
   ]
  },
  {
   "cell_type": "code",
   "execution_count": 31,
   "id": "267849f6",
   "metadata": {},
   "outputs": [],
   "source": [
    "#junta ambas as tabelas\n",
    "df_merge_original=df.merge(df_noc,how=\"left\",on=\"NOC\")\n",
    "\n",
    "#dropa linhas sem a região\n",
    "df_merge_original=df_merge_original.dropna(subset=['region'])"
   ]
  },
  {
   "cell_type": "markdown",
   "id": "c131542b",
   "metadata": {},
   "source": [
    "### Amostragem\n",
    "---"
   ]
  },
  {
   "cell_type": "code",
   "execution_count": 32,
   "id": "b8a633aa",
   "metadata": {},
   "outputs": [],
   "source": [
    "#filtra somente datas posteriores a 1970\n",
    "df_merge_after=df_merge_original[df_merge_original[\"Year\"] >= 2000]"
   ]
  },
  {
   "cell_type": "markdown",
   "id": "2adfbc6b",
   "metadata": {},
   "source": [
    "### Análise\n",
    "---"
   ]
  },
  {
   "cell_type": "code",
   "execution_count": 33,
   "id": "e3ad6c5b",
   "metadata": {},
   "outputs": [],
   "source": [
    "#cria grafo não-dirigido\n",
    "g = Graph(directed=False)\n",
    "c = Graph(directed=False) "
   ]
  },
  {
   "cell_type": "code",
   "execution_count": 34,
   "id": "46eca96c",
   "metadata": {},
   "outputs": [],
   "source": [
    "df_merge_after['desempenho'] = df_merge_after['Medal'].apply(lambda x: desempenho(x))\n",
    "\n",
    "#dropa valores duplicados\n",
    "df_desempenho = df_merge_after.drop_duplicates(subset=[\"Year\",\"Sport\",\"region\"])\n",
    "\n",
    "#remove paises com desempenho 0\n",
    "df_desempenho = df_desempenho.loc[df_desempenho.desempenho>0]\n",
    "\n",
    "#pega o desempenho por país por esporte\n",
    "df_desempenho_pais = df_desempenho[[\"Sport\", \"region\", \"desempenho\"]].groupby([\"Sport\", \"region\"], as_index=False).sum()\n",
    "\n",
    "#calcula o desemepnho médio por esporte\n",
    "df_desempenho_media = df_desempenho_pais.groupby([\"Sport\"]).mean()\n",
    "\n",
    "#adiciona o desempenho médio por esporte na tabela\n",
    "df_desempenho_pais[\"media\"] = df_desempenho_pais[\"Sport\"].apply(lambda x: \n",
    "              media(x, df_desempenho_media))\n",
    "\n",
    "#ajusta nome dos países na tabela\n",
    "df_gdp['Country'] = df_gdp['Country'].apply(lambda x: elimina_ultimo_caracter(x))\n",
    "\n",
    "#dicionário com os nomes corretos\n",
    "dic_paises_nome = {\n",
    "    'South Korea': 'Korea, South',\n",
    "    'USA': 'United States',\n",
    "    'UK': 'United Kingdom',\n",
    "    'North Korea': 'Korea, North',\n",
    "    'Ivory Coast': \"Cote d'Ivoire\"\n",
    "}\n",
    "\n",
    "#acerta o nome dos países\n",
    "df_desempenho_pais['region'] = df_desempenho_pais['region'].apply(lambda x: acerta_nome_paises(x, dic_paises_nome)) \n",
    "\n",
    "#pega informações sobre cada país\n",
    "df_desempenho_pais = df_desempenho_pais.merge(df_gdp[[\"Country\",\"GDP ($ per capita)\"]],\n",
    "                                              how='left',\n",
    "                                              left_on=\"region\",\n",
    "                                              right_on=\"Country\",)\n",
    "\n",
    "#remove alguns países irrelevantes\n",
    "df_desempenho_pais = df_desempenho_pais.dropna(subset=['GDP ($ per capita)'])\n"
   ]
  },
  {
   "cell_type": "code",
   "execution_count": 35,
   "id": "44508ec6",
   "metadata": {},
   "outputs": [
    {
     "data": {
      "text/html": [
       "<div>\n",
       "<style scoped>\n",
       "    .dataframe tbody tr th:only-of-type {\n",
       "        vertical-align: middle;\n",
       "    }\n",
       "\n",
       "    .dataframe tbody tr th {\n",
       "        vertical-align: top;\n",
       "    }\n",
       "\n",
       "    .dataframe thead th {\n",
       "        text-align: right;\n",
       "    }\n",
       "</style>\n",
       "<table border=\"1\" class=\"dataframe\">\n",
       "  <thead>\n",
       "    <tr style=\"text-align: right;\">\n",
       "      <th></th>\n",
       "      <th>ID</th>\n",
       "      <th>Age</th>\n",
       "      <th>Height</th>\n",
       "      <th>Weight</th>\n",
       "      <th>Year</th>\n",
       "    </tr>\n",
       "  </thead>\n",
       "  <tbody>\n",
       "    <tr>\n",
       "      <th>count</th>\n",
       "      <td>270746.000000</td>\n",
       "      <td>261286.000000</td>\n",
       "      <td>210668.000000</td>\n",
       "      <td>207964.000000</td>\n",
       "      <td>270746.000000</td>\n",
       "    </tr>\n",
       "    <tr>\n",
       "      <th>mean</th>\n",
       "      <td>68230.259254</td>\n",
       "      <td>25.560003</td>\n",
       "      <td>175.344741</td>\n",
       "      <td>70.710209</td>\n",
       "      <td>1978.360279</td>\n",
       "    </tr>\n",
       "    <tr>\n",
       "      <th>std</th>\n",
       "      <td>39018.124171</td>\n",
       "      <td>6.392576</td>\n",
       "      <td>10.519332</td>\n",
       "      <td>14.350083</td>\n",
       "      <td>29.883741</td>\n",
       "    </tr>\n",
       "    <tr>\n",
       "      <th>min</th>\n",
       "      <td>1.000000</td>\n",
       "      <td>10.000000</td>\n",
       "      <td>127.000000</td>\n",
       "      <td>25.000000</td>\n",
       "      <td>1896.000000</td>\n",
       "    </tr>\n",
       "    <tr>\n",
       "      <th>25%</th>\n",
       "      <td>34631.000000</td>\n",
       "      <td>21.000000</td>\n",
       "      <td>168.000000</td>\n",
       "      <td>60.000000</td>\n",
       "      <td>1960.000000</td>\n",
       "    </tr>\n",
       "    <tr>\n",
       "      <th>50%</th>\n",
       "      <td>68187.500000</td>\n",
       "      <td>24.000000</td>\n",
       "      <td>175.000000</td>\n",
       "      <td>70.000000</td>\n",
       "      <td>1988.000000</td>\n",
       "    </tr>\n",
       "    <tr>\n",
       "      <th>75%</th>\n",
       "      <td>102068.750000</td>\n",
       "      <td>28.000000</td>\n",
       "      <td>183.000000</td>\n",
       "      <td>79.000000</td>\n",
       "      <td>2002.000000</td>\n",
       "    </tr>\n",
       "    <tr>\n",
       "      <th>max</th>\n",
       "      <td>135571.000000</td>\n",
       "      <td>97.000000</td>\n",
       "      <td>226.000000</td>\n",
       "      <td>214.000000</td>\n",
       "      <td>2016.000000</td>\n",
       "    </tr>\n",
       "  </tbody>\n",
       "</table>\n",
       "</div>"
      ],
      "text/plain": [
       "                  ID            Age         Height         Weight  \\\n",
       "count  270746.000000  261286.000000  210668.000000  207964.000000   \n",
       "mean    68230.259254      25.560003     175.344741      70.710209   \n",
       "std     39018.124171       6.392576      10.519332      14.350083   \n",
       "min         1.000000      10.000000     127.000000      25.000000   \n",
       "25%     34631.000000      21.000000     168.000000      60.000000   \n",
       "50%     68187.500000      24.000000     175.000000      70.000000   \n",
       "75%    102068.750000      28.000000     183.000000      79.000000   \n",
       "max    135571.000000      97.000000     226.000000     214.000000   \n",
       "\n",
       "                Year  \n",
       "count  270746.000000  \n",
       "mean     1978.360279  \n",
       "std        29.883741  \n",
       "min      1896.000000  \n",
       "25%      1960.000000  \n",
       "50%      1988.000000  \n",
       "75%      2002.000000  \n",
       "max      2016.000000  "
      ]
     },
     "execution_count": 35,
     "metadata": {},
     "output_type": "execute_result"
    }
   ],
   "source": [
    "df_merge_original.describe()"
   ]
  },
  {
   "cell_type": "code",
   "execution_count": 36,
   "id": "cc69e6b7",
   "metadata": {},
   "outputs": [
    {
     "name": "stdout",
     "output_type": "stream",
     "text": [
      "número de vértices de g: 134\n"
     ]
    }
   ],
   "source": [
    "#pega todos os times\n",
    "lista_teams = df_desempenho_pais.region.unique().tolist()\n",
    "\n",
    "#pega todos os eventos\n",
    "lista_eventos = df_desempenho_pais.Sport.unique().tolist()\n",
    "\n",
    "g.vp['tipo'] = g.new_vp('object')\n",
    "g.vp['nome'] = g.new_vp('object')\n",
    "g.vp['color'] = g.new_vp('object')\n",
    "\n",
    "lista_vertices = lista_teams+lista_eventos\n",
    "\n",
    "#cria os times como vértices\n",
    "cria_vertices(g, lista_vertices, len(lista_teams))\n",
    "print('número de vértices de g:', g.num_vertices())\n",
    "\n",
    "lista_arestas = list()\n",
    "\n",
    "#preenche a lista e o dicionario de acordo com as partidas e ocorrencias\n",
    "df_fake = df_desempenho_pais.apply(lambda x: \n",
    "              arestas(x.region, x.Sport, x.desempenho, x.media, lista_arestas),\n",
    "              axis=1)\n",
    "\n",
    "create_edgs_links(lista_arestas, g)"
   ]
  },
  {
   "cell_type": "markdown",
   "id": "09fc496e",
   "metadata": {},
   "source": [
    "### Análise 2\n",
    "---"
   ]
  },
  {
   "cell_type": "code",
   "execution_count": 37,
   "id": "d5fc2142",
   "metadata": {},
   "outputs": [],
   "source": [
    "c.vp['nome'] = c.new_vp('object') #adiciona propriedade aos vértices\n",
    "c.ep['peso'] = c.new_ep('object') #adiciona propriedade as arestas\n",
    "\n",
    "cria_nome_times(g, c) #cria vertíces\n",
    "\n",
    "dicionario_one_mode, lista_one_mode = lista_esporte_por_time(g)\n",
    "\n",
    "dist = cria_arestas(c, dicionario_one_mode, lista_one_mode)"
   ]
  },
  {
   "cell_type": "markdown",
   "id": "0be7e232",
   "metadata": {},
   "source": [
    "### Visualizando grafo C\n",
    "---"
   ]
  },
  {
   "cell_type": "code",
   "execution_count": 38,
   "id": "2efb98aa",
   "metadata": {},
   "outputs": [
    {
     "data": {
      "text/html": [
       "\n",
       "        <div id=\"euoLquY543Rcw6sjKhbZcK\"></div>\n",
       "        <script>netpixi.render('euoLquY543Rcw6sjKhbZcK', './exemplo_c.net.gz', 1.7777777777777777, true, true, false);</script>\n",
       "    "
      ],
      "text/plain": [
       "<IPython.core.display.HTML object>"
      ]
     },
     "metadata": {},
     "output_type": "display_data"
    }
   ],
   "source": [
    "m = draw_gt.sfdp_layout(c)\n",
    "move_gt(c, m)\n",
    "\n",
    "save_gt(c, 'exemplo_c.net.gz')\n",
    "\n",
    "r = netpixi.render('./exemplo_c.net.gz', infinite=True)"
   ]
  },
  {
   "cell_type": "markdown",
   "id": "d3795513",
   "metadata": {},
   "source": [
    "### Cluster coefficient\n",
    "---"
   ]
  },
  {
   "cell_type": "code",
   "execution_count": 39,
   "id": "65b0097d",
   "metadata": {},
   "outputs": [],
   "source": [
    "cluster = clustering.local_clustering(c)\n",
    "\n",
    "c.vp['clustering coefficient'] = cluster\n",
    "\n",
    "dft = pd.DataFrame({k: list(v) for k, v in c.vp.items()})\n",
    "\n",
    "dft = dft.loc[dft['clustering coefficient'] != 0]"
   ]
  },
  {
   "cell_type": "markdown",
   "id": "3e8a50bc",
   "metadata": {},
   "source": [
    "### Salvando grafo e visualizando\n",
    "---"
   ]
  },
  {
   "cell_type": "code",
   "execution_count": 40,
   "id": "15133b8b",
   "metadata": {},
   "outputs": [
    {
     "data": {
      "text/html": [
       "\n",
       "        <div id=\"friXbDSwLQgpbBBYwBgFpp\"></div>\n",
       "        <script>netpixi.render('friXbDSwLQgpbBBYwBgFpp', './exemplo.net.gz', 1.7777777777777777, true, false, false);</script>\n",
       "    "
      ],
      "text/plain": [
       "<IPython.core.display.HTML object>"
      ]
     },
     "metadata": {},
     "output_type": "display_data"
    }
   ],
   "source": [
    "top = []\n",
    "for v in g.vertices():\n",
    "    if g.vp['tipo'][v] == 'time':\n",
    "        top.append(v)\n",
    "        \n",
    "m = draw_gt.bipartite_layout(g, top)\n",
    "move_gt(g, m)\n",
    "\n",
    "save_gt(g, 'exemplo.net.gz')\n",
    "\n",
    "r = netpixi.render('./exemplo.net.gz')"
   ]
  },
  {
   "cell_type": "code",
   "execution_count": 41,
   "id": "fdba7ebf",
   "metadata": {},
   "outputs": [
    {
     "data": {
      "text/html": [
       "\n",
       "        <div id=\"T2Wv6RwssrsvFFw7SYiM2C\"></div>\n",
       "        <script>netpixi.call('T2Wv6RwssrsvFFw7SYiM2C', 'friXbDSwLQgpbBBYwBgFpp', 'changeGraph', 'eyJ0eXBlIjogInNldHRpbmdzIiwgInByb3BzIjogeyJncmFwaCI6IHsiY29sb3IiOiAxNjc3NzIxNX19fQo=');</script>\n",
       "    "
      ],
      "text/plain": [
       "<IPython.core.display.HTML object>"
      ]
     },
     "metadata": {},
     "output_type": "display_data"
    },
    {
     "data": {
      "text/html": [
       "\n",
       "        <div id=\"GejDSQ778mKwALY4vEhibF\"></div>\n",
       "        <script>netpixi.call('GejDSQ778mKwALY4vEhibF', 'friXbDSwLQgpbBBYwBgFpp', 'changeGraph', 'eyJ0eXBlIjogInNldHRpbmdzIiwgInByb3BzIjogeyJ2ZXJ0ZXgiOiB7ImNvbG9yIjogMCwgInNpemUiOiAxMH19fQo=');</script>\n",
       "    "
      ],
      "text/plain": [
       "<IPython.core.display.HTML object>"
      ]
     },
     "metadata": {},
     "output_type": "display_data"
    },
    {
     "data": {
      "text/html": [
       "\n",
       "        <div id=\"5h5LRik6uqPrTatz7ByL4u\"></div>\n",
       "        <script>netpixi.call('5h5LRik6uqPrTatz7ByL4u', 'friXbDSwLQgpbBBYwBgFpp', 'changeGraph', 'eyJ0eXBlIjogInNldHRpbmdzIiwgInByb3BzIjogeyJlZGdlIjogeyJjb2xvciI6IDAsICJ3aWR0aCI6IDEsICJjdXJ2ZTEiOiAwLCAiY3VydmUyIjogMH19fQo=');</script>\n",
       "    "
      ],
      "text/plain": [
       "<IPython.core.display.HTML object>"
      ]
     },
     "metadata": {},
     "output_type": "display_data"
    },
    {
     "data": {
      "text/html": [
       "\n",
       "        <div id=\"HZF8RBpgdpnFjZP84LEuMh\"></div>\n",
       "        <script>netpixi.call('HZF8RBpgdpnFjZP84LEuMh', 'friXbDSwLQgpbBBYwBgFpp', 'changeGraph', 'eyJzb3VyY2UiOiAwLCAidGFyZ2V0IjogMSwgInR5cGUiOiAiZWRnZSIsICJwcm9wcyI6IHsiY29sb3IiOiAyNTUsICJ3aWR0aCI6IDJ9fQo=');</script>\n",
       "    "
      ],
      "text/plain": [
       "<IPython.core.display.HTML object>"
      ]
     },
     "metadata": {},
     "output_type": "display_data"
    }
   ],
   "source": [
    "# mudar a cor de fundo do grafo\n",
    "r.graph(color=0xffffff)\n",
    "\n",
    "# mudar a cor e o tamanho dos vértices\n",
    "r.vertex_default(color=0x000000, size=10)\n",
    "\n",
    "# mudar a cor, a espessura e a curvatura das arestas\n",
    "r.edge_default(color=0x000000, width=1, curve1=0, curve2=0)\n",
    "\n",
    "# mudar uma aresta específica a partir dos ids de sua origem e destino\n",
    "r.edge(0, 1, color=0x0000ff, width=2)"
   ]
  },
  {
   "cell_type": "markdown",
   "id": "807b020d",
   "metadata": {},
   "source": [
    "### Regressão\n",
    "---"
   ]
  },
  {
   "cell_type": "code",
   "execution_count": null,
   "id": "85dce543",
   "metadata": {},
   "outputs": [],
   "source": []
  },
  {
   "cell_type": "markdown",
   "id": "6b3251b0",
   "metadata": {},
   "source": [
    "### GDP X Desempenho"
   ]
  },
  {
   "cell_type": "code",
   "execution_count": 42,
   "id": "cafda503",
   "metadata": {},
   "outputs": [],
   "source": [
    "df_desempenho_pais_total = df_desempenho[[\"region\", \"desempenho\"]].groupby([\"region\"], as_index=False).sum()\n"
   ]
  },
  {
   "cell_type": "code",
   "execution_count": 43,
   "id": "df89c19f",
   "metadata": {},
   "outputs": [],
   "source": [
    "\n",
    "df_desempenho_pais_total = df_desempenho_pais_total.merge(df_gdp[[\"Country\",\"GDP ($ per capita)\"]],\n",
    "                                              how='left',\n",
    "                                              left_on=\"region\",\n",
    "                                              right_on=\"Country\")\n"
   ]
  },
  {
   "cell_type": "code",
   "execution_count": 44,
   "id": "5162390c",
   "metadata": {
    "scrolled": true
   },
   "outputs": [],
   "source": [
    "\n",
    "df_desempenho_pais_total = df_desempenho_pais_total.merge(dft,\n",
    "                                              how='left',\n",
    "                                              left_on=\"region\",\n",
    "                                              right_on=\"nome\")\n"
   ]
  },
  {
   "cell_type": "code",
   "execution_count": 45,
   "id": "7aa8aa15",
   "metadata": {},
   "outputs": [],
   "source": [
    "\n",
    "df_desempenho_pais_total['y'] = df_desempenho_pais_total['GDP ($ per capita)']\n",
    "df_desempenho_pais_total['c'] = df_desempenho_pais_total['clustering coefficient']"
   ]
  },
  {
   "cell_type": "code",
   "execution_count": 46,
   "id": "d17bb31b",
   "metadata": {},
   "outputs": [
    {
     "data": {
      "text/html": [
       "<table class=\"simpletable\">\n",
       "<caption>OLS Regression Results</caption>\n",
       "<tr>\n",
       "  <th>Dep. Variable:</th>       <td>desempenho</td>    <th>  R-squared:         </th> <td>   0.144</td>\n",
       "</tr>\n",
       "<tr>\n",
       "  <th>Model:</th>                   <td>OLS</td>       <th>  Adj. R-squared:    </th> <td>   0.133</td>\n",
       "</tr>\n",
       "<tr>\n",
       "  <th>Method:</th>             <td>Least Squares</td>  <th>  F-statistic:       </th> <td>   12.95</td>\n",
       "</tr>\n",
       "<tr>\n",
       "  <th>Date:</th>             <td>Fri, 12 Nov 2021</td> <th>  Prob (F-statistic):</th> <td>0.000563</td>\n",
       "</tr>\n",
       "<tr>\n",
       "  <th>Time:</th>                 <td>00:19:02</td>     <th>  Log-Likelihood:    </th> <td> -336.85</td>\n",
       "</tr>\n",
       "<tr>\n",
       "  <th>No. Observations:</th>      <td>    79</td>      <th>  AIC:               </th> <td>   677.7</td>\n",
       "</tr>\n",
       "<tr>\n",
       "  <th>Df Residuals:</th>          <td>    77</td>      <th>  BIC:               </th> <td>   682.4</td>\n",
       "</tr>\n",
       "<tr>\n",
       "  <th>Df Model:</th>              <td>     1</td>      <th>                     </th>     <td> </td>   \n",
       "</tr>\n",
       "<tr>\n",
       "  <th>Covariance Type:</th>      <td>nonrobust</td>    <th>                     </th>     <td> </td>   \n",
       "</tr>\n",
       "</table>\n",
       "<table class=\"simpletable\">\n",
       "<tr>\n",
       "      <td></td>         <th>coef</th>     <th>std err</th>      <th>t</th>      <th>P>|t|</th>  <th>[0.025</th>    <th>0.975]</th>  \n",
       "</tr>\n",
       "<tr>\n",
       "  <th>Intercept</th> <td>    6.4256</td> <td>    3.077</td> <td>    2.088</td> <td> 0.040</td> <td>    0.298</td> <td>   12.553</td>\n",
       "</tr>\n",
       "<tr>\n",
       "  <th>y</th>         <td>    0.0007</td> <td>    0.000</td> <td>    3.599</td> <td> 0.001</td> <td>    0.000</td> <td>    0.001</td>\n",
       "</tr>\n",
       "</table>\n",
       "<table class=\"simpletable\">\n",
       "<tr>\n",
       "  <th>Omnibus:</th>       <td>73.760</td> <th>  Durbin-Watson:     </th> <td>   2.143</td> \n",
       "</tr>\n",
       "<tr>\n",
       "  <th>Prob(Omnibus):</th> <td> 0.000</td> <th>  Jarque-Bera (JB):  </th> <td> 538.993</td> \n",
       "</tr>\n",
       "<tr>\n",
       "  <th>Skew:</th>          <td> 2.880</td> <th>  Prob(JB):          </th> <td>9.10e-118</td>\n",
       "</tr>\n",
       "<tr>\n",
       "  <th>Kurtosis:</th>      <td>14.426</td> <th>  Cond. No.          </th> <td>2.53e+04</td> \n",
       "</tr>\n",
       "</table><br/><br/>Notes:<br/>[1] Standard Errors assume that the covariance matrix of the errors is correctly specified.<br/>[2] The condition number is large, 2.53e+04. This might indicate that there are<br/>strong multicollinearity or other numerical problems."
      ],
      "text/plain": [
       "<class 'statsmodels.iolib.summary.Summary'>\n",
       "\"\"\"\n",
       "                            OLS Regression Results                            \n",
       "==============================================================================\n",
       "Dep. Variable:             desempenho   R-squared:                       0.144\n",
       "Model:                            OLS   Adj. R-squared:                  0.133\n",
       "Method:                 Least Squares   F-statistic:                     12.95\n",
       "Date:                Fri, 12 Nov 2021   Prob (F-statistic):           0.000563\n",
       "Time:                        00:19:02   Log-Likelihood:                -336.85\n",
       "No. Observations:                  79   AIC:                             677.7\n",
       "Df Residuals:                      77   BIC:                             682.4\n",
       "Df Model:                           1                                         \n",
       "Covariance Type:            nonrobust                                         \n",
       "==============================================================================\n",
       "                 coef    std err          t      P>|t|      [0.025      0.975]\n",
       "------------------------------------------------------------------------------\n",
       "Intercept      6.4256      3.077      2.088      0.040       0.298      12.553\n",
       "y              0.0007      0.000      3.599      0.001       0.000       0.001\n",
       "==============================================================================\n",
       "Omnibus:                       73.760   Durbin-Watson:                   2.143\n",
       "Prob(Omnibus):                  0.000   Jarque-Bera (JB):              538.993\n",
       "Skew:                           2.880   Prob(JB):                    9.10e-118\n",
       "Kurtosis:                      14.426   Cond. No.                     2.53e+04\n",
       "==============================================================================\n",
       "\n",
       "Notes:\n",
       "[1] Standard Errors assume that the covariance matrix of the errors is correctly specified.\n",
       "[2] The condition number is large, 2.53e+04. This might indicate that there are\n",
       "strong multicollinearity or other numerical problems.\n",
       "\"\"\""
      ]
     },
     "execution_count": 46,
     "metadata": {},
     "output_type": "execute_result"
    }
   ],
   "source": [
    "model = smf.ols(data=df_desempenho_pais_total, formula='desempenho ~ y')\n",
    "result = model.fit()\n",
    "result.summary()"
   ]
  },
  {
   "cell_type": "code",
   "execution_count": 47,
   "id": "227ffd38",
   "metadata": {
    "scrolled": true
   },
   "outputs": [
    {
     "data": {
      "image/png": "[encoded data removed]",
      "text/plain": [
       "<Figure size 432x288 with 1 Axes>"
      ]
     },
     "metadata": {},
     "output_type": "display_data"
    }
   ],
   "source": [
    "sns.regplot(x=df_desempenho_pais_total['desempenho'], y=np.log(df_desempenho_pais_total['y']))\n",
    "plt.show()"
   ]
  },
  {
   "cell_type": "markdown",
   "id": "462b9d21",
   "metadata": {},
   "source": [
    "### GDP X Desempenho após filtragem"
   ]
  },
  {
   "cell_type": "code",
   "execution_count": 48,
   "id": "a9bb1558",
   "metadata": {},
   "outputs": [],
   "source": [
    "df_desempenho_pais_filtered = df_desempenho_pais_total[df_desempenho_pais_total['desempenho']<80]\n"
   ]
  },
  {
   "cell_type": "code",
   "execution_count": 49,
   "id": "73ac801a",
   "metadata": {
    "scrolled": true
   },
   "outputs": [
    {
     "data": {
      "text/html": [
       "<div>\n",
       "<style scoped>\n",
       "    .dataframe tbody tr th:only-of-type {\n",
       "        vertical-align: middle;\n",
       "    }\n",
       "\n",
       "    .dataframe tbody tr th {\n",
       "        vertical-align: top;\n",
       "    }\n",
       "\n",
       "    .dataframe thead th {\n",
       "        text-align: right;\n",
       "    }\n",
       "</style>\n",
       "<table border=\"1\" class=\"dataframe\">\n",
       "  <thead>\n",
       "    <tr style=\"text-align: right;\">\n",
       "      <th></th>\n",
       "      <th>region</th>\n",
       "      <th>desempenho</th>\n",
       "      <th>Country</th>\n",
       "      <th>GDP ($ per capita)</th>\n",
       "      <th>nome</th>\n",
       "      <th>_x</th>\n",
       "      <th>_y</th>\n",
       "      <th>clustering coefficient</th>\n",
       "      <th>y</th>\n",
       "      <th>c</th>\n",
       "    </tr>\n",
       "  </thead>\n",
       "  <tbody>\n",
       "    <tr>\n",
       "      <th>14</th>\n",
       "      <td>China</td>\n",
       "      <td>94</td>\n",
       "      <td>China</td>\n",
       "      <td>5000.0</td>\n",
       "      <td>China</td>\n",
       "      <td>4.882420</td>\n",
       "      <td>5.641616</td>\n",
       "      <td>0.593897</td>\n",
       "      <td>5000.0</td>\n",
       "      <td>0.593897</td>\n",
       "    </tr>\n",
       "    <tr>\n",
       "      <th>63</th>\n",
       "      <td>Russia</td>\n",
       "      <td>95</td>\n",
       "      <td>Russia</td>\n",
       "      <td>8900.0</td>\n",
       "      <td>Russia</td>\n",
       "      <td>5.633589</td>\n",
       "      <td>5.930407</td>\n",
       "      <td>0.522233</td>\n",
       "      <td>8900.0</td>\n",
       "      <td>0.522233</td>\n",
       "    </tr>\n",
       "    <tr>\n",
       "      <th>80</th>\n",
       "      <td>USA</td>\n",
       "      <td>84</td>\n",
       "      <td>NaN</td>\n",
       "      <td>NaN</td>\n",
       "      <td>NaN</td>\n",
       "      <td>NaN</td>\n",
       "      <td>NaN</td>\n",
       "      <td>NaN</td>\n",
       "      <td>NaN</td>\n",
       "      <td>NaN</td>\n",
       "    </tr>\n",
       "  </tbody>\n",
       "</table>\n",
       "</div>"
      ],
      "text/plain": [
       "    region  desempenho Country  GDP ($ per capita)    nome        _x  \\\n",
       "14   China          94   China              5000.0   China  4.882420   \n",
       "63  Russia          95  Russia              8900.0  Russia  5.633589   \n",
       "80     USA          84     NaN                 NaN     NaN       NaN   \n",
       "\n",
       "          _y  clustering coefficient       y         c  \n",
       "14  5.641616                0.593897  5000.0  0.593897  \n",
       "63  5.930407                0.522233  8900.0  0.522233  \n",
       "80       NaN                     NaN     NaN       NaN  "
      ]
     },
     "execution_count": 49,
     "metadata": {},
     "output_type": "execute_result"
    }
   ],
   "source": [
    "df_desempenho_pais_total[df_desempenho_pais_total['desempenho']>80]"
   ]
  },
  {
   "cell_type": "code",
   "execution_count": 50,
   "id": "4588cda1",
   "metadata": {
    "scrolled": false
   },
   "outputs": [],
   "source": [
    "df_desempenho_pais_filtered = df_desempenho_pais_total[df_desempenho_pais_total['desempenho']<80]\n"
   ]
  },
  {
   "cell_type": "code",
   "execution_count": 51,
   "id": "32a0b2c4",
   "metadata": {},
   "outputs": [
    {
     "data": {
      "image/png": "[encoded data removed]",
      "text/plain": [
       "<Figure size 432x288 with 1 Axes>"
      ]
     },
     "metadata": {},
     "output_type": "display_data"
    }
   ],
   "source": [
    "sns.regplot(x=df_desempenho_pais_filtered['desempenho'], y=(df_desempenho_pais_filtered['y']))\n",
    "plt.show()"
   ]
  },
  {
   "cell_type": "code",
   "execution_count": 52,
   "id": "63d842b4",
   "metadata": {},
   "outputs": [
    {
     "data": {
      "text/html": [
       "<table class=\"simpletable\">\n",
       "<caption>OLS Regression Results</caption>\n",
       "<tr>\n",
       "  <th>Dep. Variable:</th>       <td>desempenho</td>    <th>  R-squared:         </th> <td>   0.370</td>\n",
       "</tr>\n",
       "<tr>\n",
       "  <th>Model:</th>                   <td>OLS</td>       <th>  Adj. R-squared:    </th> <td>   0.361</td>\n",
       "</tr>\n",
       "<tr>\n",
       "  <th>Method:</th>             <td>Least Squares</td>  <th>  F-statistic:       </th> <td>   44.00</td>\n",
       "</tr>\n",
       "<tr>\n",
       "  <th>Date:</th>             <td>Fri, 12 Nov 2021</td> <th>  Prob (F-statistic):</th> <td>4.49e-09</td>\n",
       "</tr>\n",
       "<tr>\n",
       "  <th>Time:</th>                 <td>00:19:03</td>     <th>  Log-Likelihood:    </th> <td> -292.69</td>\n",
       "</tr>\n",
       "<tr>\n",
       "  <th>No. Observations:</th>      <td>    77</td>      <th>  AIC:               </th> <td>   589.4</td>\n",
       "</tr>\n",
       "<tr>\n",
       "  <th>Df Residuals:</th>          <td>    75</td>      <th>  BIC:               </th> <td>   594.1</td>\n",
       "</tr>\n",
       "<tr>\n",
       "  <th>Df Model:</th>              <td>     1</td>      <th>                     </th>     <td> </td>   \n",
       "</tr>\n",
       "<tr>\n",
       "  <th>Covariance Type:</th>      <td>nonrobust</td>    <th>                     </th>     <td> </td>   \n",
       "</tr>\n",
       "</table>\n",
       "<table class=\"simpletable\">\n",
       "<tr>\n",
       "      <td></td>         <th>coef</th>     <th>std err</th>      <th>t</th>      <th>P>|t|</th>  <th>[0.025</th>    <th>0.975]</th>  \n",
       "</tr>\n",
       "<tr>\n",
       "  <th>Intercept</th> <td>    2.8338</td> <td>    1.966</td> <td>    1.441</td> <td> 0.154</td> <td>   -1.082</td> <td>    6.750</td>\n",
       "</tr>\n",
       "<tr>\n",
       "  <th>y</th>         <td>    0.0008</td> <td>    0.000</td> <td>    6.633</td> <td> 0.000</td> <td>    0.001</td> <td>    0.001</td>\n",
       "</tr>\n",
       "</table>\n",
       "<table class=\"simpletable\">\n",
       "<tr>\n",
       "  <th>Omnibus:</th>       <td> 2.834</td> <th>  Durbin-Watson:     </th> <td>   2.321</td>\n",
       "</tr>\n",
       "<tr>\n",
       "  <th>Prob(Omnibus):</th> <td> 0.242</td> <th>  Jarque-Bera (JB):  </th> <td>   2.093</td>\n",
       "</tr>\n",
       "<tr>\n",
       "  <th>Skew:</th>          <td> 0.358</td> <th>  Prob(JB):          </th> <td>   0.351</td>\n",
       "</tr>\n",
       "<tr>\n",
       "  <th>Kurtosis:</th>      <td> 3.375</td> <th>  Cond. No.          </th> <td>2.56e+04</td>\n",
       "</tr>\n",
       "</table><br/><br/>Notes:<br/>[1] Standard Errors assume that the covariance matrix of the errors is correctly specified.<br/>[2] The condition number is large, 2.56e+04. This might indicate that there are<br/>strong multicollinearity or other numerical problems."
      ],
      "text/plain": [
       "<class 'statsmodels.iolib.summary.Summary'>\n",
       "\"\"\"\n",
       "                            OLS Regression Results                            \n",
       "==============================================================================\n",
       "Dep. Variable:             desempenho   R-squared:                       0.370\n",
       "Model:                            OLS   Adj. R-squared:                  0.361\n",
       "Method:                 Least Squares   F-statistic:                     44.00\n",
       "Date:                Fri, 12 Nov 2021   Prob (F-statistic):           4.49e-09\n",
       "Time:                        00:19:03   Log-Likelihood:                -292.69\n",
       "No. Observations:                  77   AIC:                             589.4\n",
       "Df Residuals:                      75   BIC:                             594.1\n",
       "Df Model:                           1                                         \n",
       "Covariance Type:            nonrobust                                         \n",
       "==============================================================================\n",
       "                 coef    std err          t      P>|t|      [0.025      0.975]\n",
       "------------------------------------------------------------------------------\n",
       "Intercept      2.8338      1.966      1.441      0.154      -1.082       6.750\n",
       "y              0.0008      0.000      6.633      0.000       0.001       0.001\n",
       "==============================================================================\n",
       "Omnibus:                        2.834   Durbin-Watson:                   2.321\n",
       "Prob(Omnibus):                  0.242   Jarque-Bera (JB):                2.093\n",
       "Skew:                           0.358   Prob(JB):                        0.351\n",
       "Kurtosis:                       3.375   Cond. No.                     2.56e+04\n",
       "==============================================================================\n",
       "\n",
       "Notes:\n",
       "[1] Standard Errors assume that the covariance matrix of the errors is correctly specified.\n",
       "[2] The condition number is large, 2.56e+04. This might indicate that there are\n",
       "strong multicollinearity or other numerical problems.\n",
       "\"\"\""
      ]
     },
     "execution_count": 52,
     "metadata": {},
     "output_type": "execute_result"
    }
   ],
   "source": [
    "model = smf.ols(data=df_desempenho_pais_filtered, formula='desempenho ~ y')\n",
    "result = model.fit()\n",
    "result.summary()"
   ]
  },
  {
   "cell_type": "markdown",
   "id": "10039d1d",
   "metadata": {},
   "source": [
    "### Clustering Coefficient X Desempenho "
   ]
  },
  {
   "cell_type": "code",
   "execution_count": 53,
   "id": "c7c917f9",
   "metadata": {
    "scrolled": true
   },
   "outputs": [],
   "source": [
    "df_desempenho_cluster = df_desempenho_pais_total.dropna(subset=['clustering coefficient'])"
   ]
  },
  {
   "cell_type": "code",
   "execution_count": 54,
   "id": "fc117637",
   "metadata": {
    "scrolled": false
   },
   "outputs": [
    {
     "data": {
      "text/html": [
       "<table class=\"simpletable\">\n",
       "<caption>OLS Regression Results</caption>\n",
       "<tr>\n",
       "  <th>Dep. Variable:</th>    <td>np.log(desempenho)</td> <th>  R-squared:         </th> <td>   0.757</td>\n",
       "</tr>\n",
       "<tr>\n",
       "  <th>Model:</th>                    <td>OLS</td>        <th>  Adj. R-squared:    </th> <td>   0.754</td>\n",
       "</tr>\n",
       "<tr>\n",
       "  <th>Method:</th>              <td>Least Squares</td>   <th>  F-statistic:       </th> <td>   239.9</td>\n",
       "</tr>\n",
       "<tr>\n",
       "  <th>Date:</th>              <td>Fri, 12 Nov 2021</td>  <th>  Prob (F-statistic):</th> <td>2.30e-25</td>\n",
       "</tr>\n",
       "<tr>\n",
       "  <th>Time:</th>                  <td>00:19:03</td>      <th>  Log-Likelihood:    </th> <td> -69.463</td>\n",
       "</tr>\n",
       "<tr>\n",
       "  <th>No. Observations:</th>       <td>    79</td>       <th>  AIC:               </th> <td>   142.9</td>\n",
       "</tr>\n",
       "<tr>\n",
       "  <th>Df Residuals:</th>           <td>    77</td>       <th>  BIC:               </th> <td>   147.7</td>\n",
       "</tr>\n",
       "<tr>\n",
       "  <th>Df Model:</th>               <td>     1</td>       <th>                     </th>     <td> </td>   \n",
       "</tr>\n",
       "<tr>\n",
       "  <th>Covariance Type:</th>       <td>nonrobust</td>     <th>                     </th>     <td> </td>   \n",
       "</tr>\n",
       "</table>\n",
       "<table class=\"simpletable\">\n",
       "<tr>\n",
       "      <td></td>         <th>coef</th>     <th>std err</th>      <th>t</th>      <th>P>|t|</th>  <th>[0.025</th>    <th>0.975]</th>  \n",
       "</tr>\n",
       "<tr>\n",
       "  <th>Intercept</th> <td>    7.6822</td> <td>    0.370</td> <td>   20.757</td> <td> 0.000</td> <td>    6.945</td> <td>    8.419</td>\n",
       "</tr>\n",
       "<tr>\n",
       "  <th>c</th>         <td>   -6.9150</td> <td>    0.446</td> <td>  -15.488</td> <td> 0.000</td> <td>   -7.804</td> <td>   -6.026</td>\n",
       "</tr>\n",
       "</table>\n",
       "<table class=\"simpletable\">\n",
       "<tr>\n",
       "  <th>Omnibus:</th>       <td> 1.079</td> <th>  Durbin-Watson:     </th> <td>   2.064</td>\n",
       "</tr>\n",
       "<tr>\n",
       "  <th>Prob(Omnibus):</th> <td> 0.583</td> <th>  Jarque-Bera (JB):  </th> <td>   1.099</td>\n",
       "</tr>\n",
       "<tr>\n",
       "  <th>Skew:</th>          <td> 0.169</td> <th>  Prob(JB):          </th> <td>   0.577</td>\n",
       "</tr>\n",
       "<tr>\n",
       "  <th>Kurtosis:</th>      <td> 2.531</td> <th>  Cond. No.          </th> <td>    11.2</td>\n",
       "</tr>\n",
       "</table><br/><br/>Notes:<br/>[1] Standard Errors assume that the covariance matrix of the errors is correctly specified."
      ],
      "text/plain": [
       "<class 'statsmodels.iolib.summary.Summary'>\n",
       "\"\"\"\n",
       "                            OLS Regression Results                            \n",
       "==============================================================================\n",
       "Dep. Variable:     np.log(desempenho)   R-squared:                       0.757\n",
       "Model:                            OLS   Adj. R-squared:                  0.754\n",
       "Method:                 Least Squares   F-statistic:                     239.9\n",
       "Date:                Fri, 12 Nov 2021   Prob (F-statistic):           2.30e-25\n",
       "Time:                        00:19:03   Log-Likelihood:                -69.463\n",
       "No. Observations:                  79   AIC:                             142.9\n",
       "Df Residuals:                      77   BIC:                             147.7\n",
       "Df Model:                           1                                         \n",
       "Covariance Type:            nonrobust                                         \n",
       "==============================================================================\n",
       "                 coef    std err          t      P>|t|      [0.025      0.975]\n",
       "------------------------------------------------------------------------------\n",
       "Intercept      7.6822      0.370     20.757      0.000       6.945       8.419\n",
       "c             -6.9150      0.446    -15.488      0.000      -7.804      -6.026\n",
       "==============================================================================\n",
       "Omnibus:                        1.079   Durbin-Watson:                   2.064\n",
       "Prob(Omnibus):                  0.583   Jarque-Bera (JB):                1.099\n",
       "Skew:                           0.169   Prob(JB):                        0.577\n",
       "Kurtosis:                       2.531   Cond. No.                         11.2\n",
       "==============================================================================\n",
       "\n",
       "Notes:\n",
       "[1] Standard Errors assume that the covariance matrix of the errors is correctly specified.\n",
       "\"\"\""
      ]
     },
     "execution_count": 54,
     "metadata": {},
     "output_type": "execute_result"
    }
   ],
   "source": [
    "model = smf.ols(data=df_desempenho_cluster, formula='np.log(desempenho) ~ c')\n",
    "result = model.fit()\n",
    "result.summary()"
   ]
  },
  {
   "cell_type": "code",
   "execution_count": 55,
   "id": "5fae3dfd",
   "metadata": {},
   "outputs": [
    {
     "data": {
      "image/png": "[encoded data removed]",
      "text/plain": [
       "<Figure size 432x288 with 1 Axes>"
      ]
     },
     "metadata": {},
     "output_type": "display_data"
    }
   ],
   "source": [
    "sns.regplot(x=np.log(df_desempenho_cluster['desempenho']), y=df_desempenho_cluster['c'])\n",
    "plt.show()"
   ]
  },
  {
   "cell_type": "code",
   "execution_count": null,
   "id": "48ce917c",
   "metadata": {},
   "outputs": [],
   "source": []
  },
  {
   "cell_type": "markdown",
   "id": "e0133dda",
   "metadata": {},
   "source": [
    "### Clustering Coefficient X Desempenho após filtragem\n"
   ]
  },
  {
   "cell_type": "code",
   "execution_count": 56,
   "id": "b8ce5e20",
   "metadata": {},
   "outputs": [],
   "source": [
    "df_desempenho_pais_filtered = df_desempenho_pais_total[df_desempenho_pais_total['desempenho']<80]"
   ]
  },
  {
   "cell_type": "code",
   "execution_count": 57,
   "id": "e638e8de",
   "metadata": {
    "scrolled": true
   },
   "outputs": [],
   "source": [
    "df_desempenho_cluster = df_desempenho_pais_filtered.dropna(subset=['clustering coefficient'])"
   ]
  },
  {
   "cell_type": "code",
   "execution_count": 58,
   "id": "6853491a",
   "metadata": {
    "scrolled": false
   },
   "outputs": [
    {
     "data": {
      "text/html": [
       "<table class=\"simpletable\">\n",
       "<caption>OLS Regression Results</caption>\n",
       "<tr>\n",
       "  <th>Dep. Variable:</th>    <td>np.log(desempenho)</td> <th>  R-squared:         </th> <td>   0.738</td>\n",
       "</tr>\n",
       "<tr>\n",
       "  <th>Model:</th>                    <td>OLS</td>        <th>  Adj. R-squared:    </th> <td>   0.735</td>\n",
       "</tr>\n",
       "<tr>\n",
       "  <th>Method:</th>              <td>Least Squares</td>   <th>  F-statistic:       </th> <td>   211.3</td>\n",
       "</tr>\n",
       "<tr>\n",
       "  <th>Date:</th>              <td>Fri, 12 Nov 2021</td>  <th>  Prob (F-statistic):</th> <td>1.62e-23</td>\n",
       "</tr>\n",
       "<tr>\n",
       "  <th>Time:</th>                  <td>00:19:04</td>      <th>  Log-Likelihood:    </th> <td> -66.810</td>\n",
       "</tr>\n",
       "<tr>\n",
       "  <th>No. Observations:</th>       <td>    77</td>       <th>  AIC:               </th> <td>   137.6</td>\n",
       "</tr>\n",
       "<tr>\n",
       "  <th>Df Residuals:</th>           <td>    75</td>       <th>  BIC:               </th> <td>   142.3</td>\n",
       "</tr>\n",
       "<tr>\n",
       "  <th>Df Model:</th>               <td>     1</td>       <th>                     </th>     <td> </td>   \n",
       "</tr>\n",
       "<tr>\n",
       "  <th>Covariance Type:</th>       <td>nonrobust</td>     <th>                     </th>     <td> </td>   \n",
       "</tr>\n",
       "</table>\n",
       "<table class=\"simpletable\">\n",
       "<tr>\n",
       "      <td></td>         <th>coef</th>     <th>std err</th>      <th>t</th>      <th>P>|t|</th>  <th>[0.025</th>    <th>0.975]</th>  \n",
       "</tr>\n",
       "<tr>\n",
       "  <th>Intercept</th> <td>    7.4766</td> <td>    0.384</td> <td>   19.468</td> <td> 0.000</td> <td>    6.712</td> <td>    8.242</td>\n",
       "</tr>\n",
       "<tr>\n",
       "  <th>c</th>         <td>   -6.6879</td> <td>    0.460</td> <td>  -14.537</td> <td> 0.000</td> <td>   -7.604</td> <td>   -5.771</td>\n",
       "</tr>\n",
       "</table>\n",
       "<table class=\"simpletable\">\n",
       "<tr>\n",
       "  <th>Omnibus:</th>       <td> 1.230</td> <th>  Durbin-Watson:     </th> <td>   2.050</td>\n",
       "</tr>\n",
       "<tr>\n",
       "  <th>Prob(Omnibus):</th> <td> 0.541</td> <th>  Jarque-Bera (JB):  </th> <td>   1.270</td>\n",
       "</tr>\n",
       "<tr>\n",
       "  <th>Skew:</th>          <td> 0.227</td> <th>  Prob(JB):          </th> <td>   0.530</td>\n",
       "</tr>\n",
       "<tr>\n",
       "  <th>Kurtosis:</th>      <td> 2.565</td> <th>  Cond. No.          </th> <td>    11.6</td>\n",
       "</tr>\n",
       "</table><br/><br/>Notes:<br/>[1] Standard Errors assume that the covariance matrix of the errors is correctly specified."
      ],
      "text/plain": [
       "<class 'statsmodels.iolib.summary.Summary'>\n",
       "\"\"\"\n",
       "                            OLS Regression Results                            \n",
       "==============================================================================\n",
       "Dep. Variable:     np.log(desempenho)   R-squared:                       0.738\n",
       "Model:                            OLS   Adj. R-squared:                  0.735\n",
       "Method:                 Least Squares   F-statistic:                     211.3\n",
       "Date:                Fri, 12 Nov 2021   Prob (F-statistic):           1.62e-23\n",
       "Time:                        00:19:04   Log-Likelihood:                -66.810\n",
       "No. Observations:                  77   AIC:                             137.6\n",
       "Df Residuals:                      75   BIC:                             142.3\n",
       "Df Model:                           1                                         \n",
       "Covariance Type:            nonrobust                                         \n",
       "==============================================================================\n",
       "                 coef    std err          t      P>|t|      [0.025      0.975]\n",
       "------------------------------------------------------------------------------\n",
       "Intercept      7.4766      0.384     19.468      0.000       6.712       8.242\n",
       "c             -6.6879      0.460    -14.537      0.000      -7.604      -5.771\n",
       "==============================================================================\n",
       "Omnibus:                        1.230   Durbin-Watson:                   2.050\n",
       "Prob(Omnibus):                  0.541   Jarque-Bera (JB):                1.270\n",
       "Skew:                           0.227   Prob(JB):                        0.530\n",
       "Kurtosis:                       2.565   Cond. No.                         11.6\n",
       "==============================================================================\n",
       "\n",
       "Notes:\n",
       "[1] Standard Errors assume that the covariance matrix of the errors is correctly specified.\n",
       "\"\"\""
      ]
     },
     "execution_count": 58,
     "metadata": {},
     "output_type": "execute_result"
    }
   ],
   "source": [
    "model = smf.ols(data=df_desempenho_cluster, formula='np.log(desempenho) ~ c')\n",
    "result = model.fit()\n",
    "result.summary()"
   ]
  },
  {
   "cell_type": "code",
   "execution_count": 59,
   "id": "78c832c7",
   "metadata": {},
   "outputs": [
    {
     "data": {
      "image/png": "[encoded data removed]",
      "text/plain": [
       "<Figure size 432x288 with 1 Axes>"
      ]
     },
     "metadata": {},
     "output_type": "display_data"
    }
   ],
   "source": [
    "sns.regplot(x=np.log(df_desempenho_cluster['desempenho']), y=df_desempenho_cluster['c'])\n",
    "plt.show()"
   ]
  },
  {
   "cell_type": "code",
   "execution_count": null,
   "id": "3ba27cd7",
   "metadata": {},
   "outputs": [],
   "source": []
  }
 ],
 "metadata": {
  "kernelspec": {
   "display_name": "Python 3 (ipykernel)",
   "language": "python",
   "name": "python3"
  },
  "language_info": {
   "codemirror_mode": {
    "name": "ipython",
    "version": 3
   },
   "file_extension": ".py",
   "mimetype": "text/x-python",
   "name": "python",
   "nbconvert_exporter": "python",
   "pygments_lexer": "ipython3",
   "version": "3.7.11"
  }
 },
 "nbformat": 4,
 "nbformat_minor": 5
}
